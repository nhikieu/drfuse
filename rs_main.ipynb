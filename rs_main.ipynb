{
 "cells": [
  {
   "cell_type": "markdown",
   "metadata": {},
   "source": [
    "# Import"
   ]
  },
  {
   "cell_type": "code",
   "execution_count": 1,
   "metadata": {},
   "outputs": [
    {
     "name": "stderr",
     "output_type": "stream",
     "text": [
      "C:\\Users\\n10300759\\AppData\\Local\\Temp\\ipykernel_28524\\2494540655.py:7: TqdmWarning: IProgress not found. Please update jupyter and ipywidgets. See https://ipywidgets.readthedocs.io/en/stable/user_install.html\n",
      "  from tqdm.autonotebook import tqdm\n"
     ]
    }
   ],
   "source": [
    "from torch import nn\n",
    "import torch\n",
    "from models import DrFuse_RS_Model, DrFuse_RS_Trainer\n",
    "import time\n",
    "import os\n",
    "from torch.utils.data import Dataset, DataLoader\n",
    "from tqdm.autonotebook import tqdm\n",
    "import skimage.io as io\n",
    "import earthpy.spatial as es\n",
    "import numpy as np\n",
    "import random\n",
    "import wandb\n",
    "\n",
    "\n",
    "# Ensure deterministic behavior\n",
    "torch.backends.cudnn.deterministic = True\n",
    "random.seed(hash(\"setting random seeds\") % 2**32 - 1)\n",
    "np.random.seed(hash(\"improves reproducibility\") % 2**32 - 1)\n",
    "torch.manual_seed(hash(\"by removing stochasticity\") % 2**32 - 1)\n",
    "torch.cuda.manual_seed_all(hash(\"so runs are repeatable\") % 2**32 - 1)"
   ]
  },
  {
   "cell_type": "markdown",
   "metadata": {},
   "source": [
    "# Data"
   ]
  },
  {
   "cell_type": "code",
   "execution_count": 2,
   "metadata": {},
   "outputs": [
    {
     "name": "stdout",
     "output_type": "stream",
     "text": [
      "checkpoints\\1720752266\n"
     ]
    }
   ],
   "source": [
    "now = str(int(time.time()))\n",
    "\n",
    "EXPERIMENT_CONFIG = dict(\n",
    "    # window data folder\n",
    "    DATA_FOLDER = r'D:\\CarsSegmentationTroubleShoot\\data\\multimodal',\n",
    "    # mac data folder\n",
    "    # DATA_FOLDER = r'/Users/nhikieu/Documents/PhD/multimodal',\n",
    "    num_epoch = 100, \n",
    "    img_size = 512, \n",
    "    num_classes = 6,\n",
    "    input_channels = 5,\n",
    "    batch_size = 4,\n",
    "    checkpoint_pth = os.path.join('checkpoints', now),\n",
    "    update_optim_size = 32\n",
    "    )\n",
    "DEVICE = 'mps'\n",
    "\n",
    "print(EXPERIMENT_CONFIG['checkpoint_pth'])"
   ]
  },
  {
   "cell_type": "code",
   "execution_count": 3,
   "metadata": {},
   "outputs": [],
   "source": [
    "def rgb_to_class(mask_image):\n",
    "  class_map = {\n",
    "    (255,255,255): 0, \n",
    "    (0,0,255): 1, \n",
    "    (0,255,255): 2, \n",
    "    (0,255,0): 3, \n",
    "    (255,255,0): 4, \n",
    "    (255,0,0): 5\n",
    "  }\n",
    "\n",
    "  # Create a 3D numpy array that represents the RGB color of each pixel\n",
    "  rgb_data = mask_image.reshape(-1, 3)\n",
    "\n",
    "  # Create a 1D numpy array that represents the class label for each RGB color\n",
    "  class_labels = np.zeros(rgb_data.shape[0], dtype=np.uint8)\n",
    "  for rgb, class_label in class_map.items():\n",
    "      mask = np.all(rgb_data == np.array(rgb), axis=1)\n",
    "      class_labels[mask] = class_label\n",
    "\n",
    "  # Reshape the 1D class label array into a 2D class map\n",
    "  class_data = class_labels.reshape(mask_image.shape[:2])\n",
    "\n",
    "  return class_data\n",
    "\n",
    "\n",
    "class VaihingenDataset(Dataset):\n",
    "  def __init__(self, folder) -> None:\n",
    "    '''\n",
    "    folder: data path include both rgb img and gt\n",
    "    gt: 3 channels map with postfix '_gt'\n",
    "    '''\n",
    "    super().__init__()\n",
    "\n",
    "    self.imgs = []\n",
    "    self.gts = []\n",
    "\n",
    "    # get all filenames in the directory\n",
    "    filenames = os.listdir(os.path.join(folder, 'rgb'))\n",
    "\n",
    "    for f in tqdm(filenames):\n",
    "      img = io.imread(os.path.join(folder, 'rgb', f)) / 255.0\n",
    "     \n",
    "      ndsm = io.imread(os.path.join(folder, 'ndsm', f.split('.png')[0] + '_ndsm.tif'))\n",
    "      ndsm = np.expand_dims(ndsm, axis=2)\n",
    "    \n",
    "      input_4C = np.dstack((img, ndsm))\n",
    "\n",
    "      input_4C = torch.tensor(input_4C).permute((2, 0, 1))\n",
    "      \n",
    "      gt_path = os.path.join(folder, 'gt', f.split('.png')[0] + '_gt.png')\n",
    "      gt = io.imread(gt_path)\n",
    "      gt = rgb_to_class(gt)\n",
    "      gt = torch.tensor(gt).unsqueeze(0)\n",
    "\n",
    "      self.imgs.append(input_4C)\n",
    "      self.gts.append(gt)\n",
    "    \n",
    "\n",
    "  def __len__(self):\n",
    "    return len(self.imgs)\n",
    "  \n",
    "  def __getitem__(self, index):\n",
    "    input_4C = self.imgs[index].float()\n",
    "    gt = self.gts[index]\n",
    "\n",
    "    # mask_array = [True, False]\n",
    "    mask_index = np.random.choice(2, 1, p=[0.5, 0.5])\n",
    "    mask = torch.tensor(mask_index[0])\n",
    "\n",
    "    return input_4C, gt, mask"
   ]
  },
  {
   "cell_type": "code",
   "execution_count": 4,
   "metadata": {},
   "outputs": [
    {
     "name": "stderr",
     "output_type": "stream",
     "text": [
      "100%|██████████| 1620/1620 [02:14<00:00, 12.07it/s]\n",
      "100%|██████████| 120/120 [00:06<00:00, 18.79it/s]"
     ]
    },
    {
     "name": "stdout",
     "output_type": "stream",
     "text": [
      "Train samples: 1620\n",
      "Val samples: 120\n"
     ]
    },
    {
     "name": "stderr",
     "output_type": "stream",
     "text": [
      "\n"
     ]
    }
   ],
   "source": [
    "#Note that we are using ground truth in the folder '1CGT'. They are not RGB anymore, but one channel.\n",
    "training_dataset = VaihingenDataset(os.path.join(EXPERIMENT_CONFIG['DATA_FOLDER'], 'train'))\n",
    "validate_dataset = VaihingenDataset(os.path.join(EXPERIMENT_CONFIG['DATA_FOLDER'], 'val'))\n",
    "\n",
    "#Note that we shuffle the data for the training set, but not for the validation set:\n",
    "train_loader = DataLoader(dataset=training_dataset, batch_size=EXPERIMENT_CONFIG['batch_size'], shuffle=True, pin_memory=True)\n",
    "validate_loader = DataLoader(dataset=validate_dataset, batch_size=EXPERIMENT_CONFIG['batch_size'], shuffle=True, pin_memory=True)\n",
    "\n",
    "print(f'Train samples: {len(training_dataset)}')\n",
    "print(f'Val samples: {len(validate_dataset)}')"
   ]
  },
  {
   "cell_type": "markdown",
   "metadata": {},
   "source": [
    "# Train"
   ]
  },
  {
   "cell_type": "code",
   "execution_count": 5,
   "metadata": {},
   "outputs": [
    {
     "name": "stderr",
     "output_type": "stream",
     "text": [
      "Failed to detect the name of this notebook, you can set it manually with the WANDB_NOTEBOOK_NAME environment variable to enable code saving.\n",
      "\u001b[34m\u001b[1mwandb\u001b[0m: Currently logged in as: \u001b[33mnhikieu\u001b[0m (\u001b[33mqut_nhi_phd\u001b[0m). Use \u001b[1m`wandb login --relogin`\u001b[0m to force relogin\n"
     ]
    },
    {
     "data": {
      "text/plain": [
       "True"
      ]
     },
     "execution_count": 5,
     "metadata": {},
     "output_type": "execute_result"
    }
   ],
   "source": [
    "wandb.login()"
   ]
  },
  {
   "cell_type": "code",
   "execution_count": 6,
   "metadata": {},
   "outputs": [
    {
     "name": "stderr",
     "output_type": "stream",
     "text": [
      "\u001b[34m\u001b[1mwandb\u001b[0m: Currently logged in as: \u001b[33mnhikieu\u001b[0m. Use \u001b[1m`wandb login --relogin`\u001b[0m to force relogin\n"
     ]
    },
    {
     "data": {
      "text/html": [
       "Tracking run with wandb version 0.17.4"
      ],
      "text/plain": [
       "<IPython.core.display.HTML object>"
      ]
     },
     "metadata": {},
     "output_type": "display_data"
    },
    {
     "data": {
      "text/html": [
       "Run data is saved locally in <code>d:\\drfuse\\wandb\\run-20240712_124649-v002n3z6</code>"
      ],
      "text/plain": [
       "<IPython.core.display.HTML object>"
      ]
     },
     "metadata": {},
     "output_type": "display_data"
    },
    {
     "data": {
      "text/html": [
       "Syncing run <strong><a href='https://wandb.ai/nhikieu/drfuse/runs/v002n3z6' target=\"_blank\">toasty-wave-24</a></strong> to <a href='https://wandb.ai/nhikieu/drfuse' target=\"_blank\">Weights & Biases</a> (<a href='https://wandb.me/run' target=\"_blank\">docs</a>)<br/>"
      ],
      "text/plain": [
       "<IPython.core.display.HTML object>"
      ]
     },
     "metadata": {},
     "output_type": "display_data"
    },
    {
     "data": {
      "text/html": [
       " View project at <a href='https://wandb.ai/nhikieu/drfuse' target=\"_blank\">https://wandb.ai/nhikieu/drfuse</a>"
      ],
      "text/plain": [
       "<IPython.core.display.HTML object>"
      ]
     },
     "metadata": {},
     "output_type": "display_data"
    },
    {
     "data": {
      "text/html": [
       " View run at <a href='https://wandb.ai/nhikieu/drfuse/runs/v002n3z6' target=\"_blank\">https://wandb.ai/nhikieu/drfuse/runs/v002n3z6</a>"
      ],
      "text/plain": [
       "<IPython.core.display.HTML object>"
      ]
     },
     "metadata": {},
     "output_type": "display_data"
    },
    {
     "name": "stderr",
     "output_type": "stream",
     "text": [
      "  0%|          | 0/150 [00:00<?, ?it/s]d:\\drfuse\\models\\drfuse_rs.py:86: UserWarning: To copy construct from a tensor, it is recommended to use sourceTensor.clone().detach() or sourceTensor.clone().detach().requires_grad_(True), rather than torch.tensor(sourceTensor).\n",
      "  batch = (images.to(device), labels.to(device), torch.tensor(masks).to(device))\n",
      "d:\\drfuse\\drfuse_venv\\lib\\site-packages\\torch\\nn\\modules\\instancenorm.py:80: UserWarning: input's size at dim=0 does not match num_features. You can silence this warning by not passing in num_features, which is not used because affine=False\n",
      "  warnings.warn(f\"input's size at dim={feature_dim} does not match num_features. \"\n",
      "d:\\drfuse\\models\\drfuse_rs.py:106: UserWarning: To copy construct from a tensor, it is recommended to use sourceTensor.clone().detach() or sourceTensor.clone().detach().requires_grad_(True), rather than torch.tensor(sourceTensor).\n",
      "  batch = (images.to(device), labels.to(device), torch.tensor(masks).to(device))\n"
     ]
    },
    {
     "name": "stdout",
     "output_type": "stream",
     "text": [
      "Train loss after 00512 examples: 11088183296.000\n",
      "Val loss after 00512 examples: 6445973521.067\n",
      "Train loss after 01024 examples: 2580885504.000\n",
      "Val loss after 01024 examples: 2073264657.067\n",
      "Train loss after 01536 examples: 1284717952.000\n",
      "Val loss after 01536 examples: 1085414214.400\n",
      "Train loss after 01620 examples: 1110881408.000\n",
      "Val loss after 01620 examples: 1029348605.867\n"
     ]
    },
    {
     "name": "stderr",
     "output_type": "stream",
     "text": [
      "  1%|          | 1/150 [04:31<11:13:31, 271.22s/it]"
     ]
    },
    {
     "name": "stdout",
     "output_type": "stream",
     "text": [
      "Train loss after 02048 examples: 880023040.000\n",
      "Val loss after 02048 examples: 1001794568.533\n",
      "Train loss after 02560 examples: 504420704.000\n",
      "Val loss after 02560 examples: 417624156.800\n",
      "Train loss after 03072 examples: 319315744.000\n",
      "Val loss after 03072 examples: 284377454.933\n",
      "Train loss after 03240 examples: 258618768.000\n",
      "Val loss after 03240 examples: 272292181.867\n"
     ]
    },
    {
     "name": "stderr",
     "output_type": "stream",
     "text": [
      "  1%|▏         | 2/150 [08:58<11:03:21, 268.93s/it]"
     ]
    },
    {
     "name": "stdout",
     "output_type": "stream",
     "text": [
      "Train loss after 03584 examples: 204180224.000\n",
      "Val loss after 03584 examples: 189815491.733\n",
      "Train loss after 04096 examples: 158201056.000\n",
      "Val loss after 04096 examples: 155153621.867\n",
      "Train loss after 04608 examples: 142391072.000\n",
      "Val loss after 04608 examples: 140752885.600\n",
      "Train loss after 04860 examples: 134688192.000\n",
      "Val loss after 04860 examples: 137235742.667\n"
     ]
    },
    {
     "name": "stderr",
     "output_type": "stream",
     "text": [
      "  2%|▏         | 3/150 [13:26<10:57:58, 268.56s/it]"
     ]
    },
    {
     "name": "stdout",
     "output_type": "stream",
     "text": [
      "Train loss after 05120 examples: 138187792.000\n",
      "Val loss after 05120 examples: 134588769.067\n",
      "Train loss after 05632 examples: 119081360.000\n",
      "Val loss after 05632 examples: 141826856.267\n",
      "Train loss after 06144 examples: 118720288.000\n",
      "Val loss after 06144 examples: 105645864.000\n",
      "Train loss after 06480 examples: 82834032.000\n",
      "Val loss after 06480 examples: 89396688.800\n"
     ]
    },
    {
     "name": "stderr",
     "output_type": "stream",
     "text": [
      "  3%|▎         | 4/150 [17:54<10:52:28, 268.14s/it]"
     ]
    },
    {
     "name": "stdout",
     "output_type": "stream",
     "text": [
      "Train loss after 06656 examples: 99878264.000\n",
      "Val loss after 06656 examples: 75797482.400\n",
      "Train loss after 07168 examples: 66068716.000\n",
      "Val loss after 07168 examples: 55425581.200\n",
      "Train loss after 07680 examples: 50964980.000\n",
      "Val loss after 07680 examples: 47601668.400\n",
      "Train loss after 08100 examples: 40270628.000\n",
      "Val loss after 08100 examples: 41708670.667\n"
     ]
    },
    {
     "name": "stderr",
     "output_type": "stream",
     "text": [
      "  3%|▎         | 5/150 [22:23<10:48:57, 268.54s/it]"
     ]
    },
    {
     "name": "stdout",
     "output_type": "stream",
     "text": [
      "Train loss after 08192 examples: 43385552.000\n",
      "Val loss after 08192 examples: 39004582.000\n",
      "Train loss after 08704 examples: 32667198.000\n",
      "Val loss after 08704 examples: 33997388.867\n",
      "Train loss after 09216 examples: 26596310.000\n",
      "Val loss after 09216 examples: 27519572.533\n",
      "Train loss after 09720 examples: 26791284.000\n",
      "Val loss after 09720 examples: 25880512.600\n"
     ]
    },
    {
     "name": "stderr",
     "output_type": "stream",
     "text": [
      "  4%|▍         | 6/150 [26:51<10:44:00, 268.34s/it]"
     ]
    },
    {
     "name": "stdout",
     "output_type": "stream",
     "text": [
      "Train loss after 09728 examples: 25117512.000\n",
      "Val loss after 09728 examples: 25190996.867\n",
      "Train loss after 10240 examples: 23654514.000\n",
      "Val loss after 10240 examples: 23933405.933\n",
      "Train loss after 10752 examples: 23013888.000\n",
      "Val loss after 10752 examples: 23070927.467\n",
      "Train loss after 11264 examples: 20709098.000\n",
      "Val loss after 11264 examples: 22368756.333\n",
      "Train loss after 11340 examples: 21812080.000\n",
      "Val loss after 11340 examples: 22233556.733\n"
     ]
    },
    {
     "name": "stderr",
     "output_type": "stream",
     "text": [
      "  5%|▍         | 7/150 [31:58<11:10:09, 281.18s/it]"
     ]
    },
    {
     "name": "stdout",
     "output_type": "stream",
     "text": [
      "Train loss after 11776 examples: 22309138.000\n",
      "Val loss after 11776 examples: 22072959.333\n",
      "Train loss after 12288 examples: 20671856.000\n",
      "Val loss after 12288 examples: 22006984.400\n",
      "Train loss after 12800 examples: 19368228.000\n",
      "Val loss after 12800 examples: 20436005.800\n",
      "Train loss after 12960 examples: 20596308.000\n",
      "Val loss after 12960 examples: 18801250.200\n"
     ]
    },
    {
     "name": "stderr",
     "output_type": "stream",
     "text": [
      "  5%|▌         | 8/150 [36:52<11:14:38, 285.06s/it]"
     ]
    },
    {
     "name": "stdout",
     "output_type": "stream",
     "text": [
      "Train loss after 13312 examples: 18715856.000\n",
      "Val loss after 13312 examples: 16536037.333\n",
      "Train loss after 13824 examples: 13737565.000\n",
      "Val loss after 13824 examples: 14157934.533\n",
      "Train loss after 14336 examples: 12315080.000\n",
      "Val loss after 14336 examples: 11967390.900\n",
      "Train loss after 14580 examples: 11965720.000\n",
      "Val loss after 14580 examples: 11119931.933\n"
     ]
    },
    {
     "name": "stderr",
     "output_type": "stream",
     "text": [
      "  6%|▌         | 9/150 [41:46<11:16:33, 287.90s/it]"
     ]
    },
    {
     "name": "stdout",
     "output_type": "stream",
     "text": [
      "Train loss after 14848 examples: 10200839.000\n",
      "Val loss after 14848 examples: 10034809.800\n",
      "Train loss after 15360 examples: 8446391.000\n",
      "Val loss after 15360 examples: 8651307.083\n",
      "Train loss after 15872 examples: 7175384.000\n",
      "Val loss after 15872 examples: 7513788.717\n",
      "Train loss after 16200 examples: 6762860.500\n",
      "Val loss after 16200 examples: 6837476.667\n"
     ]
    },
    {
     "name": "stderr",
     "output_type": "stream",
     "text": [
      "  7%|▋         | 10/150 [46:38<11:14:54, 289.25s/it]"
     ]
    },
    {
     "name": "stdout",
     "output_type": "stream",
     "text": [
      "Train loss after 16384 examples: 6245785.500\n",
      "Val loss after 16384 examples: 6400871.233\n",
      "Train loss after 16896 examples: 6648713.000\n",
      "Val loss after 16896 examples: 5661165.833\n",
      "Train loss after 17408 examples: 4712547.500\n",
      "Val loss after 17408 examples: 4976042.267\n",
      "Train loss after 17820 examples: 4311215.000\n",
      "Val loss after 17820 examples: 4493402.642\n"
     ]
    },
    {
     "name": "stderr",
     "output_type": "stream",
     "text": [
      "  7%|▋         | 11/150 [51:30<11:11:39, 289.92s/it]"
     ]
    },
    {
     "name": "stdout",
     "output_type": "stream",
     "text": [
      "Train loss after 17920 examples: 4024333.000\n",
      "Val loss after 17920 examples: 4384422.900\n",
      "Train loss after 18432 examples: 3783522.250\n",
      "Val loss after 18432 examples: 4003437.292\n",
      "Train loss after 18944 examples: 3568574.250\n",
      "Val loss after 18944 examples: 3716976.433\n",
      "Train loss after 19440 examples: 3397797.500\n",
      "Val loss after 19440 examples: 3452649.283\n"
     ]
    },
    {
     "name": "stderr",
     "output_type": "stream",
     "text": [
      "  8%|▊         | 12/150 [56:22<11:08:18, 290.57s/it]"
     ]
    },
    {
     "name": "stdout",
     "output_type": "stream",
     "text": [
      "Train loss after 19456 examples: 3133954.250\n",
      "Val loss after 19456 examples: 3419833.067\n",
      "Train loss after 19968 examples: 3058236.750\n",
      "Val loss after 19968 examples: 3181833.792\n",
      "Train loss after 20480 examples: 2952219.750\n",
      "Val loss after 20480 examples: 3013117.000\n",
      "Train loss after 20992 examples: 2692179.500\n",
      "Val loss after 20992 examples: 2887683.842\n",
      "Train loss after 21060 examples: 2756034.750\n",
      "Val loss after 21060 examples: 2857938.425\n"
     ]
    },
    {
     "name": "stderr",
     "output_type": "stream",
     "text": [
      "  9%|▊         | 13/150 [1:01:32<11:17:04, 296.53s/it]"
     ]
    },
    {
     "name": "stdout",
     "output_type": "stream",
     "text": [
      "Train loss after 21504 examples: 2626709.250\n",
      "Val loss after 21504 examples: 2754655.733\n",
      "Train loss after 22016 examples: 2451512.250\n",
      "Val loss after 22016 examples: 2664816.192\n",
      "Train loss after 22528 examples: 2488009.250\n",
      "Val loss after 22528 examples: 2592219.542\n",
      "Train loss after 22680 examples: 2372624.000\n",
      "Val loss after 22680 examples: 2562860.525\n"
     ]
    },
    {
     "name": "stderr",
     "output_type": "stream",
     "text": [
      "  9%|▉         | 14/150 [1:06:23<11:08:34, 294.96s/it]"
     ]
    },
    {
     "name": "stdout",
     "output_type": "stream",
     "text": [
      "Train loss after 23040 examples: 2497427.500\n",
      "Val loss after 23040 examples: 2519051.967\n",
      "Train loss after 23552 examples: 2492315.750\n",
      "Val loss after 23552 examples: 2483022.475\n",
      "Train loss after 24064 examples: 2477671.250\n",
      "Val loss after 24064 examples: 2456374.850\n",
      "Train loss after 24300 examples: 2255308.750\n",
      "Val loss after 24300 examples: 2435549.875\n"
     ]
    },
    {
     "name": "stderr",
     "output_type": "stream",
     "text": [
      " 10%|█         | 15/150 [1:11:14<11:00:52, 293.72s/it]"
     ]
    },
    {
     "name": "stdout",
     "output_type": "stream",
     "text": [
      "Train loss after 24576 examples: 2211194.500\n",
      "Val loss after 24576 examples: 2429630.692\n",
      "Train loss after 25088 examples: 2246881.500\n",
      "Val loss after 25088 examples: 2418249.850\n",
      "Train loss after 25600 examples: 2254205.500\n",
      "Val loss after 25600 examples: 2417824.008\n",
      "Train loss after 25920 examples: 2243096.250\n",
      "Val loss after 25920 examples: 2403361.350\n"
     ]
    },
    {
     "name": "stderr",
     "output_type": "stream",
     "text": [
      " 11%|█         | 16/150 [1:16:06<10:54:40, 293.13s/it]"
     ]
    },
    {
     "name": "stdout",
     "output_type": "stream",
     "text": [
      "Train loss after 26112 examples: 2799335.250\n",
      "Val loss after 26112 examples: 2402757.417\n",
      "Train loss after 26624 examples: 2546106.000\n",
      "Val loss after 26624 examples: 2415281.633\n",
      "Train loss after 27136 examples: 2054431.625\n",
      "Val loss after 27136 examples: 2200020.992\n",
      "Train loss after 27540 examples: 1999011.875\n",
      "Val loss after 27540 examples: 2005667.000\n"
     ]
    },
    {
     "name": "stderr",
     "output_type": "stream",
     "text": [
      " 11%|█▏        | 17/150 [1:20:57<10:48:19, 292.47s/it]"
     ]
    },
    {
     "name": "stdout",
     "output_type": "stream",
     "text": [
      "Train loss after 27648 examples: 1827876.375\n",
      "Val loss after 27648 examples: 1963405.646\n",
      "Train loss after 28160 examples: 1795464.750\n",
      "Val loss after 28160 examples: 1749102.267\n",
      "Train loss after 28672 examples: 1642117.125\n",
      "Val loss after 28672 examples: 1591686.671\n",
      "Train loss after 29160 examples: 1426555.375\n",
      "Val loss after 29160 examples: 1455735.667\n"
     ]
    },
    {
     "name": "stderr",
     "output_type": "stream",
     "text": [
      " 12%|█▏        | 18/150 [1:25:48<10:42:13, 291.92s/it]"
     ]
    },
    {
     "name": "stdout",
     "output_type": "stream",
     "text": [
      "Train loss after 29184 examples: 1283645.375\n",
      "Val loss after 29184 examples: 1432517.075\n",
      "Train loss after 29696 examples: 1324337.500\n",
      "Val loss after 29696 examples: 1296245.992\n",
      "Train loss after 30208 examples: 1168525.750\n",
      "Val loss after 30208 examples: 1207323.954\n",
      "Train loss after 30720 examples: 1097886.625\n",
      "Val loss after 30720 examples: 1124076.569\n",
      "Train loss after 30780 examples: 1025766.938\n",
      "Val loss after 30780 examples: 1096052.877\n"
     ]
    },
    {
     "name": "stderr",
     "output_type": "stream",
     "text": [
      " 13%|█▎        | 19/150 [1:30:56<10:48:26, 297.00s/it]"
     ]
    },
    {
     "name": "stdout",
     "output_type": "stream",
     "text": [
      "Train loss after 31232 examples: 960750.938\n",
      "Val loss after 31232 examples: 1018166.802\n",
      "Train loss after 31744 examples: 874520.375\n",
      "Val loss after 31744 examples: 961688.642\n",
      "Train loss after 32256 examples: 867148.188\n",
      "Val loss after 32256 examples: 898973.702\n",
      "Train loss after 32400 examples: 983305.438\n",
      "Val loss after 32400 examples: 891459.831\n"
     ]
    },
    {
     "name": "stderr",
     "output_type": "stream",
     "text": [
      " 13%|█▎        | 20/150 [1:35:48<10:40:05, 295.43s/it]"
     ]
    },
    {
     "name": "stdout",
     "output_type": "stream",
     "text": [
      "Train loss after 32768 examples: 766604.500\n",
      "Val loss after 32768 examples: 846538.456\n",
      "Train loss after 33280 examples: 775456.188\n",
      "Val loss after 33280 examples: 813008.740\n",
      "Train loss after 33792 examples: 709465.438\n",
      "Val loss after 33792 examples: 777056.233\n",
      "Train loss after 34020 examples: 740710.562\n",
      "Val loss after 34020 examples: 764874.088\n"
     ]
    },
    {
     "name": "stderr",
     "output_type": "stream",
     "text": [
      " 14%|█▍        | 21/150 [1:40:39<10:32:13, 294.06s/it]"
     ]
    },
    {
     "name": "stdout",
     "output_type": "stream",
     "text": [
      "Train loss after 34304 examples: 667738.750\n",
      "Val loss after 34304 examples: 720858.671\n",
      "Train loss after 34816 examples: 669523.000\n",
      "Val loss after 34816 examples: 701345.412\n",
      "Train loss after 35328 examples: 692384.938\n",
      "Val loss after 35328 examples: 662992.652\n",
      "Train loss after 35640 examples: 618886.312\n",
      "Val loss after 35640 examples: 644777.331\n"
     ]
    },
    {
     "name": "stderr",
     "output_type": "stream",
     "text": [
      " 15%|█▍        | 22/150 [1:45:29<10:24:40, 292.82s/it]"
     ]
    },
    {
     "name": "stdout",
     "output_type": "stream",
     "text": [
      "Train loss after 35840 examples: 562441.750\n",
      "Val loss after 35840 examples: 634326.002\n",
      "Train loss after 36352 examples: 574629.438\n",
      "Val loss after 36352 examples: 608821.306\n",
      "Train loss after 36864 examples: 657384.750\n",
      "Val loss after 36864 examples: 588127.748\n",
      "Train loss after 37260 examples: 504588.594\n",
      "Val loss after 37260 examples: 565620.025\n"
     ]
    },
    {
     "name": "stderr",
     "output_type": "stream",
     "text": [
      " 15%|█▌        | 23/150 [1:50:20<10:18:54, 292.40s/it]"
     ]
    },
    {
     "name": "stdout",
     "output_type": "stream",
     "text": [
      "Train loss after 37376 examples: 549295.375\n",
      "Val loss after 37376 examples: 565215.624\n",
      "Train loss after 37888 examples: 493547.438\n",
      "Val loss after 37888 examples: 545915.077\n",
      "Train loss after 38400 examples: 513419.438\n",
      "Val loss after 38400 examples: 531220.259\n",
      "Train loss after 38880 examples: 472396.250\n",
      "Val loss after 38880 examples: 511190.404\n"
     ]
    },
    {
     "name": "stderr",
     "output_type": "stream",
     "text": [
      " 16%|█▌        | 24/150 [1:55:12<10:13:22, 292.08s/it]"
     ]
    },
    {
     "name": "stdout",
     "output_type": "stream",
     "text": [
      "Train loss after 38912 examples: 491713.594\n",
      "Val loss after 38912 examples: 512992.336\n",
      "Train loss after 39424 examples: 459640.844\n",
      "Val loss after 39424 examples: 497092.690\n",
      "Train loss after 39936 examples: 437685.875\n",
      "Val loss after 39936 examples: 487807.608\n",
      "Train loss after 40448 examples: 409616.062\n",
      "Val loss after 40448 examples: 475703.111\n",
      "Train loss after 40500 examples: 436528.219\n",
      "Val loss after 40500 examples: 473455.165\n"
     ]
    },
    {
     "name": "stderr",
     "output_type": "stream",
     "text": [
      " 17%|█▋        | 25/150 [2:00:21<10:19:18, 297.27s/it]"
     ]
    },
    {
     "name": "stdout",
     "output_type": "stream",
     "text": [
      "Train loss after 40960 examples: 437533.531\n",
      "Val loss after 40960 examples: 465203.761\n",
      "Train loss after 41472 examples: 444688.219\n",
      "Val loss after 41472 examples: 454583.821\n",
      "Train loss after 41984 examples: 479566.250\n",
      "Val loss after 41984 examples: 446260.027\n",
      "Train loss after 42120 examples: 423624.000\n",
      "Val loss after 42120 examples: 442488.692\n"
     ]
    },
    {
     "name": "stderr",
     "output_type": "stream",
     "text": [
      " 17%|█▋        | 26/150 [2:05:13<10:10:51, 295.57s/it]"
     ]
    },
    {
     "name": "stdout",
     "output_type": "stream",
     "text": [
      "Train loss after 42496 examples: 454792.344\n",
      "Val loss after 42496 examples: 436364.035\n",
      "Train loss after 43008 examples: 401028.812\n",
      "Val loss after 43008 examples: 430976.569\n",
      "Train loss after 43520 examples: 387886.062\n",
      "Val loss after 43520 examples: 423999.928\n",
      "Train loss after 43740 examples: 402499.938\n",
      "Val loss after 43740 examples: 421522.862\n"
     ]
    },
    {
     "name": "stderr",
     "output_type": "stream",
     "text": [
      " 18%|█▊        | 27/150 [2:10:03<10:02:57, 294.12s/it]"
     ]
    },
    {
     "name": "stdout",
     "output_type": "stream",
     "text": [
      "Train loss after 44032 examples: 400980.125\n",
      "Val loss after 44032 examples: 416295.793\n",
      "Train loss after 44544 examples: 383201.375\n",
      "Val loss after 44544 examples: 412531.286\n",
      "Train loss after 45056 examples: 415568.438\n",
      "Val loss after 45056 examples: 407642.928\n",
      "Train loss after 45360 examples: 370185.312\n",
      "Val loss after 45360 examples: 402842.774\n"
     ]
    },
    {
     "name": "stderr",
     "output_type": "stream",
     "text": [
      " 19%|█▊        | 28/150 [2:14:53<9:55:18, 292.77s/it] "
     ]
    },
    {
     "name": "stdout",
     "output_type": "stream",
     "text": [
      "Train loss after 45568 examples: 395476.375\n",
      "Val loss after 45568 examples: 401460.665\n",
      "Train loss after 46080 examples: 386478.344\n",
      "Val loss after 46080 examples: 398006.510\n",
      "Train loss after 46592 examples: 387226.750\n",
      "Val loss after 46592 examples: 394241.889\n",
      "Train loss after 46980 examples: 397318.312\n",
      "Val loss after 46980 examples: 392043.776\n"
     ]
    },
    {
     "name": "stderr",
     "output_type": "stream",
     "text": [
      " 19%|█▉        | 29/150 [2:19:44<9:49:08, 292.13s/it]"
     ]
    },
    {
     "name": "stdout",
     "output_type": "stream",
     "text": [
      "Train loss after 47104 examples: 363004.062\n",
      "Val loss after 47104 examples: 391375.616\n",
      "Train loss after 47616 examples: 359918.594\n",
      "Val loss after 47616 examples: 388403.635\n",
      "Train loss after 48128 examples: 370388.094\n",
      "Val loss after 48128 examples: 387117.594\n",
      "Train loss after 48600 examples: 405540.594\n",
      "Val loss after 48600 examples: 383437.582\n"
     ]
    },
    {
     "name": "stderr",
     "output_type": "stream",
     "text": [
      " 20%|██        | 30/150 [2:24:35<9:43:34, 291.79s/it]"
     ]
    },
    {
     "name": "stdout",
     "output_type": "stream",
     "text": [
      "Train loss after 48640 examples: 353400.938\n",
      "Val loss after 48640 examples: 382945.452\n",
      "Train loss after 49152 examples: 353220.688\n",
      "Val loss after 49152 examples: 384152.830\n",
      "Train loss after 49664 examples: 358460.656\n",
      "Val loss after 49664 examples: 382228.758\n",
      "Train loss after 50176 examples: 449147.125\n",
      "Val loss after 50176 examples: 381392.741\n",
      "Train loss after 50220 examples: 338903.125\n",
      "Val loss after 50220 examples: 378646.760\n"
     ]
    },
    {
     "name": "stderr",
     "output_type": "stream",
     "text": [
      " 21%|██        | 31/150 [2:29:44<9:49:01, 296.99s/it]"
     ]
    },
    {
     "name": "stdout",
     "output_type": "stream",
     "text": [
      "Train loss after 50688 examples: 375347.375\n",
      "Val loss after 50688 examples: 379031.496\n",
      "Train loss after 51200 examples: 352945.375\n",
      "Val loss after 51200 examples: 377919.609\n",
      "Train loss after 51712 examples: 342383.938\n",
      "Val loss after 51712 examples: 375924.723\n"
     ]
    },
    {
     "name": "stderr",
     "output_type": "stream",
     "text": [
      " 21%|██▏       | 32/150 [2:34:33<9:39:47, 294.81s/it]"
     ]
    },
    {
     "name": "stdout",
     "output_type": "stream",
     "text": [
      "Train loss after 51840 examples: 354297.500\n",
      "Val loss after 51840 examples: 376794.398\n",
      "Train loss after 52224 examples: 328204.500\n",
      "Val loss after 52224 examples: 375226.816\n",
      "Train loss after 52736 examples: 337653.438\n",
      "Val loss after 52736 examples: 374357.545\n",
      "Train loss after 53248 examples: 368518.281\n",
      "Val loss after 53248 examples: 375500.886\n"
     ]
    },
    {
     "name": "stderr",
     "output_type": "stream",
     "text": [
      " 22%|██▏       | 33/150 [2:39:23<9:32:03, 293.36s/it]"
     ]
    },
    {
     "name": "stdout",
     "output_type": "stream",
     "text": [
      "Train loss after 53460 examples: 336979.906\n",
      "Val loss after 53460 examples: 376565.004\n",
      "Train loss after 53760 examples: 344585.344\n",
      "Val loss after 53760 examples: 375878.884\n",
      "Train loss after 54272 examples: 352110.844\n",
      "Val loss after 54272 examples: 375095.381\n",
      "Train loss after 54784 examples: 408784.094\n",
      "Val loss after 54784 examples: 375048.692\n"
     ]
    },
    {
     "name": "stderr",
     "output_type": "stream",
     "text": [
      " 23%|██▎       | 34/150 [2:44:13<9:25:06, 292.30s/it]"
     ]
    },
    {
     "name": "stdout",
     "output_type": "stream",
     "text": [
      "Train loss after 55080 examples: 344374.438\n",
      "Val loss after 55080 examples: 375151.950\n",
      "Train loss after 55296 examples: 376511.469\n",
      "Val loss after 55296 examples: 375422.640\n",
      "Train loss after 55808 examples: 332026.344\n",
      "Val loss after 55808 examples: 377346.287\n",
      "Train loss after 56320 examples: 325299.625\n",
      "Val loss after 56320 examples: 347928.755\n",
      "Train loss after 56700 examples: 345178.656\n",
      "Val loss after 56700 examples: 343167.443\n"
     ]
    },
    {
     "name": "stderr",
     "output_type": "stream",
     "text": [
      " 23%|██▎       | 35/150 [2:49:04<9:19:32, 291.93s/it]"
     ]
    },
    {
     "name": "stdout",
     "output_type": "stream",
     "text": [
      "Train loss after 56832 examples: 312778.594\n",
      "Val loss after 56832 examples: 340707.165\n",
      "Train loss after 57344 examples: 316684.562\n",
      "Val loss after 57344 examples: 328952.995\n",
      "Train loss after 57856 examples: 334078.094\n",
      "Val loss after 57856 examples: 309785.322\n",
      "Train loss after 58320 examples: 304103.781\n",
      "Val loss after 58320 examples: 297820.192\n"
     ]
    },
    {
     "name": "stderr",
     "output_type": "stream",
     "text": [
      " 24%|██▍       | 36/150 [2:53:56<9:14:31, 291.86s/it]"
     ]
    },
    {
     "name": "stdout",
     "output_type": "stream",
     "text": [
      "Train loss after 58368 examples: 262298.562\n",
      "Val loss after 58368 examples: 296507.549\n",
      "Train loss after 58880 examples: 278461.312\n",
      "Val loss after 58880 examples: 291858.107\n",
      "Train loss after 59392 examples: 269406.750\n",
      "Val loss after 59392 examples: 280856.004\n",
      "Train loss after 59904 examples: 255292.562\n",
      "Val loss after 59904 examples: 268075.346\n",
      "Train loss after 59940 examples: 251974.219\n",
      "Val loss after 59940 examples: 264373.340\n"
     ]
    },
    {
     "name": "stderr",
     "output_type": "stream",
     "text": [
      " 25%|██▍       | 37/150 [2:59:06<9:19:37, 297.14s/it]"
     ]
    },
    {
     "name": "stdout",
     "output_type": "stream",
     "text": [
      "Train loss after 60416 examples: 255167.016\n",
      "Val loss after 60416 examples: 255573.188\n",
      "Train loss after 60928 examples: 253059.453\n",
      "Val loss after 60928 examples: 246957.124\n",
      "Train loss after 61440 examples: 231335.797\n",
      "Val loss after 61440 examples: 243216.821\n",
      "Train loss after 61560 examples: 245626.000\n",
      "Val loss after 61560 examples: 239153.554\n"
     ]
    },
    {
     "name": "stderr",
     "output_type": "stream",
     "text": [
      " 25%|██▌       | 38/150 [3:03:57<9:11:40, 295.54s/it]"
     ]
    },
    {
     "name": "stdout",
     "output_type": "stream",
     "text": [
      "Train loss after 61952 examples: 240393.469\n",
      "Val loss after 61952 examples: 233865.654\n",
      "Train loss after 62464 examples: 230379.922\n",
      "Val loss after 62464 examples: 236863.942\n",
      "Train loss after 62976 examples: 204099.438\n",
      "Val loss after 62976 examples: 226281.773\n",
      "Train loss after 63180 examples: 209097.031\n",
      "Val loss after 63180 examples: 215396.432\n"
     ]
    },
    {
     "name": "stderr",
     "output_type": "stream",
     "text": [
      " 26%|██▌       | 39/150 [3:08:49<9:04:42, 294.44s/it]"
     ]
    },
    {
     "name": "stdout",
     "output_type": "stream",
     "text": [
      "Train loss after 63488 examples: 193083.484\n",
      "Val loss after 63488 examples: 218445.520\n",
      "Train loss after 64000 examples: 203283.953\n",
      "Val loss after 64000 examples: 210117.071\n",
      "Train loss after 64512 examples: 195562.266\n",
      "Val loss after 64512 examples: 202670.840\n",
      "Train loss after 64800 examples: 203113.516\n",
      "Val loss after 64800 examples: 211203.319\n"
     ]
    },
    {
     "name": "stderr",
     "output_type": "stream",
     "text": [
      " 27%|██▋       | 40/150 [3:13:40<8:57:59, 293.45s/it]"
     ]
    },
    {
     "name": "stdout",
     "output_type": "stream",
     "text": [
      "Train loss after 65024 examples: 200085.531\n",
      "Val loss after 65024 examples: 194334.811\n",
      "Train loss after 65536 examples: 196577.219\n",
      "Val loss after 65536 examples: 191424.359\n",
      "Train loss after 66048 examples: 181716.953\n",
      "Val loss after 66048 examples: 200357.317\n"
     ]
    },
    {
     "name": "stderr",
     "output_type": "stream",
     "text": [
      " 27%|██▋       | 41/150 [3:18:31<8:51:42, 292.68s/it]"
     ]
    },
    {
     "name": "stdout",
     "output_type": "stream",
     "text": [
      "Train loss after 66420 examples: 173147.562\n",
      "Val loss after 66420 examples: 191469.511\n",
      "Train loss after 66560 examples: 190832.234\n",
      "Val loss after 66560 examples: 181404.128\n",
      "Train loss after 67072 examples: 193490.734\n",
      "Val loss after 67072 examples: 182193.013\n",
      "Train loss after 67584 examples: 178247.609\n",
      "Val loss after 67584 examples: 177325.423\n",
      "Train loss after 68040 examples: 156711.859\n",
      "Val loss after 68040 examples: 174958.217\n"
     ]
    },
    {
     "name": "stderr",
     "output_type": "stream",
     "text": [
      " 28%|██▊       | 42/150 [3:23:23<8:46:31, 292.51s/it]"
     ]
    },
    {
     "name": "stdout",
     "output_type": "stream",
     "text": [
      "Train loss after 68096 examples: 161196.562\n",
      "Val loss after 68096 examples: 175106.910\n",
      "Train loss after 68608 examples: 159526.953\n",
      "Val loss after 68608 examples: 171743.321\n",
      "Train loss after 69120 examples: 147070.375\n",
      "Val loss after 69120 examples: 164688.502\n",
      "Train loss after 69632 examples: 157892.438\n",
      "Val loss after 69632 examples: 165124.358\n",
      "Train loss after 69660 examples: 156503.000\n",
      "Val loss after 69660 examples: 160570.518\n"
     ]
    },
    {
     "name": "stderr",
     "output_type": "stream",
     "text": [
      " 29%|██▊       | 43/150 [3:28:32<8:50:03, 297.23s/it]"
     ]
    },
    {
     "name": "stdout",
     "output_type": "stream",
     "text": [
      "Train loss after 70144 examples: 151119.031\n",
      "Val loss after 70144 examples: 156766.149\n",
      "Train loss after 70656 examples: 140748.594\n",
      "Val loss after 70656 examples: 153064.099\n",
      "Train loss after 71168 examples: 157480.094\n",
      "Val loss after 71168 examples: 150700.158\n",
      "Train loss after 71280 examples: 138238.453\n",
      "Val loss after 71280 examples: 147826.600\n"
     ]
    },
    {
     "name": "stderr",
     "output_type": "stream",
     "text": [
      " 29%|██▉       | 44/150 [3:33:24<8:42:39, 295.85s/it]"
     ]
    },
    {
     "name": "stdout",
     "output_type": "stream",
     "text": [
      "Train loss after 71680 examples: 139735.516\n",
      "Val loss after 71680 examples: 151076.495\n",
      "Train loss after 72192 examples: 146642.641\n",
      "Val loss after 72192 examples: 150264.556\n",
      "Train loss after 72704 examples: 136416.359\n",
      "Val loss after 72704 examples: 144445.504\n",
      "Train loss after 72900 examples: 128584.031\n",
      "Val loss after 72900 examples: 138397.078\n"
     ]
    },
    {
     "name": "stderr",
     "output_type": "stream",
     "text": [
      " 30%|███       | 45/150 [3:38:15<8:35:19, 294.47s/it]"
     ]
    },
    {
     "name": "stdout",
     "output_type": "stream",
     "text": [
      "Train loss after 73216 examples: 139071.016\n",
      "Val loss after 73216 examples: 136724.514\n",
      "Train loss after 73728 examples: 123756.312\n",
      "Val loss after 73728 examples: 136323.456\n",
      "Train loss after 74240 examples: 134335.109\n",
      "Val loss after 74240 examples: 134624.315\n",
      "Train loss after 74520 examples: 134873.844\n",
      "Val loss after 74520 examples: 134101.939\n"
     ]
    },
    {
     "name": "stderr",
     "output_type": "stream",
     "text": [
      " 31%|███       | 46/150 [3:43:09<8:29:49, 294.13s/it]"
     ]
    },
    {
     "name": "stdout",
     "output_type": "stream",
     "text": [
      "Train loss after 74752 examples: 123091.547\n",
      "Val loss after 74752 examples: 132744.212\n",
      "Train loss after 75264 examples: 134068.062\n",
      "Val loss after 75264 examples: 131004.362\n",
      "Train loss after 75776 examples: 130617.320\n",
      "Val loss after 75776 examples: 126628.088\n",
      "Train loss after 76140 examples: 119039.719\n",
      "Val loss after 76140 examples: 125473.468\n"
     ]
    },
    {
     "name": "stderr",
     "output_type": "stream",
     "text": [
      " 31%|███▏      | 47/150 [3:48:00<8:23:39, 293.39s/it]"
     ]
    },
    {
     "name": "stdout",
     "output_type": "stream",
     "text": [
      "Train loss after 76288 examples: 136450.375\n",
      "Val loss after 76288 examples: 124561.332\n",
      "Train loss after 76800 examples: 123679.203\n",
      "Val loss after 76800 examples: 123659.217\n",
      "Train loss after 77312 examples: 115970.836\n",
      "Val loss after 77312 examples: 120942.401\n",
      "Train loss after 77760 examples: 111172.023\n",
      "Val loss after 77760 examples: 120407.021\n"
     ]
    },
    {
     "name": "stderr",
     "output_type": "stream",
     "text": [
      " 32%|███▏      | 48/150 [3:52:52<8:17:51, 292.86s/it]"
     ]
    },
    {
     "name": "stdout",
     "output_type": "stream",
     "text": [
      "Train loss after 77824 examples: 114631.297\n",
      "Val loss after 77824 examples: 119361.536\n",
      "Train loss after 78336 examples: 111125.656\n",
      "Val loss after 78336 examples: 117384.910\n",
      "Train loss after 78848 examples: 108147.375\n",
      "Val loss after 78848 examples: 116219.083\n",
      "Train loss after 79360 examples: 104710.609\n",
      "Val loss after 79360 examples: 114154.971\n",
      "Train loss after 79380 examples: 107488.133\n",
      "Val loss after 79380 examples: 114117.361\n"
     ]
    },
    {
     "name": "stderr",
     "output_type": "stream",
     "text": [
      " 33%|███▎      | 49/150 [3:58:02<8:21:49, 298.12s/it]"
     ]
    },
    {
     "name": "stdout",
     "output_type": "stream",
     "text": [
      "Train loss after 79872 examples: 105378.555\n",
      "Val loss after 79872 examples: 111903.516\n",
      "Train loss after 80384 examples: 102351.961\n",
      "Val loss after 80384 examples: 111046.109\n",
      "Train loss after 80896 examples: 107265.789\n",
      "Val loss after 80896 examples: 110154.923\n",
      "Train loss after 81000 examples: 109477.148\n",
      "Val loss after 81000 examples: 109964.205\n"
     ]
    },
    {
     "name": "stderr",
     "output_type": "stream",
     "text": [
      " 33%|███▎      | 50/150 [4:02:55<8:14:14, 296.54s/it]"
     ]
    },
    {
     "name": "stdout",
     "output_type": "stream",
     "text": [
      "Train loss after 81408 examples: 113083.844\n",
      "Val loss after 81408 examples: 109315.851\n",
      "Train loss after 81920 examples: 105605.211\n",
      "Val loss after 81920 examples: 107260.192\n",
      "Train loss after 82432 examples: 98540.352\n",
      "Val loss after 82432 examples: 105950.173\n",
      "Train loss after 82620 examples: 104121.562\n",
      "Val loss after 82620 examples: 105582.727\n"
     ]
    },
    {
     "name": "stderr",
     "output_type": "stream",
     "text": [
      " 34%|███▍      | 51/150 [4:07:51<8:09:00, 296.37s/it]"
     ]
    },
    {
     "name": "stdout",
     "output_type": "stream",
     "text": [
      "Train loss after 82944 examples: 93816.602\n",
      "Val loss after 82944 examples: 104599.766\n",
      "Train loss after 83456 examples: 94055.516\n",
      "Val loss after 83456 examples: 104800.941\n",
      "Train loss after 83968 examples: 108895.148\n",
      "Val loss after 83968 examples: 104062.857\n",
      "Train loss after 84240 examples: 106445.578\n",
      "Val loss after 84240 examples: 104393.312\n"
     ]
    },
    {
     "name": "stderr",
     "output_type": "stream",
     "text": [
      " 35%|███▍      | 52/150 [4:12:44<8:02:17, 295.28s/it]"
     ]
    },
    {
     "name": "stdout",
     "output_type": "stream",
     "text": [
      "Train loss after 84480 examples: 96956.203\n",
      "Val loss after 84480 examples: 101627.879\n",
      "Train loss after 84992 examples: 100402.336\n",
      "Val loss after 84992 examples: 101030.201\n",
      "Train loss after 85504 examples: 91126.406\n",
      "Val loss after 85504 examples: 101417.681\n",
      "Train loss after 85860 examples: 93392.734\n",
      "Val loss after 85860 examples: 99746.847\n"
     ]
    },
    {
     "name": "stderr",
     "output_type": "stream",
     "text": [
      " 35%|███▌      | 53/150 [4:17:39<7:57:13, 295.19s/it]"
     ]
    },
    {
     "name": "stdout",
     "output_type": "stream",
     "text": [
      "Train loss after 86016 examples: 96827.148\n",
      "Val loss after 86016 examples: 99518.785\n",
      "Train loss after 86528 examples: 92460.797\n",
      "Val loss after 86528 examples: 99150.659\n",
      "Train loss after 87040 examples: 99458.711\n",
      "Val loss after 87040 examples: 98052.705\n",
      "Train loss after 87480 examples: 90635.570\n",
      "Val loss after 87480 examples: 96976.136\n"
     ]
    },
    {
     "name": "stderr",
     "output_type": "stream",
     "text": [
      " 36%|███▌      | 54/150 [4:22:33<7:51:36, 294.75s/it]"
     ]
    },
    {
     "name": "stdout",
     "output_type": "stream",
     "text": [
      "Train loss after 87552 examples: 85735.875\n",
      "Val loss after 87552 examples: 97181.250\n",
      "Train loss after 88064 examples: 100097.102\n",
      "Val loss after 88064 examples: 96521.493\n",
      "Train loss after 88576 examples: 92652.797\n",
      "Val loss after 88576 examples: 95523.936\n",
      "Train loss after 89088 examples: 93140.867\n",
      "Val loss after 89088 examples: 95187.959\n",
      "Train loss after 89100 examples: 94573.672\n",
      "Val loss after 89100 examples: 95424.813\n"
     ]
    },
    {
     "name": "stderr",
     "output_type": "stream",
     "text": [
      " 37%|███▋      | 55/150 [4:27:43<7:54:10, 299.48s/it]"
     ]
    },
    {
     "name": "stdout",
     "output_type": "stream",
     "text": [
      "Train loss after 89600 examples: 93845.648\n",
      "Val loss after 89600 examples: 93975.630\n",
      "Train loss after 90112 examples: 94295.320\n",
      "Val loss after 90112 examples: 94410.465\n",
      "Train loss after 90624 examples: 87521.766\n",
      "Val loss after 90624 examples: 93363.004\n",
      "Train loss after 90720 examples: 86572.453\n",
      "Val loss after 90720 examples: 93383.421\n"
     ]
    },
    {
     "name": "stderr",
     "output_type": "stream",
     "text": [
      " 37%|███▋      | 56/150 [4:32:36<7:45:47, 297.31s/it]"
     ]
    },
    {
     "name": "stdout",
     "output_type": "stream",
     "text": [
      "Train loss after 91136 examples: 84933.461\n",
      "Val loss after 91136 examples: 93313.778\n",
      "Train loss after 91648 examples: 83716.039\n",
      "Val loss after 91648 examples: 91589.651\n",
      "Train loss after 92160 examples: 86030.375\n",
      "Val loss after 92160 examples: 91048.964\n",
      "Train loss after 92340 examples: 81446.742\n",
      "Val loss after 92340 examples: 91834.746\n"
     ]
    },
    {
     "name": "stderr",
     "output_type": "stream",
     "text": [
      " 38%|███▊      | 57/150 [4:37:28<7:38:27, 295.78s/it]"
     ]
    },
    {
     "name": "stdout",
     "output_type": "stream",
     "text": [
      "Train loss after 92672 examples: 84857.203\n",
      "Val loss after 92672 examples: 90813.168\n",
      "Train loss after 93184 examples: 88767.289\n",
      "Val loss after 93184 examples: 90641.151\n",
      "Train loss after 93696 examples: 89908.383\n",
      "Val loss after 93696 examples: 90586.253\n",
      "Train loss after 93960 examples: 85667.172\n",
      "Val loss after 93960 examples: 90673.486\n"
     ]
    },
    {
     "name": "stderr",
     "output_type": "stream",
     "text": [
      " 39%|███▊      | 58/150 [4:42:19<7:31:39, 294.56s/it]"
     ]
    },
    {
     "name": "stdout",
     "output_type": "stream",
     "text": [
      "Train loss after 94208 examples: 83166.172\n",
      "Val loss after 94208 examples: 89544.367\n",
      "Train loss after 94720 examples: 82244.430\n",
      "Val loss after 94720 examples: 89172.992\n",
      "Train loss after 95232 examples: 80421.070\n",
      "Val loss after 95232 examples: 88638.466\n",
      "Train loss after 95580 examples: 84384.086\n",
      "Val loss after 95580 examples: 88604.197\n"
     ]
    },
    {
     "name": "stderr",
     "output_type": "stream",
     "text": [
      " 39%|███▉      | 59/150 [4:47:12<7:25:38, 293.83s/it]"
     ]
    },
    {
     "name": "stdout",
     "output_type": "stream",
     "text": [
      "Train loss after 95744 examples: 86534.656\n",
      "Val loss after 95744 examples: 88473.780\n",
      "Train loss after 96256 examples: 87038.727\n",
      "Val loss after 96256 examples: 87800.707\n",
      "Train loss after 96768 examples: 90139.281\n",
      "Val loss after 96768 examples: 88449.880\n",
      "Train loss after 97200 examples: 80695.328\n",
      "Val loss after 97200 examples: 88028.708\n"
     ]
    },
    {
     "name": "stderr",
     "output_type": "stream",
     "text": [
      " 40%|████      | 60/150 [4:52:04<7:20:07, 293.41s/it]"
     ]
    },
    {
     "name": "stdout",
     "output_type": "stream",
     "text": [
      "Train loss after 97280 examples: 89754.242\n",
      "Val loss after 97280 examples: 88055.601\n",
      "Train loss after 97792 examples: 81292.922\n",
      "Val loss after 97792 examples: 87027.887\n",
      "Train loss after 98304 examples: 80591.031\n",
      "Val loss after 98304 examples: 87296.679\n",
      "Train loss after 98816 examples: 83981.617\n",
      "Val loss after 98816 examples: 87256.879\n",
      "Train loss after 98820 examples: 81236.023\n",
      "Val loss after 98820 examples: 87626.423\n"
     ]
    },
    {
     "name": "stderr",
     "output_type": "stream",
     "text": [
      " 41%|████      | 61/150 [4:57:06<7:19:11, 296.08s/it]"
     ]
    },
    {
     "name": "stdout",
     "output_type": "stream",
     "text": [
      "Train loss after 99328 examples: 85594.758\n",
      "Val loss after 99328 examples: 87372.781\n",
      "Train loss after 99840 examples: 80733.391\n",
      "Val loss after 99840 examples: 86434.609\n",
      "Train loss after 100352 examples: 89838.391\n",
      "Val loss after 100352 examples: 86522.657\n",
      "Train loss after 100440 examples: 88584.891\n",
      "Val loss after 100440 examples: 86450.939\n"
     ]
    },
    {
     "name": "stderr",
     "output_type": "stream",
     "text": [
      " 41%|████▏     | 62/150 [5:01:40<7:04:36, 289.51s/it]"
     ]
    },
    {
     "name": "stdout",
     "output_type": "stream",
     "text": [
      "Train loss after 100864 examples: 84608.188\n",
      "Val loss after 100864 examples: 86385.386\n",
      "Train loss after 101376 examples: 81177.477\n",
      "Val loss after 101376 examples: 86052.832\n",
      "Train loss after 101888 examples: 86106.758\n",
      "Val loss after 101888 examples: 86171.466\n",
      "Train loss after 102060 examples: 75485.602\n",
      "Val loss after 102060 examples: 85788.739\n"
     ]
    },
    {
     "name": "stderr",
     "output_type": "stream",
     "text": [
      " 42%|████▏     | 63/150 [5:06:17<6:54:14, 285.69s/it]"
     ]
    },
    {
     "name": "stdout",
     "output_type": "stream",
     "text": [
      "Train loss after 102400 examples: 76998.273\n",
      "Val loss after 102400 examples: 85647.411\n",
      "Train loss after 102912 examples: 88371.992\n",
      "Val loss after 102912 examples: 85603.725\n",
      "Train loss after 103424 examples: 77046.492\n",
      "Val loss after 103424 examples: 85686.735\n",
      "Train loss after 103680 examples: 80960.531\n",
      "Val loss after 103680 examples: 85320.214\n"
     ]
    },
    {
     "name": "stderr",
     "output_type": "stream",
     "text": [
      " 43%|████▎     | 64/150 [5:10:51<6:44:32, 282.24s/it]"
     ]
    },
    {
     "name": "stdout",
     "output_type": "stream",
     "text": [
      "Train loss after 103936 examples: 78768.898\n",
      "Val loss after 103936 examples: 85449.502\n",
      "Train loss after 104448 examples: 74470.883\n",
      "Val loss after 104448 examples: 85420.441\n",
      "Train loss after 104960 examples: 79833.500\n",
      "Val loss after 104960 examples: 85005.991\n",
      "Train loss after 105300 examples: 77591.812\n",
      "Val loss after 105300 examples: 85206.454\n"
     ]
    },
    {
     "name": "stderr",
     "output_type": "stream",
     "text": [
      " 43%|████▎     | 65/150 [5:15:23<6:35:07, 278.92s/it]"
     ]
    },
    {
     "name": "stdout",
     "output_type": "stream",
     "text": [
      "Train loss after 105472 examples: 79453.938\n",
      "Val loss after 105472 examples: 84876.641\n",
      "Train loss after 105984 examples: 79864.016\n",
      "Val loss after 105984 examples: 85100.879\n",
      "Train loss after 106496 examples: 76826.555\n",
      "Val loss after 106496 examples: 85050.062\n",
      "Train loss after 106920 examples: 76830.336\n",
      "Val loss after 106920 examples: 85025.155\n"
     ]
    },
    {
     "name": "stderr",
     "output_type": "stream",
     "text": [
      " 44%|████▍     | 66/150 [5:19:59<6:29:17, 278.06s/it]"
     ]
    },
    {
     "name": "stdout",
     "output_type": "stream",
     "text": [
      "Train loss after 107008 examples: 74618.922\n",
      "Val loss after 107008 examples: 84895.971\n",
      "Train loss after 107520 examples: 79674.273\n",
      "Val loss after 107520 examples: 84767.032\n",
      "Train loss after 108032 examples: 78946.703\n",
      "Val loss after 108032 examples: 85196.963\n",
      "Train loss after 108540 examples: 77840.852\n",
      "Val loss after 108540 examples: 84765.227\n"
     ]
    },
    {
     "name": "stderr",
     "output_type": "stream",
     "text": [
      " 45%|████▍     | 67/150 [5:24:31<6:22:06, 276.23s/it]"
     ]
    },
    {
     "name": "stdout",
     "output_type": "stream",
     "text": [
      "Train loss after 108544 examples: 79396.086\n",
      "Val loss after 108544 examples: 85240.926\n",
      "Train loss after 109056 examples: 78891.758\n",
      "Val loss after 109056 examples: 85130.195\n",
      "Train loss after 109568 examples: 77615.695\n",
      "Val loss after 109568 examples: 84991.752\n",
      "Train loss after 110080 examples: 78761.141\n",
      "Val loss after 110080 examples: 85275.261\n",
      "Train loss after 110160 examples: 88815.055\n",
      "Val loss after 110160 examples: 85057.934\n"
     ]
    },
    {
     "name": "stderr",
     "output_type": "stream",
     "text": [
      " 45%|████▌     | 68/150 [5:29:17<6:21:33, 279.19s/it]"
     ]
    },
    {
     "name": "stdout",
     "output_type": "stream",
     "text": [
      "Train loss after 110592 examples: 75084.930\n",
      "Val loss after 110592 examples: 85389.039\n",
      "Train loss after 111104 examples: 83870.883\n",
      "Val loss after 111104 examples: 84644.270\n",
      "Train loss after 111616 examples: 77344.242\n",
      "Val loss after 111616 examples: 85060.824\n",
      "Train loss after 111780 examples: 78598.625\n",
      "Val loss after 111780 examples: 84886.936\n"
     ]
    },
    {
     "name": "stderr",
     "output_type": "stream",
     "text": [
      " 46%|████▌     | 69/150 [5:33:48<6:13:36, 276.75s/it]"
     ]
    },
    {
     "name": "stdout",
     "output_type": "stream",
     "text": [
      "Train loss after 112128 examples: 80393.344\n",
      "Val loss after 112128 examples: 84509.169\n",
      "Train loss after 112640 examples: 79711.305\n",
      "Val loss after 112640 examples: 85496.202\n",
      "Train loss after 113152 examples: 79268.305\n",
      "Val loss after 113152 examples: 87031.925\n",
      "Train loss after 113400 examples: 76257.734\n",
      "Val loss after 113400 examples: 88217.992\n"
     ]
    },
    {
     "name": "stderr",
     "output_type": "stream",
     "text": [
      " 47%|████▋     | 70/150 [5:38:19<6:06:49, 275.12s/it]"
     ]
    },
    {
     "name": "stdout",
     "output_type": "stream",
     "text": [
      "Train loss after 113664 examples: 82603.266\n",
      "Val loss after 113664 examples: 84221.334\n",
      "Train loss after 114176 examples: 87534.102\n",
      "Val loss after 114176 examples: 91301.724\n",
      "Train loss after 114688 examples: 80591.492\n",
      "Val loss after 114688 examples: 92705.938\n",
      "Train loss after 115020 examples: 93997.094\n",
      "Val loss after 115020 examples: 90854.802\n"
     ]
    },
    {
     "name": "stderr",
     "output_type": "stream",
     "text": [
      " 47%|████▋     | 71/150 [5:42:50<6:00:45, 273.99s/it]"
     ]
    },
    {
     "name": "stdout",
     "output_type": "stream",
     "text": [
      "Train loss after 115200 examples: 101058.719\n",
      "Val loss after 115200 examples: 77759.045\n",
      "Train loss after 115712 examples: 84609.453\n",
      "Val loss after 115712 examples: 91607.223\n",
      "Train loss after 116224 examples: 85625.570\n",
      "Val loss after 116224 examples: 84544.393\n",
      "Train loss after 116640 examples: 71905.000\n",
      "Val loss after 116640 examples: 75709.139\n"
     ]
    },
    {
     "name": "stderr",
     "output_type": "stream",
     "text": [
      " 48%|████▊     | 72/150 [5:47:22<5:55:24, 273.39s/it]"
     ]
    },
    {
     "name": "stdout",
     "output_type": "stream",
     "text": [
      "Train loss after 116736 examples: 76341.258\n",
      "Val loss after 116736 examples: 85919.911\n",
      "Train loss after 117248 examples: 77632.461\n",
      "Val loss after 117248 examples: 76830.063\n",
      "Train loss after 117760 examples: 77743.086\n",
      "Val loss after 117760 examples: 73785.898\n",
      "Train loss after 118260 examples: 68859.352\n",
      "Val loss after 118260 examples: 78021.030\n"
     ]
    },
    {
     "name": "stderr",
     "output_type": "stream",
     "text": [
      " 49%|████▊     | 73/150 [5:51:54<5:50:04, 272.79s/it]"
     ]
    },
    {
     "name": "stdout",
     "output_type": "stream",
     "text": [
      "Train loss after 118272 examples: 75350.922\n",
      "Val loss after 118272 examples: 89987.473\n",
      "Train loss after 118784 examples: 66391.766\n",
      "Val loss after 118784 examples: 72424.318\n",
      "Train loss after 119296 examples: 75169.773\n",
      "Val loss after 119296 examples: 79775.077\n",
      "Train loss after 119808 examples: 71901.906\n",
      "Val loss after 119808 examples: 74480.293\n",
      "Train loss after 119880 examples: 70764.453\n",
      "Val loss after 119880 examples: 79120.097\n"
     ]
    },
    {
     "name": "stderr",
     "output_type": "stream",
     "text": [
      " 49%|████▉     | 74/150 [5:56:40<5:50:44, 276.91s/it]"
     ]
    },
    {
     "name": "stdout",
     "output_type": "stream",
     "text": [
      "Train loss after 120320 examples: 76453.375\n",
      "Val loss after 120320 examples: 67251.210\n",
      "Train loss after 120832 examples: 73091.211\n",
      "Val loss after 120832 examples: 79759.855\n",
      "Train loss after 121344 examples: 84295.570\n",
      "Val loss after 121344 examples: 78363.942\n",
      "Train loss after 121500 examples: 57012.230\n",
      "Val loss after 121500 examples: 77979.254\n"
     ]
    },
    {
     "name": "stderr",
     "output_type": "stream",
     "text": [
      " 50%|█████     | 75/150 [6:01:12<5:43:58, 275.18s/it]"
     ]
    },
    {
     "name": "stdout",
     "output_type": "stream",
     "text": [
      "Train loss after 121856 examples: 94762.539\n",
      "Val loss after 121856 examples: 96053.534\n",
      "Train loss after 122368 examples: 77713.742\n",
      "Val loss after 122368 examples: 84761.028\n",
      "Train loss after 122880 examples: 81801.023\n",
      "Val loss after 122880 examples: 81878.918\n",
      "Train loss after 123120 examples: 61631.348\n",
      "Val loss after 123120 examples: 85419.027\n"
     ]
    },
    {
     "name": "stderr",
     "output_type": "stream",
     "text": [
      " 51%|█████     | 76/150 [6:05:46<5:38:57, 274.83s/it]"
     ]
    },
    {
     "name": "stdout",
     "output_type": "stream",
     "text": [
      "Train loss after 123392 examples: 78512.594\n",
      "Val loss after 123392 examples: 83643.313\n",
      "Train loss after 123904 examples: 78248.578\n",
      "Val loss after 123904 examples: 79515.011\n",
      "Train loss after 124416 examples: 74545.281\n",
      "Val loss after 124416 examples: 75132.818\n",
      "Train loss after 124740 examples: 65241.961\n",
      "Val loss after 124740 examples: 56085.303\n"
     ]
    },
    {
     "name": "stderr",
     "output_type": "stream",
     "text": [
      " 51%|█████▏    | 77/150 [6:10:21<5:34:34, 274.99s/it]"
     ]
    },
    {
     "name": "stdout",
     "output_type": "stream",
     "text": [
      "Train loss after 124928 examples: 65178.539\n",
      "Val loss after 124928 examples: 59652.344\n",
      "Train loss after 125440 examples: 58848.844\n",
      "Val loss after 125440 examples: 61966.394\n",
      "Train loss after 125952 examples: 50652.957\n",
      "Val loss after 125952 examples: 56698.430\n",
      "Train loss after 126360 examples: 55819.418\n",
      "Val loss after 126360 examples: 63789.761\n"
     ]
    },
    {
     "name": "stderr",
     "output_type": "stream",
     "text": [
      " 52%|█████▏    | 78/150 [6:14:54<5:29:25, 274.52s/it]"
     ]
    },
    {
     "name": "stdout",
     "output_type": "stream",
     "text": [
      "Train loss after 126464 examples: 65942.680\n",
      "Val loss after 126464 examples: 56362.488\n",
      "Train loss after 126976 examples: 61862.914\n",
      "Val loss after 126976 examples: 60703.260\n",
      "Train loss after 127488 examples: 54086.816\n",
      "Val loss after 127488 examples: 69566.555\n",
      "Train loss after 127980 examples: 81097.523\n",
      "Val loss after 127980 examples: 90704.957\n"
     ]
    },
    {
     "name": "stderr",
     "output_type": "stream",
     "text": [
      " 53%|█████▎    | 79/150 [6:19:25<5:23:26, 273.34s/it]"
     ]
    },
    {
     "name": "stdout",
     "output_type": "stream",
     "text": [
      "Train loss after 128000 examples: 86873.500\n",
      "Val loss after 128000 examples: 94488.790\n",
      "Train loss after 128512 examples: 84762.508\n",
      "Val loss after 128512 examples: 70672.393\n",
      "Train loss after 129024 examples: 66267.812\n",
      "Val loss after 129024 examples: 76226.691\n",
      "Train loss after 129536 examples: 66822.953\n",
      "Val loss after 129536 examples: 66994.000\n",
      "Train loss after 129600 examples: 66700.734\n",
      "Val loss after 129600 examples: 50824.876\n"
     ]
    },
    {
     "name": "stderr",
     "output_type": "stream",
     "text": [
      " 53%|█████▎    | 80/150 [6:24:12<5:23:51, 277.59s/it]"
     ]
    },
    {
     "name": "stdout",
     "output_type": "stream",
     "text": [
      "Train loss after 130048 examples: 50168.301\n",
      "Val loss after 130048 examples: 50145.842\n",
      "Train loss after 130560 examples: 45465.520\n",
      "Val loss after 130560 examples: 49083.299\n",
      "Train loss after 131072 examples: 53440.617\n",
      "Val loss after 131072 examples: 56509.991\n",
      "Train loss after 131220 examples: 47304.074\n",
      "Val loss after 131220 examples: 62840.292\n"
     ]
    },
    {
     "name": "stderr",
     "output_type": "stream",
     "text": [
      " 54%|█████▍    | 81/150 [6:28:43<5:16:56, 275.60s/it]"
     ]
    },
    {
     "name": "stdout",
     "output_type": "stream",
     "text": [
      "Train loss after 131584 examples: 49010.488\n",
      "Val loss after 131584 examples: 53089.729\n",
      "Train loss after 132096 examples: 49243.973\n",
      "Val loss after 132096 examples: 51043.085\n",
      "Train loss after 132608 examples: 47079.469\n",
      "Val loss after 132608 examples: 50770.170\n",
      "Train loss after 132840 examples: 47528.844\n",
      "Val loss after 132840 examples: 54725.631\n"
     ]
    },
    {
     "name": "stderr",
     "output_type": "stream",
     "text": [
      " 55%|█████▍    | 82/150 [6:33:15<5:11:00, 274.41s/it]"
     ]
    },
    {
     "name": "stdout",
     "output_type": "stream",
     "text": [
      "Train loss after 133120 examples: 45566.770\n",
      "Val loss after 133120 examples: 47919.170\n",
      "Train loss after 133632 examples: 49144.328\n",
      "Val loss after 133632 examples: 54709.416\n",
      "Train loss after 134144 examples: 53477.719\n",
      "Val loss after 134144 examples: 48196.517\n",
      "Train loss after 134460 examples: 58399.711\n",
      "Val loss after 134460 examples: 53895.376\n"
     ]
    },
    {
     "name": "stderr",
     "output_type": "stream",
     "text": [
      " 55%|█████▌    | 83/150 [6:37:47<5:05:38, 273.71s/it]"
     ]
    },
    {
     "name": "stdout",
     "output_type": "stream",
     "text": [
      "Train loss after 134656 examples: 40510.484\n",
      "Val loss after 134656 examples: 44933.174\n",
      "Train loss after 135168 examples: 53812.895\n",
      "Val loss after 135168 examples: 59942.793\n",
      "Train loss after 135680 examples: 65927.125\n",
      "Val loss after 135680 examples: 62271.110\n",
      "Train loss after 136080 examples: 53413.953\n",
      "Val loss after 136080 examples: 46387.481\n"
     ]
    },
    {
     "name": "stderr",
     "output_type": "stream",
     "text": [
      " 56%|█████▌    | 84/150 [6:42:18<5:00:12, 272.92s/it]"
     ]
    },
    {
     "name": "stdout",
     "output_type": "stream",
     "text": [
      "Train loss after 136192 examples: 42289.582\n",
      "Val loss after 136192 examples: 62251.995\n",
      "Train loss after 136704 examples: 60771.223\n",
      "Val loss after 136704 examples: 79372.349\n",
      "Train loss after 137216 examples: 61205.000\n",
      "Val loss after 137216 examples: 68124.546\n",
      "Train loss after 137700 examples: 47444.156\n",
      "Val loss after 137700 examples: 56008.364\n"
     ]
    },
    {
     "name": "stderr",
     "output_type": "stream",
     "text": [
      " 57%|█████▋    | 85/150 [6:46:49<4:54:58, 272.28s/it]"
     ]
    },
    {
     "name": "stdout",
     "output_type": "stream",
     "text": [
      "Train loss after 137728 examples: 59462.398\n",
      "Val loss after 137728 examples: 71076.315\n",
      "Train loss after 138240 examples: 51945.039\n",
      "Val loss after 138240 examples: 43749.848\n",
      "Train loss after 138752 examples: 39799.055\n",
      "Val loss after 138752 examples: 47012.298\n",
      "Train loss after 139264 examples: 47686.801\n",
      "Val loss after 139264 examples: 48393.623\n",
      "Train loss after 139320 examples: 48077.102\n",
      "Val loss after 139320 examples: 55415.329\n"
     ]
    },
    {
     "name": "stderr",
     "output_type": "stream",
     "text": [
      " 57%|█████▋    | 86/150 [6:51:35<4:54:53, 276.47s/it]"
     ]
    },
    {
     "name": "stdout",
     "output_type": "stream",
     "text": [
      "Train loss after 139776 examples: 51211.297\n",
      "Val loss after 139776 examples: 48753.117\n",
      "Train loss after 140288 examples: 41966.797\n",
      "Val loss after 140288 examples: 44471.298\n",
      "Train loss after 140800 examples: 43671.598\n",
      "Val loss after 140800 examples: 43946.577\n",
      "Train loss after 140940 examples: 40955.625\n",
      "Val loss after 140940 examples: 51232.887\n"
     ]
    },
    {
     "name": "stderr",
     "output_type": "stream",
     "text": [
      " 58%|█████▊    | 87/150 [6:56:06<4:48:25, 274.69s/it]"
     ]
    },
    {
     "name": "stdout",
     "output_type": "stream",
     "text": [
      "Train loss after 141312 examples: 38586.684\n",
      "Val loss after 141312 examples: 41228.046\n",
      "Train loss after 141824 examples: 35587.793\n",
      "Val loss after 141824 examples: 38790.473\n",
      "Train loss after 142336 examples: 35005.758\n",
      "Val loss after 142336 examples: 37338.258\n",
      "Train loss after 142560 examples: 41126.371\n",
      "Val loss after 142560 examples: 36386.496\n"
     ]
    },
    {
     "name": "stderr",
     "output_type": "stream",
     "text": [
      " 59%|█████▊    | 88/150 [7:00:37<4:42:53, 273.76s/it]"
     ]
    },
    {
     "name": "stdout",
     "output_type": "stream",
     "text": [
      "Train loss after 142848 examples: 44229.367\n",
      "Val loss after 142848 examples: 36661.691\n",
      "Train loss after 143360 examples: 34289.410\n",
      "Val loss after 143360 examples: 37943.999\n",
      "Train loss after 143872 examples: 37395.441\n",
      "Val loss after 143872 examples: 38937.373\n",
      "Train loss after 144180 examples: 43420.242\n",
      "Val loss after 144180 examples: 35870.571\n"
     ]
    },
    {
     "name": "stderr",
     "output_type": "stream",
     "text": [
      " 59%|█████▉    | 89/150 [7:05:09<4:37:34, 273.03s/it]"
     ]
    },
    {
     "name": "stdout",
     "output_type": "stream",
     "text": [
      "Train loss after 144384 examples: 39002.727\n",
      "Val loss after 144384 examples: 36379.059\n",
      "Train loss after 144896 examples: 34940.621\n",
      "Val loss after 144896 examples: 36488.206\n",
      "Train loss after 145408 examples: 40559.816\n",
      "Val loss after 145408 examples: 40388.975\n",
      "Train loss after 145800 examples: 30864.887\n",
      "Val loss after 145800 examples: 37692.962\n"
     ]
    },
    {
     "name": "stderr",
     "output_type": "stream",
     "text": [
      " 60%|██████    | 90/150 [7:09:40<4:32:30, 272.51s/it]"
     ]
    },
    {
     "name": "stdout",
     "output_type": "stream",
     "text": [
      "Train loss after 145920 examples: 36122.523\n",
      "Val loss after 145920 examples: 34499.901\n",
      "Train loss after 146432 examples: 35874.434\n",
      "Val loss after 146432 examples: 37649.477\n",
      "Train loss after 146944 examples: 36230.660\n",
      "Val loss after 146944 examples: 36954.238\n",
      "Train loss after 147420 examples: 31002.939\n",
      "Val loss after 147420 examples: 36717.103\n"
     ]
    },
    {
     "name": "stderr",
     "output_type": "stream",
     "text": [
      " 61%|██████    | 91/150 [7:14:11<4:27:38, 272.17s/it]"
     ]
    },
    {
     "name": "stdout",
     "output_type": "stream",
     "text": [
      "Train loss after 147456 examples: 34331.215\n",
      "Val loss after 147456 examples: 35515.747\n",
      "Train loss after 147968 examples: 32659.539\n",
      "Val loss after 147968 examples: 34540.303\n",
      "Train loss after 148480 examples: 33846.340\n",
      "Val loss after 148480 examples: 35772.297\n",
      "Train loss after 148992 examples: 32891.129\n",
      "Val loss after 148992 examples: 34855.752\n",
      "Train loss after 149040 examples: 33265.148\n",
      "Val loss after 149040 examples: 32591.899\n"
     ]
    },
    {
     "name": "stderr",
     "output_type": "stream",
     "text": [
      " 61%|██████▏   | 92/150 [7:18:58<4:27:14, 276.45s/it]"
     ]
    },
    {
     "name": "stdout",
     "output_type": "stream",
     "text": [
      "Train loss after 149504 examples: 36293.781\n",
      "Val loss after 149504 examples: 34721.518\n",
      "Train loss after 150016 examples: 31432.982\n",
      "Val loss after 150016 examples: 32906.049\n",
      "Train loss after 150528 examples: 33849.344\n",
      "Val loss after 150528 examples: 35236.207\n",
      "Train loss after 150660 examples: 32365.348\n",
      "Val loss after 150660 examples: 38719.945\n"
     ]
    },
    {
     "name": "stderr",
     "output_type": "stream",
     "text": [
      " 62%|██████▏   | 93/150 [7:23:29<4:21:03, 274.80s/it]"
     ]
    },
    {
     "name": "stdout",
     "output_type": "stream",
     "text": [
      "Train loss after 151040 examples: 38343.496\n",
      "Val loss after 151040 examples: 35311.106\n",
      "Train loss after 151552 examples: 34877.523\n",
      "Val loss after 151552 examples: 31784.701\n",
      "Train loss after 152064 examples: 30864.143\n",
      "Val loss after 152064 examples: 33656.481\n",
      "Train loss after 152280 examples: 29052.152\n",
      "Val loss after 152280 examples: 32569.544\n"
     ]
    },
    {
     "name": "stderr",
     "output_type": "stream",
     "text": [
      " 63%|██████▎   | 94/150 [7:28:00<4:15:29, 273.73s/it]"
     ]
    },
    {
     "name": "stdout",
     "output_type": "stream",
     "text": [
      "Train loss after 152576 examples: 28493.936\n",
      "Val loss after 152576 examples: 32323.223\n",
      "Train loss after 153088 examples: 31143.760\n",
      "Val loss after 153088 examples: 30655.085\n",
      "Train loss after 153600 examples: 29397.633\n",
      "Val loss after 153600 examples: 30489.583\n",
      "Train loss after 153900 examples: 29089.436\n",
      "Val loss after 153900 examples: 30863.206\n"
     ]
    },
    {
     "name": "stderr",
     "output_type": "stream",
     "text": [
      " 63%|██████▎   | 95/150 [7:32:31<4:10:17, 273.05s/it]"
     ]
    },
    {
     "name": "stdout",
     "output_type": "stream",
     "text": [
      "Train loss after 154112 examples: 31347.254\n",
      "Val loss after 154112 examples: 29997.640\n",
      "Train loss after 154624 examples: 28145.439\n",
      "Val loss after 154624 examples: 29760.460\n",
      "Train loss after 155136 examples: 27746.121\n",
      "Val loss after 155136 examples: 29494.196\n",
      "Train loss after 155520 examples: 28178.867\n",
      "Val loss after 155520 examples: 29904.812\n"
     ]
    },
    {
     "name": "stderr",
     "output_type": "stream",
     "text": [
      " 64%|██████▍   | 96/150 [7:37:03<4:05:19, 272.58s/it]"
     ]
    },
    {
     "name": "stdout",
     "output_type": "stream",
     "text": [
      "Train loss after 155648 examples: 28771.514\n",
      "Val loss after 155648 examples: 29137.297\n",
      "Train loss after 156160 examples: 27899.889\n",
      "Val loss after 156160 examples: 29045.075\n",
      "Train loss after 156672 examples: 27556.375\n",
      "Val loss after 156672 examples: 29423.823\n",
      "Train loss after 157140 examples: 26805.568\n",
      "Val loss after 157140 examples: 28849.034\n"
     ]
    },
    {
     "name": "stderr",
     "output_type": "stream",
     "text": [
      " 65%|██████▍   | 97/150 [7:41:34<4:00:22, 272.12s/it]"
     ]
    },
    {
     "name": "stdout",
     "output_type": "stream",
     "text": [
      "Train loss after 157184 examples: 27558.740\n",
      "Val loss after 157184 examples: 29023.166\n",
      "Train loss after 157696 examples: 26056.643\n",
      "Val loss after 157696 examples: 28707.276\n",
      "Train loss after 158208 examples: 31956.871\n",
      "Val loss after 158208 examples: 29642.117\n",
      "Train loss after 158720 examples: 29042.555\n",
      "Val loss after 158720 examples: 29312.641\n",
      "Train loss after 158760 examples: 29350.119\n",
      "Val loss after 158760 examples: 31165.574\n"
     ]
    },
    {
     "name": "stderr",
     "output_type": "stream",
     "text": [
      " 65%|██████▌   | 98/150 [7:46:21<3:59:42, 276.58s/it]"
     ]
    },
    {
     "name": "stdout",
     "output_type": "stream",
     "text": [
      "Train loss after 159232 examples: 30924.234\n",
      "Val loss after 159232 examples: 29422.221\n",
      "Train loss after 159744 examples: 27404.088\n",
      "Val loss after 159744 examples: 28590.012\n",
      "Train loss after 160256 examples: 26685.971\n",
      "Val loss after 160256 examples: 27731.535\n",
      "Train loss after 160380 examples: 25633.496\n",
      "Val loss after 160380 examples: 28074.658\n"
     ]
    },
    {
     "name": "stderr",
     "output_type": "stream",
     "text": [
      " 66%|██████▌   | 99/150 [7:50:53<3:53:49, 275.09s/it]"
     ]
    },
    {
     "name": "stdout",
     "output_type": "stream",
     "text": [
      "Train loss after 160768 examples: 26433.248\n",
      "Val loss after 160768 examples: 29561.490\n",
      "Train loss after 161280 examples: 29626.531\n",
      "Val loss after 161280 examples: 29711.882\n",
      "Train loss after 161792 examples: 24096.775\n",
      "Val loss after 161792 examples: 28505.107\n",
      "Train loss after 162000 examples: 24968.797\n",
      "Val loss after 162000 examples: 27208.259\n"
     ]
    },
    {
     "name": "stderr",
     "output_type": "stream",
     "text": [
      " 67%|██████▋   | 100/150 [7:55:24<3:48:22, 274.04s/it]"
     ]
    },
    {
     "name": "stdout",
     "output_type": "stream",
     "text": [
      "Train loss after 162304 examples: 26639.434\n",
      "Val loss after 162304 examples: 27207.582\n",
      "Train loss after 162816 examples: 28096.002\n",
      "Val loss after 162816 examples: 27910.610\n",
      "Train loss after 163328 examples: 23910.514\n",
      "Val loss after 163328 examples: 28572.760\n",
      "Train loss after 163620 examples: 29922.420\n",
      "Val loss after 163620 examples: 29865.837\n"
     ]
    },
    {
     "name": "stderr",
     "output_type": "stream",
     "text": [
      " 67%|██████▋   | 101/150 [7:59:55<3:43:08, 273.23s/it]"
     ]
    },
    {
     "name": "stdout",
     "output_type": "stream",
     "text": [
      "Train loss after 163840 examples: 25454.344\n",
      "Val loss after 163840 examples: 27197.550\n",
      "Train loss after 164352 examples: 27731.424\n",
      "Val loss after 164352 examples: 26752.461\n",
      "Train loss after 164864 examples: 25090.834\n",
      "Val loss after 164864 examples: 29021.849\n",
      "Train loss after 165240 examples: 28039.959\n",
      "Val loss after 165240 examples: 29720.097\n"
     ]
    },
    {
     "name": "stderr",
     "output_type": "stream",
     "text": [
      " 68%|██████▊   | 102/150 [8:04:27<3:38:14, 272.80s/it]"
     ]
    },
    {
     "name": "stdout",
     "output_type": "stream",
     "text": [
      "Train loss after 165376 examples: 26584.889\n",
      "Val loss after 165376 examples: 26366.152\n",
      "Train loss after 165888 examples: 24442.904\n",
      "Val loss after 165888 examples: 28919.265\n",
      "Train loss after 166400 examples: 29107.439\n",
      "Val loss after 166400 examples: 26098.644\n",
      "Train loss after 166860 examples: 28008.682\n",
      "Val loss after 166860 examples: 28055.928\n"
     ]
    },
    {
     "name": "stderr",
     "output_type": "stream",
     "text": [
      " 69%|██████▊   | 103/150 [8:08:59<3:33:22, 272.39s/it]"
     ]
    },
    {
     "name": "stdout",
     "output_type": "stream",
     "text": [
      "Train loss after 166912 examples: 29730.727\n",
      "Val loss after 166912 examples: 30004.082\n",
      "Train loss after 167424 examples: 25048.562\n",
      "Val loss after 167424 examples: 26513.222\n",
      "Train loss after 167936 examples: 23287.707\n",
      "Val loss after 167936 examples: 28416.471\n",
      "Train loss after 168448 examples: 29893.555\n",
      "Val loss after 168448 examples: 28853.790\n",
      "Train loss after 168480 examples: 25548.783\n",
      "Val loss after 168480 examples: 28844.734\n"
     ]
    },
    {
     "name": "stderr",
     "output_type": "stream",
     "text": [
      " 69%|██████▉   | 104/150 [8:13:46<3:32:20, 276.96s/it]"
     ]
    },
    {
     "name": "stdout",
     "output_type": "stream",
     "text": [
      "Train loss after 168960 examples: 26998.195\n",
      "Val loss after 168960 examples: 27801.784\n",
      "Train loss after 169472 examples: 22907.408\n",
      "Val loss after 169472 examples: 27949.914\n",
      "Train loss after 169984 examples: 27668.180\n",
      "Val loss after 169984 examples: 28106.848\n",
      "Train loss after 170100 examples: 25716.967\n",
      "Val loss after 170100 examples: 26377.171\n"
     ]
    },
    {
     "name": "stderr",
     "output_type": "stream",
     "text": [
      " 70%|███████   | 105/150 [8:18:17<3:26:22, 275.17s/it]"
     ]
    },
    {
     "name": "stdout",
     "output_type": "stream",
     "text": [
      "Train loss after 170496 examples: 24562.180\n",
      "Val loss after 170496 examples: 25368.496\n",
      "Train loss after 171008 examples: 23625.850\n",
      "Val loss after 171008 examples: 24872.059\n",
      "Train loss after 171520 examples: 23102.312\n",
      "Val loss after 171520 examples: 24738.536\n",
      "Train loss after 171720 examples: 22555.576\n",
      "Val loss after 171720 examples: 24454.743\n"
     ]
    },
    {
     "name": "stderr",
     "output_type": "stream",
     "text": [
      " 71%|███████   | 106/150 [8:22:50<3:21:15, 274.44s/it]"
     ]
    },
    {
     "name": "stdout",
     "output_type": "stream",
     "text": [
      "Train loss after 172032 examples: 22211.445\n",
      "Val loss after 172032 examples: 24753.819\n",
      "Train loss after 172544 examples: 22671.461\n",
      "Val loss after 172544 examples: 24681.167\n",
      "Train loss after 173056 examples: 23590.230\n",
      "Val loss after 173056 examples: 24153.539\n",
      "Train loss after 173340 examples: 24250.014\n",
      "Val loss after 173340 examples: 24554.780\n"
     ]
    },
    {
     "name": "stderr",
     "output_type": "stream",
     "text": [
      " 71%|███████▏  | 107/150 [8:27:21<3:15:53, 273.33s/it]"
     ]
    },
    {
     "name": "stdout",
     "output_type": "stream",
     "text": [
      "Train loss after 173568 examples: 21817.988\n",
      "Val loss after 173568 examples: 24291.597\n",
      "Train loss after 174080 examples: 23173.449\n",
      "Val loss after 174080 examples: 24236.353\n",
      "Train loss after 174592 examples: 21553.330\n",
      "Val loss after 174592 examples: 24200.799\n",
      "Train loss after 174960 examples: 22644.320\n",
      "Val loss after 174960 examples: 24460.937\n"
     ]
    },
    {
     "name": "stderr",
     "output_type": "stream",
     "text": [
      " 72%|███████▏  | 108/150 [8:31:52<3:10:58, 272.83s/it]"
     ]
    },
    {
     "name": "stdout",
     "output_type": "stream",
     "text": [
      "Train loss after 175104 examples: 22524.729\n",
      "Val loss after 175104 examples: 24346.928\n",
      "Train loss after 175616 examples: 25116.447\n",
      "Val loss after 175616 examples: 24088.672\n",
      "Train loss after 176128 examples: 22812.846\n",
      "Val loss after 176128 examples: 24058.036\n",
      "Train loss after 176580 examples: 20725.150\n",
      "Val loss after 176580 examples: 23818.077\n"
     ]
    },
    {
     "name": "stderr",
     "output_type": "stream",
     "text": [
      " 73%|███████▎  | 109/150 [8:36:24<3:06:14, 272.55s/it]"
     ]
    },
    {
     "name": "stdout",
     "output_type": "stream",
     "text": [
      "Train loss after 176640 examples: 23565.395\n",
      "Val loss after 176640 examples: 23878.987\n",
      "Train loss after 177152 examples: 21539.465\n",
      "Val loss after 177152 examples: 23593.173\n",
      "Train loss after 177664 examples: 22180.865\n",
      "Val loss after 177664 examples: 23700.170\n",
      "Train loss after 178176 examples: 21819.527\n",
      "Val loss after 178176 examples: 23710.928\n",
      "Train loss after 178200 examples: 20555.098\n",
      "Val loss after 178200 examples: 23597.135\n"
     ]
    },
    {
     "name": "stderr",
     "output_type": "stream",
     "text": [
      " 73%|███████▎  | 110/150 [8:41:11<3:04:33, 276.85s/it]"
     ]
    },
    {
     "name": "stdout",
     "output_type": "stream",
     "text": [
      "Train loss after 178688 examples: 23274.713\n",
      "Val loss after 178688 examples: 23590.338\n",
      "Train loss after 179200 examples: 22953.416\n",
      "Val loss after 179200 examples: 23468.745\n",
      "Train loss after 179712 examples: 19941.992\n",
      "Val loss after 179712 examples: 23682.716\n",
      "Train loss after 179820 examples: 21746.914\n",
      "Val loss after 179820 examples: 23196.783\n"
     ]
    },
    {
     "name": "stderr",
     "output_type": "stream",
     "text": [
      " 74%|███████▍  | 111/150 [8:45:43<2:58:57, 275.31s/it]"
     ]
    },
    {
     "name": "stdout",
     "output_type": "stream",
     "text": [
      "Train loss after 180224 examples: 23576.969\n",
      "Val loss after 180224 examples: 23457.271\n",
      "Train loss after 180736 examples: 24280.156\n",
      "Val loss after 180736 examples: 23469.231\n",
      "Train loss after 181248 examples: 21908.672\n",
      "Val loss after 181248 examples: 23160.324\n",
      "Train loss after 181440 examples: 21159.832\n",
      "Val loss after 181440 examples: 22935.691\n"
     ]
    },
    {
     "name": "stderr",
     "output_type": "stream",
     "text": [
      " 75%|███████▍  | 112/150 [8:50:15<2:53:47, 274.41s/it]"
     ]
    },
    {
     "name": "stdout",
     "output_type": "stream",
     "text": [
      "Train loss after 181760 examples: 21818.621\n",
      "Val loss after 181760 examples: 23033.479\n",
      "Train loss after 182272 examples: 23795.479\n",
      "Val loss after 182272 examples: 23048.857\n",
      "Train loss after 182784 examples: 23155.479\n",
      "Val loss after 182784 examples: 22746.800\n",
      "Train loss after 183060 examples: 21074.525\n",
      "Val loss after 183060 examples: 22846.727\n"
     ]
    },
    {
     "name": "stderr",
     "output_type": "stream",
     "text": [
      " 75%|███████▌  | 113/150 [8:54:48<2:48:52, 273.86s/it]"
     ]
    },
    {
     "name": "stdout",
     "output_type": "stream",
     "text": [
      "Train loss after 183296 examples: 21197.377\n",
      "Val loss after 183296 examples: 22733.468\n",
      "Train loss after 183808 examples: 22382.021\n",
      "Val loss after 183808 examples: 22693.314\n",
      "Train loss after 184320 examples: 23349.672\n",
      "Val loss after 184320 examples: 22426.381\n",
      "Train loss after 184680 examples: 21175.344\n",
      "Val loss after 184680 examples: 22781.913\n"
     ]
    },
    {
     "name": "stderr",
     "output_type": "stream",
     "text": [
      " 76%|███████▌  | 114/150 [8:59:19<2:43:55, 273.20s/it]"
     ]
    },
    {
     "name": "stdout",
     "output_type": "stream",
     "text": [
      "Train loss after 184832 examples: 23122.936\n",
      "Val loss after 184832 examples: 22588.843\n",
      "Train loss after 185344 examples: 21898.561\n",
      "Val loss after 185344 examples: 22713.180\n",
      "Train loss after 185856 examples: 19935.344\n",
      "Val loss after 185856 examples: 22492.116\n",
      "Train loss after 186300 examples: 20269.295\n",
      "Val loss after 186300 examples: 22570.199\n"
     ]
    },
    {
     "name": "stderr",
     "output_type": "stream",
     "text": [
      " 77%|███████▋  | 115/150 [9:03:52<2:39:10, 272.86s/it]"
     ]
    },
    {
     "name": "stdout",
     "output_type": "stream",
     "text": [
      "Train loss after 186368 examples: 24867.869\n",
      "Val loss after 186368 examples: 22633.362\n",
      "Train loss after 186880 examples: 21142.334\n",
      "Val loss after 186880 examples: 22528.507\n",
      "Train loss after 187392 examples: 20741.572\n",
      "Val loss after 187392 examples: 23006.221\n",
      "Train loss after 187904 examples: 24902.688\n",
      "Val loss after 187904 examples: 22316.689\n",
      "Train loss after 187920 examples: 20040.543\n",
      "Val loss after 187920 examples: 22776.424\n"
     ]
    },
    {
     "name": "stderr",
     "output_type": "stream",
     "text": [
      " 77%|███████▋  | 116/150 [9:08:39<2:37:01, 277.12s/it]"
     ]
    },
    {
     "name": "stdout",
     "output_type": "stream",
     "text": [
      "Train loss after 188416 examples: 22307.691\n",
      "Val loss after 188416 examples: 22131.804\n",
      "Train loss after 188928 examples: 19768.055\n",
      "Val loss after 188928 examples: 22091.988\n",
      "Train loss after 189440 examples: 22299.709\n",
      "Val loss after 189440 examples: 22250.322\n",
      "Train loss after 189540 examples: 19443.646\n",
      "Val loss after 189540 examples: 21866.871\n"
     ]
    },
    {
     "name": "stderr",
     "output_type": "stream",
     "text": [
      " 78%|███████▊  | 117/150 [9:13:10<2:31:29, 275.45s/it]"
     ]
    },
    {
     "name": "stdout",
     "output_type": "stream",
     "text": [
      "Train loss after 189952 examples: 20956.199\n",
      "Val loss after 189952 examples: 22716.665\n",
      "Train loss after 190464 examples: 19912.582\n",
      "Val loss after 190464 examples: 21808.475\n",
      "Train loss after 190976 examples: 21567.096\n",
      "Val loss after 190976 examples: 22251.561\n",
      "Train loss after 191160 examples: 21028.309\n",
      "Val loss after 191160 examples: 21760.153\n"
     ]
    },
    {
     "name": "stderr",
     "output_type": "stream",
     "text": [
      " 79%|███████▊  | 118/150 [9:17:43<2:26:27, 274.61s/it]"
     ]
    },
    {
     "name": "stdout",
     "output_type": "stream",
     "text": [
      "Train loss after 191488 examples: 21657.824\n",
      "Val loss after 191488 examples: 21725.136\n",
      "Train loss after 192000 examples: 20274.621\n",
      "Val loss after 192000 examples: 21909.336\n",
      "Train loss after 192512 examples: 19676.541\n",
      "Val loss after 192512 examples: 21659.529\n",
      "Train loss after 192780 examples: 19762.977\n",
      "Val loss after 192780 examples: 21708.680\n"
     ]
    },
    {
     "name": "stderr",
     "output_type": "stream",
     "text": [
      " 79%|███████▉  | 119/150 [9:22:14<2:21:19, 273.52s/it]"
     ]
    },
    {
     "name": "stdout",
     "output_type": "stream",
     "text": [
      "Train loss after 193024 examples: 19896.086\n",
      "Val loss after 193024 examples: 21564.227\n",
      "Train loss after 193536 examples: 19512.393\n",
      "Val loss after 193536 examples: 21925.969\n",
      "Train loss after 194048 examples: 19704.367\n",
      "Val loss after 194048 examples: 21603.482\n",
      "Train loss after 194400 examples: 20189.133\n",
      "Val loss after 194400 examples: 21471.261\n"
     ]
    },
    {
     "name": "stderr",
     "output_type": "stream",
     "text": [
      " 80%|████████  | 120/150 [9:26:45<2:16:26, 272.89s/it]"
     ]
    },
    {
     "name": "stdout",
     "output_type": "stream",
     "text": [
      "Train loss after 194560 examples: 22453.680\n",
      "Val loss after 194560 examples: 21414.775\n",
      "Train loss after 195072 examples: 20245.256\n",
      "Val loss after 195072 examples: 21684.300\n",
      "Train loss after 195584 examples: 20143.676\n",
      "Val loss after 195584 examples: 21553.183\n",
      "Train loss after 196020 examples: 20538.408\n",
      "Val loss after 196020 examples: 21654.490\n"
     ]
    },
    {
     "name": "stderr",
     "output_type": "stream",
     "text": [
      " 81%|████████  | 121/150 [9:31:16<2:11:38, 272.37s/it]"
     ]
    },
    {
     "name": "stdout",
     "output_type": "stream",
     "text": [
      "Train loss after 196096 examples: 21152.146\n",
      "Val loss after 196096 examples: 21430.511\n",
      "Train loss after 196608 examples: 19750.994\n",
      "Val loss after 196608 examples: 21401.478\n",
      "Train loss after 197120 examples: 19819.334\n",
      "Val loss after 197120 examples: 21190.347\n",
      "Train loss after 197632 examples: 19912.484\n",
      "Val loss after 197632 examples: 21631.180\n",
      "Train loss after 197640 examples: 20257.188\n",
      "Val loss after 197640 examples: 21453.568\n"
     ]
    },
    {
     "name": "stderr",
     "output_type": "stream",
     "text": [
      " 81%|████████▏ | 122/150 [9:36:03<2:09:08, 276.72s/it]"
     ]
    },
    {
     "name": "stdout",
     "output_type": "stream",
     "text": [
      "Train loss after 198144 examples: 19964.766\n",
      "Val loss after 198144 examples: 21378.195\n",
      "Train loss after 198656 examples: 21087.096\n",
      "Val loss after 198656 examples: 21657.450\n",
      "Train loss after 199168 examples: 19958.830\n",
      "Val loss after 199168 examples: 21306.929\n",
      "Train loss after 199260 examples: 19567.467\n",
      "Val loss after 199260 examples: 21506.337\n"
     ]
    },
    {
     "name": "stderr",
     "output_type": "stream",
     "text": [
      " 82%|████████▏ | 123/150 [9:40:34<2:03:45, 275.01s/it]"
     ]
    },
    {
     "name": "stdout",
     "output_type": "stream",
     "text": [
      "Train loss after 199680 examples: 23925.148\n",
      "Val loss after 199680 examples: 21691.064\n",
      "Train loss after 200192 examples: 19589.969\n",
      "Val loss after 200192 examples: 21302.210\n",
      "Train loss after 200704 examples: 21489.244\n",
      "Val loss after 200704 examples: 21463.187\n",
      "Train loss after 200880 examples: 20531.131\n",
      "Val loss after 200880 examples: 21273.724\n"
     ]
    },
    {
     "name": "stderr",
     "output_type": "stream",
     "text": [
      " 83%|████████▎ | 124/150 [9:45:06<1:58:43, 273.99s/it]"
     ]
    },
    {
     "name": "stdout",
     "output_type": "stream",
     "text": [
      "Train loss after 201216 examples: 20087.352\n",
      "Val loss after 201216 examples: 21249.878\n",
      "Train loss after 201728 examples: 22011.506\n",
      "Val loss after 201728 examples: 21085.436\n",
      "Train loss after 202240 examples: 20767.023\n",
      "Val loss after 202240 examples: 21068.804\n",
      "Train loss after 202500 examples: 22303.643\n",
      "Val loss after 202500 examples: 21425.532\n"
     ]
    },
    {
     "name": "stderr",
     "output_type": "stream",
     "text": [
      " 83%|████████▎ | 125/150 [9:49:38<1:53:55, 273.41s/it]"
     ]
    },
    {
     "name": "stdout",
     "output_type": "stream",
     "text": [
      "Train loss after 202752 examples: 21071.764\n",
      "Val loss after 202752 examples: 21049.441\n",
      "Train loss after 203264 examples: 20658.652\n",
      "Val loss after 203264 examples: 21266.457\n",
      "Train loss after 203776 examples: 19883.771\n",
      "Val loss after 203776 examples: 20867.517\n",
      "Train loss after 204120 examples: 18879.994\n",
      "Val loss after 204120 examples: 21035.161\n"
     ]
    },
    {
     "name": "stderr",
     "output_type": "stream",
     "text": [
      " 84%|████████▍ | 126/150 [9:54:10<1:49:10, 272.92s/it]"
     ]
    },
    {
     "name": "stdout",
     "output_type": "stream",
     "text": [
      "Train loss after 204288 examples: 22375.564\n",
      "Val loss after 204288 examples: 21170.453\n",
      "Train loss after 204800 examples: 19586.219\n",
      "Val loss after 204800 examples: 21092.620\n",
      "Train loss after 205312 examples: 18810.664\n",
      "Val loss after 205312 examples: 21047.933\n",
      "Train loss after 205740 examples: 18600.568\n",
      "Val loss after 205740 examples: 20971.060\n"
     ]
    },
    {
     "name": "stderr",
     "output_type": "stream",
     "text": [
      " 85%|████████▍ | 127/150 [9:58:41<1:44:29, 272.58s/it]"
     ]
    },
    {
     "name": "stdout",
     "output_type": "stream",
     "text": [
      "Train loss after 205824 examples: 20426.176\n",
      "Val loss after 205824 examples: 21269.400\n",
      "Train loss after 206336 examples: 19402.053\n",
      "Val loss after 206336 examples: 20985.658\n",
      "Train loss after 206848 examples: 21075.113\n",
      "Val loss after 206848 examples: 21031.162\n",
      "Train loss after 207360 examples: 19578.541\n",
      "Val loss after 207360 examples: 20921.024\n"
     ]
    },
    {
     "name": "stderr",
     "output_type": "stream",
     "text": [
      " 85%|████████▌ | 128/150 [10:03:13<1:39:49, 272.23s/it]"
     ]
    },
    {
     "name": "stdout",
     "output_type": "stream",
     "text": [
      "Train loss after 207872 examples: 19829.268\n",
      "Val loss after 207872 examples: 20789.649\n",
      "Train loss after 208384 examples: 19555.879\n",
      "Val loss after 208384 examples: 20983.271\n",
      "Train loss after 208896 examples: 19635.584\n",
      "Val loss after 208896 examples: 20802.266\n",
      "Train loss after 208980 examples: 21047.943\n",
      "Val loss after 208980 examples: 21013.861\n"
     ]
    },
    {
     "name": "stderr",
     "output_type": "stream",
     "text": [
      " 86%|████████▌ | 129/150 [10:07:44<1:35:12, 272.04s/it]"
     ]
    },
    {
     "name": "stdout",
     "output_type": "stream",
     "text": [
      "Train loss after 209408 examples: 18899.271\n",
      "Val loss after 209408 examples: 20869.308\n",
      "Train loss after 209920 examples: 20420.359\n",
      "Val loss after 209920 examples: 20807.037\n",
      "Train loss after 210432 examples: 20444.832\n",
      "Val loss after 210432 examples: 20950.064\n",
      "Train loss after 210600 examples: 19682.211\n",
      "Val loss after 210600 examples: 20847.351\n"
     ]
    },
    {
     "name": "stderr",
     "output_type": "stream",
     "text": [
      " 87%|████████▋ | 130/150 [10:12:16<1:30:38, 271.94s/it]"
     ]
    },
    {
     "name": "stdout",
     "output_type": "stream",
     "text": [
      "Train loss after 210944 examples: 20018.807\n",
      "Val loss after 210944 examples: 20934.940\n",
      "Train loss after 211456 examples: 22379.230\n",
      "Val loss after 211456 examples: 20658.517\n",
      "Train loss after 211968 examples: 20823.795\n",
      "Val loss after 211968 examples: 20887.225\n",
      "Train loss after 212220 examples: 19071.404\n",
      "Val loss after 212220 examples: 20855.436\n"
     ]
    },
    {
     "name": "stderr",
     "output_type": "stream",
     "text": [
      " 87%|████████▋ | 131/150 [10:16:48<1:26:04, 271.82s/it]"
     ]
    },
    {
     "name": "stdout",
     "output_type": "stream",
     "text": [
      "Train loss after 212480 examples: 20436.504\n",
      "Val loss after 212480 examples: 20841.607\n",
      "Train loss after 212992 examples: 19607.957\n",
      "Val loss after 212992 examples: 20898.154\n",
      "Train loss after 213504 examples: 19325.641\n",
      "Val loss after 213504 examples: 20839.171\n",
      "Train loss after 213840 examples: 19748.434\n",
      "Val loss after 213840 examples: 20873.986\n"
     ]
    },
    {
     "name": "stderr",
     "output_type": "stream",
     "text": [
      " 88%|████████▊ | 132/150 [10:21:19<1:21:31, 271.76s/it]"
     ]
    },
    {
     "name": "stdout",
     "output_type": "stream",
     "text": [
      "Train loss after 214016 examples: 21744.994\n",
      "Val loss after 214016 examples: 20785.673\n",
      "Train loss after 214528 examples: 19248.773\n",
      "Val loss after 214528 examples: 20678.558\n",
      "Train loss after 215040 examples: 21282.373\n",
      "Val loss after 215040 examples: 20756.292\n",
      "Train loss after 215460 examples: 20604.213\n",
      "Val loss after 215460 examples: 20800.375\n"
     ]
    },
    {
     "name": "stderr",
     "output_type": "stream",
     "text": [
      " 89%|████████▊ | 133/150 [10:25:51<1:16:58, 271.67s/it]"
     ]
    },
    {
     "name": "stdout",
     "output_type": "stream",
     "text": [
      "Train loss after 215552 examples: 19934.891\n",
      "Val loss after 215552 examples: 20863.179\n",
      "Train loss after 216064 examples: 19252.953\n",
      "Val loss after 216064 examples: 20738.366\n",
      "Train loss after 216576 examples: 20637.900\n",
      "Val loss after 216576 examples: 20740.593\n",
      "Train loss after 217080 examples: 20911.143\n",
      "Val loss after 217080 examples: 20622.723\n"
     ]
    },
    {
     "name": "stderr",
     "output_type": "stream",
     "text": [
      " 89%|████████▉ | 134/150 [10:30:23<1:12:29, 271.83s/it]"
     ]
    },
    {
     "name": "stdout",
     "output_type": "stream",
     "text": [
      "Train loss after 217088 examples: 19500.891\n",
      "Val loss after 217088 examples: 20617.830\n",
      "Train loss after 217600 examples: 19783.498\n",
      "Val loss after 217600 examples: 20683.600\n",
      "Train loss after 218112 examples: 19683.416\n",
      "Val loss after 218112 examples: 20833.565\n",
      "Train loss after 218624 examples: 19258.998\n",
      "Val loss after 218624 examples: 20614.615\n",
      "Train loss after 218700 examples: 19996.098\n",
      "Val loss after 218700 examples: 20759.067\n"
     ]
    },
    {
     "name": "stderr",
     "output_type": "stream",
     "text": [
      " 90%|█████████ | 135/150 [10:35:10<1:09:06, 276.41s/it]"
     ]
    },
    {
     "name": "stdout",
     "output_type": "stream",
     "text": [
      "Train loss after 219136 examples: 18995.244\n",
      "Val loss after 219136 examples: 20507.885\n",
      "Train loss after 219648 examples: 19278.352\n",
      "Val loss after 219648 examples: 20808.695\n",
      "Train loss after 220160 examples: 22202.535\n",
      "Val loss after 220160 examples: 20838.946\n",
      "Train loss after 220320 examples: 19744.018\n",
      "Val loss after 220320 examples: 20984.836\n"
     ]
    },
    {
     "name": "stderr",
     "output_type": "stream",
     "text": [
      " 91%|█████████ | 136/150 [10:39:42<1:04:11, 275.08s/it]"
     ]
    },
    {
     "name": "stdout",
     "output_type": "stream",
     "text": [
      "Train loss after 220672 examples: 19797.471\n",
      "Val loss after 220672 examples: 20703.793\n",
      "Train loss after 221184 examples: 19047.643\n",
      "Val loss after 221184 examples: 20803.033\n",
      "Train loss after 221696 examples: 18480.451\n",
      "Val loss after 221696 examples: 20798.165\n",
      "Train loss after 221940 examples: 18843.621\n",
      "Val loss after 221940 examples: 20680.773\n"
     ]
    },
    {
     "name": "stderr",
     "output_type": "stream",
     "text": [
      " 91%|█████████▏| 137/150 [10:44:14<59:23, 274.14s/it]  "
     ]
    },
    {
     "name": "stdout",
     "output_type": "stream",
     "text": [
      "Train loss after 222208 examples: 20712.176\n",
      "Val loss after 222208 examples: 20801.064\n",
      "Train loss after 222720 examples: 20389.445\n",
      "Val loss after 222720 examples: 20675.010\n",
      "Train loss after 223232 examples: 20552.389\n",
      "Val loss after 223232 examples: 20761.962\n",
      "Train loss after 223560 examples: 20773.275\n",
      "Val loss after 223560 examples: 20870.172\n"
     ]
    },
    {
     "name": "stderr",
     "output_type": "stream",
     "text": [
      " 92%|█████████▏| 138/150 [10:48:46<54:40, 273.36s/it]"
     ]
    },
    {
     "name": "stdout",
     "output_type": "stream",
     "text": [
      "Train loss after 223744 examples: 20198.225\n",
      "Val loss after 223744 examples: 20818.266\n",
      "Train loss after 224256 examples: 19455.930\n",
      "Val loss after 224256 examples: 20835.279\n",
      "Train loss after 224768 examples: 18481.508\n",
      "Val loss after 224768 examples: 20729.904\n",
      "Train loss after 225180 examples: 20540.604\n",
      "Val loss after 225180 examples: 20712.907\n"
     ]
    },
    {
     "name": "stderr",
     "output_type": "stream",
     "text": [
      " 93%|█████████▎| 139/150 [10:53:17<50:01, 272.87s/it]"
     ]
    },
    {
     "name": "stdout",
     "output_type": "stream",
     "text": [
      "Train loss after 225280 examples: 22629.311\n",
      "Val loss after 225280 examples: 20898.376\n",
      "Train loss after 225792 examples: 19192.322\n",
      "Val loss after 225792 examples: 21010.325\n",
      "Train loss after 226304 examples: 19495.502\n",
      "Val loss after 226304 examples: 20887.916\n",
      "Train loss after 226800 examples: 19888.266\n",
      "Val loss after 226800 examples: 23569.229\n"
     ]
    },
    {
     "name": "stderr",
     "output_type": "stream",
     "text": [
      " 93%|█████████▎| 140/150 [10:57:49<45:26, 272.66s/it]"
     ]
    },
    {
     "name": "stdout",
     "output_type": "stream",
     "text": [
      "Train loss after 226816 examples: 22844.426\n",
      "Val loss after 226816 examples: 27147.864\n",
      "Train loss after 227328 examples: 30050.871\n",
      "Val loss after 227328 examples: 22161.608\n",
      "Train loss after 227840 examples: 22681.535\n",
      "Val loss after 227840 examples: 25736.720\n",
      "Train loss after 228352 examples: 74572.555\n",
      "Val loss after 228352 examples: 59990.113\n",
      "Train loss after 228420 examples: 62293.379\n",
      "Val loss after 228420 examples: 24707.192\n"
     ]
    },
    {
     "name": "stderr",
     "output_type": "stream",
     "text": [
      " 94%|█████████▍| 141/150 [11:02:36<41:32, 276.96s/it]"
     ]
    },
    {
     "name": "stdout",
     "output_type": "stream",
     "text": [
      "Train loss after 228864 examples: 32862.445\n",
      "Val loss after 228864 examples: 44660.063\n",
      "Train loss after 229376 examples: 66010.656\n",
      "Val loss after 229376 examples: 32344.897\n",
      "Train loss after 229888 examples: 32293.477\n",
      "Val loss after 229888 examples: 109240.895\n",
      "Train loss after 230040 examples: 82079.461\n",
      "Val loss after 230040 examples: 36760.758\n"
     ]
    },
    {
     "name": "stderr",
     "output_type": "stream",
     "text": [
      " 95%|█████████▍| 142/150 [11:07:08<36:43, 275.47s/it]"
     ]
    },
    {
     "name": "stdout",
     "output_type": "stream",
     "text": [
      "Train loss after 230400 examples: 58704.074\n",
      "Val loss after 230400 examples: 73666.691\n",
      "Train loss after 230912 examples: 25048.240\n",
      "Val loss after 230912 examples: 75016.575\n",
      "Train loss after 231424 examples: 31763.725\n",
      "Val loss after 231424 examples: 54029.799\n",
      "Train loss after 231660 examples: 53037.602\n",
      "Val loss after 231660 examples: 37964.855\n"
     ]
    },
    {
     "name": "stderr",
     "output_type": "stream",
     "text": [
      " 95%|█████████▌| 143/150 [11:11:40<32:00, 274.40s/it]"
     ]
    },
    {
     "name": "stdout",
     "output_type": "stream",
     "text": [
      "Train loss after 231936 examples: 44519.777\n",
      "Val loss after 231936 examples: 57527.718\n",
      "Train loss after 232448 examples: 39560.418\n",
      "Val loss after 232448 examples: 51041.238\n",
      "Train loss after 232960 examples: 33554.074\n",
      "Val loss after 232960 examples: 32213.159\n",
      "Train loss after 233280 examples: 31689.029\n",
      "Val loss after 233280 examples: 42511.130\n"
     ]
    },
    {
     "name": "stderr",
     "output_type": "stream",
     "text": [
      " 96%|█████████▌| 144/150 [11:16:12<27:21, 273.65s/it]"
     ]
    },
    {
     "name": "stdout",
     "output_type": "stream",
     "text": [
      "Train loss after 233472 examples: 32138.561\n",
      "Val loss after 233472 examples: 44998.567\n",
      "Train loss after 233984 examples: 49039.715\n",
      "Val loss after 233984 examples: 55356.446\n",
      "Train loss after 234496 examples: 73553.391\n",
      "Val loss after 234496 examples: 36314.387\n",
      "Train loss after 234900 examples: 57094.512\n",
      "Val loss after 234900 examples: 47143.032\n"
     ]
    },
    {
     "name": "stderr",
     "output_type": "stream",
     "text": [
      " 97%|█████████▋| 145/150 [11:20:44<22:45, 273.06s/it]"
     ]
    },
    {
     "name": "stdout",
     "output_type": "stream",
     "text": [
      "Train loss after 235008 examples: 45445.312\n",
      "Val loss after 235008 examples: 23203.977\n",
      "Train loss after 235520 examples: 38241.457\n",
      "Val loss after 235520 examples: 25520.157\n",
      "Train loss after 236032 examples: 24121.230\n",
      "Val loss after 236032 examples: 35633.540\n",
      "Train loss after 236520 examples: 33089.336\n",
      "Val loss after 236520 examples: 28005.102\n"
     ]
    },
    {
     "name": "stderr",
     "output_type": "stream",
     "text": [
      " 97%|█████████▋| 146/150 [11:25:16<18:11, 272.82s/it]"
     ]
    },
    {
     "name": "stdout",
     "output_type": "stream",
     "text": [
      "Train loss after 236544 examples: 29236.523\n",
      "Val loss after 236544 examples: 21095.055\n",
      "Train loss after 237056 examples: 24247.721\n",
      "Val loss after 237056 examples: 38621.234\n",
      "Train loss after 237568 examples: 23087.273\n",
      "Val loss after 237568 examples: 44180.961\n",
      "Train loss after 238080 examples: 43152.000\n",
      "Val loss after 238080 examples: 49655.544\n",
      "Train loss after 238140 examples: 48001.895\n",
      "Val loss after 238140 examples: 38947.018\n"
     ]
    },
    {
     "name": "stderr",
     "output_type": "stream",
     "text": [
      " 98%|█████████▊| 147/150 [11:30:03<13:51, 277.02s/it]"
     ]
    },
    {
     "name": "stdout",
     "output_type": "stream",
     "text": [
      "Train loss after 238592 examples: 29475.881\n",
      "Val loss after 238592 examples: 41849.370\n",
      "Train loss after 239104 examples: 37846.875\n",
      "Val loss after 239104 examples: 45265.050\n",
      "Train loss after 239616 examples: 25111.979\n",
      "Val loss after 239616 examples: 29431.508\n",
      "Train loss after 239760 examples: 18211.615\n",
      "Val loss after 239760 examples: 29515.421\n"
     ]
    },
    {
     "name": "stderr",
     "output_type": "stream",
     "text": [
      " 99%|█████████▊| 148/150 [11:34:35<09:10, 275.46s/it]"
     ]
    },
    {
     "name": "stdout",
     "output_type": "stream",
     "text": [
      "Train loss after 240128 examples: 25417.906\n",
      "Val loss after 240128 examples: 16667.464\n",
      "Train loss after 240640 examples: 18065.090\n",
      "Val loss after 240640 examples: 37674.189\n",
      "Train loss after 241152 examples: 31672.980\n",
      "Val loss after 241152 examples: 40362.287\n",
      "Train loss after 241380 examples: 31676.209\n",
      "Val loss after 241380 examples: 26720.835\n"
     ]
    },
    {
     "name": "stderr",
     "output_type": "stream",
     "text": [
      " 99%|█████████▉| 149/150 [11:39:07<04:34, 274.39s/it]"
     ]
    },
    {
     "name": "stdout",
     "output_type": "stream",
     "text": [
      "Train loss after 241664 examples: 17429.262\n",
      "Val loss after 241664 examples: 66809.092\n",
      "Train loss after 242176 examples: 36659.988\n",
      "Val loss after 242176 examples: 29877.103\n",
      "Train loss after 242688 examples: 16835.596\n",
      "Val loss after 242688 examples: 71893.964\n",
      "Train loss after 243000 examples: 40402.668\n",
      "Val loss after 243000 examples: 58756.107\n"
     ]
    },
    {
     "name": "stderr",
     "output_type": "stream",
     "text": [
      "100%|██████████| 150/150 [11:43:39<00:00, 281.46s/it]\n"
     ]
    },
    {
     "data": {
      "text/html": [
       "<style>\n",
       "    table.wandb td:nth-child(1) { padding: 0 10px; text-align: left ; width: auto;} td:nth-child(2) {text-align: left ; width: 100%}\n",
       "    .wandb-row { display: flex; flex-direction: row; flex-wrap: wrap; justify-content: flex-start; width: 100% }\n",
       "    .wandb-col { display: flex; flex-direction: column; flex-basis: 100%; flex: 1; padding: 10px; }\n",
       "    </style>\n",
       "<div class=\"wandb-row\"><div class=\"wandb-col\"><h3>Run history:</h3><br/><table class=\"wandb\"><tr><td>epoch</td><td>▁▁▁▁▂▂▂▂▂▃▃▃▃▃▃▄▄▄▄▄▄▅▅▅▅▅▆▆▆▆▆▇▇▇▇▇▇███</td></tr><tr><td>train_loss</td><td>█▃▂▁▁▁▁▁▁▁▁▁▁▁▁▁▁▁▁▁▁▁▁▁▁▁▁▁▁▁▁▁▁▁▁▁▁▁▁▁</td></tr><tr><td>val_loss</td><td>█▃▂▁▁▁▁▁▁▁▁▁▁▁▁▁▁▁▁▁▁▁▁▁▁▁▁▁▁▁▁▁▁▁▁▁▁▁▁▁</td></tr></table><br/></div><div class=\"wandb-col\"><h3>Run summary:</h3><br/><table class=\"wandb\"><tr><td>epoch</td><td>149</td></tr><tr><td>train_loss</td><td>40402.66797</td></tr><tr><td>val_loss</td><td>58756.1069</td></tr></table><br/></div></div>"
      ],
      "text/plain": [
       "<IPython.core.display.HTML object>"
      ]
     },
     "metadata": {},
     "output_type": "display_data"
    },
    {
     "data": {
      "text/html": [
       " View run <strong style=\"color:#cdcd00\">toasty-wave-24</strong> at: <a href='https://wandb.ai/nhikieu/drfuse/runs/v002n3z6' target=\"_blank\">https://wandb.ai/nhikieu/drfuse/runs/v002n3z6</a><br/> View project at: <a href='https://wandb.ai/nhikieu/drfuse' target=\"_blank\">https://wandb.ai/nhikieu/drfuse</a><br/>Synced 5 W&B file(s), 2492 media file(s), 0 artifact file(s) and 0 other file(s)"
      ],
      "text/plain": [
       "<IPython.core.display.HTML object>"
      ]
     },
     "metadata": {},
     "output_type": "display_data"
    },
    {
     "data": {
      "text/html": [
       "Find logs at: <code>.\\wandb\\run-20240712_124649-v002n3z6\\logs</code>"
      ],
      "text/plain": [
       "<IPython.core.display.HTML object>"
      ]
     },
     "metadata": {},
     "output_type": "display_data"
    },
    {
     "data": {
      "text/html": [
       "The new W&B backend becomes opt-out in version 0.18.0; try it out with `wandb.require(\"core\")`! See https://wandb.me/wandb-core for more information."
      ],
      "text/plain": [
       "<IPython.core.display.HTML object>"
      ]
     },
     "metadata": {},
     "output_type": "display_data"
    }
   ],
   "source": [
    "# best pretrained path\n",
    "ckpt_path = r\"D:\\drfuse\\checkpoints\\1720700298\\1720724395_loss1.8435\"\n",
    "with wandb.init(project=\"drfuse\", entity=\"nhikieu\", config=EXPERIMENT_CONFIG):\n",
    "    config = wandb.config\n",
    "    model_trainer = DrFuse_RS_Trainer(config, pretrain=True, ckpt=ckpt_path)\n",
    "    model_trainer(train_loader, validate_loader)"
   ]
  },
  {
   "cell_type": "markdown",
   "metadata": {},
   "source": [
    "# Unit Test"
   ]
  },
  {
   "cell_type": "code",
   "execution_count": 3,
   "metadata": {},
   "outputs": [
    {
     "name": "stderr",
     "output_type": "stream",
     "text": [
      "d:\\drfuse\\drfuse_venv\\lib\\site-packages\\torch\\nn\\modules\\instancenorm.py:80: UserWarning: input's size at dim=0 does not match num_features. You can silence this warning by not passing in num_features, which is not used because affine=False\n",
      "  warnings.warn(f\"input's size at dim={feature_dim} does not match num_features. \"\n"
     ]
    },
    {
     "name": "stdout",
     "output_type": "stream",
     "text": [
      "torch.Size([6, 6, 512, 512]) torch.Size([6, 6, 512, 512]) torch.Size([6, 6, 512, 512]) torch.Size([6, 6, 512, 512]) torch.Size([6, 6, 512, 512])\n",
      "Total trainable parameters: 42120024\n"
     ]
    }
   ],
   "source": [
    "dummies = torch.rand(6, 4, 512, 512)\n",
    "masks = torch.FloatTensor([True, False, True, True, False, False])\n",
    "model = DrFuse_RS_Model()\n",
    "results = model(dummies, masks)\n",
    "print(results['pred_rgb'].shape, results['pred_ndsm'].shape, \n",
    "      results['pred_shared'].shape, results['pred_multimodal'].shape,\n",
    "      results['aux_preds'][0].shape)\n",
    "\n",
    "# Assuming model is an instance of a class derived from torch.nn.Module\n",
    "total_params = sum(p.numel() for p in model.parameters() if p.requires_grad)\n",
    "\n",
    "print(f\"Total trainable parameters: {total_params}\")"
   ]
  },
  {
   "cell_type": "code",
   "execution_count": null,
   "metadata": {},
   "outputs": [],
   "source": [
    "pairs = torch.FloatTensor([True, False, True, False, True, True])\n",
    "pairs = pairs.unsqueeze(1)\n",
    "feat_dummy = torch.randn(6, 512)\n",
    "test = pairs*feat_dummy\n",
    "test"
   ]
  },
  {
   "cell_type": "code",
   "execution_count": null,
   "metadata": {},
   "outputs": [],
   "source": [
    "for i, (input_4C, gt, mask) in enumerate(validate_loader):\n",
    "  print(input_4C.shape, gt.shape, mask.shape)\n",
    "  print(mask)\n",
    "  break"
   ]
  }
 ],
 "metadata": {
  "kernelspec": {
   "display_name": "drfuse_venv",
   "language": "python",
   "name": "python3"
  },
  "language_info": {
   "codemirror_mode": {
    "name": "ipython",
    "version": 3
   },
   "file_extension": ".py",
   "mimetype": "text/x-python",
   "name": "python",
   "nbconvert_exporter": "python",
   "pygments_lexer": "ipython3",
   "version": "3.9.12"
  }
 },
 "nbformat": 4,
 "nbformat_minor": 2
}
