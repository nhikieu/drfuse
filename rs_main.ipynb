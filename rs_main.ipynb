{
 "cells": [
  {
   "cell_type": "markdown",
   "metadata": {},
   "source": [
    "# Import"
   ]
  },
  {
   "cell_type": "code",
   "execution_count": 1,
   "metadata": {},
   "outputs": [
    {
     "name": "stderr",
     "output_type": "stream",
     "text": [
      "C:\\Users\\n10300759\\AppData\\Local\\Temp\\ipykernel_30652\\2494540655.py:7: TqdmWarning: IProgress not found. Please update jupyter and ipywidgets. See https://ipywidgets.readthedocs.io/en/stable/user_install.html\n",
      "  from tqdm.autonotebook import tqdm\n"
     ]
    }
   ],
   "source": [
    "from torch import nn\n",
    "import torch\n",
    "from models import DrFuse_RS_Model, DrFuse_RS_Trainer\n",
    "import time\n",
    "import os\n",
    "from torch.utils.data import Dataset, DataLoader\n",
    "from tqdm.autonotebook import tqdm\n",
    "import skimage.io as io\n",
    "import earthpy.spatial as es\n",
    "import numpy as np\n",
    "import random\n",
    "import wandb\n",
    "\n",
    "\n",
    "# Ensure deterministic behavior\n",
    "torch.backends.cudnn.deterministic = True\n",
    "random.seed(hash(\"setting random seeds\") % 2**32 - 1)\n",
    "np.random.seed(hash(\"improves reproducibility\") % 2**32 - 1)\n",
    "torch.manual_seed(hash(\"by removing stochasticity\") % 2**32 - 1)\n",
    "torch.cuda.manual_seed_all(hash(\"so runs are repeatable\") % 2**32 - 1)"
   ]
  },
  {
   "cell_type": "markdown",
   "metadata": {},
   "source": [
    "# Data"
   ]
  },
  {
   "cell_type": "code",
   "execution_count": 2,
   "metadata": {},
   "outputs": [
    {
     "name": "stdout",
     "output_type": "stream",
     "text": [
      "checkpoints\\1721218346\n"
     ]
    }
   ],
   "source": [
    "now = str(int(time.time()))\n",
    "\n",
    "EXPERIMENT_CONFIG = dict(\n",
    "    # window data folder\n",
    "    DATA_FOLDER = r'D:\\CarsSegmentationTroubleShoot\\data\\multimodal',\n",
    "    # mac data folder\n",
    "    # DATA_FOLDER = r'/Users/nhikieu/Documents/PhD/multimodal',\n",
    "    num_epoch = 100, \n",
    "    img_size = 512, \n",
    "    num_classes = 6,\n",
    "    input_channels = 5,\n",
    "    batch_size = 4,\n",
    "    checkpoint_pth = os.path.join('checkpoints', now),\n",
    "    update_optim_size = 32\n",
    "    )\n",
    "DEVICE = 'mps'\n",
    "\n",
    "print(EXPERIMENT_CONFIG['checkpoint_pth'])"
   ]
  },
  {
   "cell_type": "code",
   "execution_count": 3,
   "metadata": {},
   "outputs": [],
   "source": [
    "def rgb_to_class(mask_image):\n",
    "  class_map = {\n",
    "    (255,255,255): 0, \n",
    "    (0,0,255): 1, \n",
    "    (0,255,255): 2, \n",
    "    (0,255,0): 3, \n",
    "    (255,255,0): 4, \n",
    "    (255,0,0): 5\n",
    "  }\n",
    "\n",
    "  # Create a 3D numpy array that represents the RGB color of each pixel\n",
    "  rgb_data = mask_image.reshape(-1, 3)\n",
    "\n",
    "  # Create a 1D numpy array that represents the class label for each RGB color\n",
    "  class_labels = np.zeros(rgb_data.shape[0], dtype=np.uint8)\n",
    "  for rgb, class_label in class_map.items():\n",
    "      mask = np.all(rgb_data == np.array(rgb), axis=1)\n",
    "      class_labels[mask] = class_label\n",
    "\n",
    "  # Reshape the 1D class label array into a 2D class map\n",
    "  class_data = class_labels.reshape(mask_image.shape[:2])\n",
    "\n",
    "  return class_data\n",
    "\n",
    "\n",
    "class VaihingenDataset(Dataset):\n",
    "  def __init__(self, folder) -> None:\n",
    "    '''\n",
    "    folder: data path include both rgb img and gt\n",
    "    gt: 3 channels map with postfix '_gt'\n",
    "    '''\n",
    "    super().__init__()\n",
    "\n",
    "    self.imgs = []\n",
    "    self.gts = []\n",
    "\n",
    "    # get all filenames in the directory\n",
    "    filenames = os.listdir(os.path.join(folder, 'rgb'))\n",
    "\n",
    "    for f in tqdm(filenames):\n",
    "      img = io.imread(os.path.join(folder, 'rgb', f)) / 255.0\n",
    "     \n",
    "      ndsm = io.imread(os.path.join(folder, 'ndsm', f.split('.png')[0] + '_ndsm.tif'))\n",
    "      ndsm = np.expand_dims(ndsm, axis=2)\n",
    "    \n",
    "      input_4C = np.dstack((img, ndsm))\n",
    "\n",
    "      input_4C = torch.tensor(input_4C).permute((2, 0, 1))\n",
    "      \n",
    "      gt_path = os.path.join(folder, 'gt', f.split('.png')[0] + '_gt.png')\n",
    "      gt = io.imread(gt_path)\n",
    "      gt = rgb_to_class(gt)\n",
    "      gt = torch.tensor(gt).unsqueeze(0)\n",
    "\n",
    "      self.imgs.append(input_4C)\n",
    "      self.gts.append(gt)\n",
    "    \n",
    "\n",
    "  def __len__(self):\n",
    "    return len(self.imgs)\n",
    "  \n",
    "  def __getitem__(self, index):\n",
    "    input_4C = self.imgs[index].float()\n",
    "    gt = self.gts[index]\n",
    "\n",
    "    # mask_array = [True, False]\n",
    "    mask_index = np.random.choice(2, 1, p=[0.5, 0.5])\n",
    "    mask = torch.tensor(mask_index[0])\n",
    "\n",
    "    return input_4C, gt, mask"
   ]
  },
  {
   "cell_type": "code",
   "execution_count": 4,
   "metadata": {},
   "outputs": [
    {
     "name": "stderr",
     "output_type": "stream",
     "text": [
      "100%|██████████| 1620/1620 [04:41<00:00,  5.76it/s]\n",
      "100%|██████████| 120/120 [00:20<00:00,  6.00it/s]"
     ]
    },
    {
     "name": "stdout",
     "output_type": "stream",
     "text": [
      "Train samples: 1620\n",
      "Val samples: 120\n"
     ]
    },
    {
     "name": "stderr",
     "output_type": "stream",
     "text": [
      "\n"
     ]
    }
   ],
   "source": [
    "#Note that we are using ground truth in the folder '1CGT'. They are not RGB anymore, but one channel.\n",
    "training_dataset = VaihingenDataset(os.path.join(EXPERIMENT_CONFIG['DATA_FOLDER'], 'train'))\n",
    "validate_dataset = VaihingenDataset(os.path.join(EXPERIMENT_CONFIG['DATA_FOLDER'], 'val'))\n",
    "\n",
    "#Note that we shuffle the data for the training set, but not for the validation set:\n",
    "train_loader = DataLoader(dataset=training_dataset, batch_size=EXPERIMENT_CONFIG['batch_size'], shuffle=True, pin_memory=True)\n",
    "validate_loader = DataLoader(dataset=validate_dataset, batch_size=EXPERIMENT_CONFIG['batch_size'], shuffle=True, pin_memory=True)\n",
    "\n",
    "print(f'Train samples: {len(training_dataset)}')\n",
    "print(f'Val samples: {len(validate_dataset)}')"
   ]
  },
  {
   "cell_type": "markdown",
   "metadata": {},
   "source": [
    "# Train"
   ]
  },
  {
   "cell_type": "code",
   "execution_count": 5,
   "metadata": {},
   "outputs": [
    {
     "name": "stderr",
     "output_type": "stream",
     "text": [
      "Failed to detect the name of this notebook, you can set it manually with the WANDB_NOTEBOOK_NAME environment variable to enable code saving.\n",
      "\u001b[34m\u001b[1mwandb\u001b[0m: Currently logged in as: \u001b[33mnhikieu\u001b[0m (\u001b[33mqut_nhi_phd\u001b[0m). Use \u001b[1m`wandb login --relogin`\u001b[0m to force relogin\n"
     ]
    },
    {
     "data": {
      "text/plain": [
       "True"
      ]
     },
     "execution_count": 5,
     "metadata": {},
     "output_type": "execute_result"
    }
   ],
   "source": [
    "wandb.login()"
   ]
  },
  {
   "cell_type": "code",
   "execution_count": 6,
   "metadata": {},
   "outputs": [
    {
     "name": "stderr",
     "output_type": "stream",
     "text": [
      "\u001b[34m\u001b[1mwandb\u001b[0m: Currently logged in as: \u001b[33mnhikieu\u001b[0m. Use \u001b[1m`wandb login --relogin`\u001b[0m to force relogin\n"
     ]
    },
    {
     "data": {
      "text/html": [
       "Tracking run with wandb version 0.17.4"
      ],
      "text/plain": [
       "<IPython.core.display.HTML object>"
      ]
     },
     "metadata": {},
     "output_type": "display_data"
    },
    {
     "data": {
      "text/html": [
       "Run data is saved locally in <code>d:\\drfuse\\wandb\\run-20240717_221747-tio5wzb8</code>"
      ],
      "text/plain": [
       "<IPython.core.display.HTML object>"
      ]
     },
     "metadata": {},
     "output_type": "display_data"
    },
    {
     "data": {
      "text/html": [
       "Syncing run <strong><a href='https://wandb.ai/nhikieu/drfuse/runs/tio5wzb8' target=\"_blank\">skilled-music-35</a></strong> to <a href='https://wandb.ai/nhikieu/drfuse' target=\"_blank\">Weights & Biases</a> (<a href='https://wandb.me/run' target=\"_blank\">docs</a>)<br/>"
      ],
      "text/plain": [
       "<IPython.core.display.HTML object>"
      ]
     },
     "metadata": {},
     "output_type": "display_data"
    },
    {
     "data": {
      "text/html": [
       " View project at <a href='https://wandb.ai/nhikieu/drfuse' target=\"_blank\">https://wandb.ai/nhikieu/drfuse</a>"
      ],
      "text/plain": [
       "<IPython.core.display.HTML object>"
      ]
     },
     "metadata": {},
     "output_type": "display_data"
    },
    {
     "data": {
      "text/html": [
       " View run at <a href='https://wandb.ai/nhikieu/drfuse/runs/tio5wzb8' target=\"_blank\">https://wandb.ai/nhikieu/drfuse/runs/tio5wzb8</a>"
      ],
      "text/plain": [
       "<IPython.core.display.HTML object>"
      ]
     },
     "metadata": {},
     "output_type": "display_data"
    },
    {
     "name": "stderr",
     "output_type": "stream",
     "text": [
      "  0%|          | 0/150 [00:00<?, ?it/s]d:\\drfuse\\models\\drfuse_rs.py:88: UserWarning: To copy construct from a tensor, it is recommended to use sourceTensor.clone().detach() or sourceTensor.clone().detach().requires_grad_(True), rather than torch.tensor(sourceTensor).\n",
      "  masks = torch.tensor(masks).to(device)\n",
      "d:\\drfuse\\drfuse_venv\\lib\\site-packages\\torch\\nn\\modules\\instancenorm.py:80: UserWarning: input's size at dim=0 does not match num_features. You can silence this warning by not passing in num_features, which is not used because affine=False\n",
      "  warnings.warn(f\"input's size at dim={feature_dim} does not match num_features. \"\n",
      "d:\\drfuse\\models\\drfuse_rs.py:111: UserWarning: To copy construct from a tensor, it is recommended to use sourceTensor.clone().detach() or sourceTensor.clone().detach().requires_grad_(True), rather than torch.tensor(sourceTensor).\n",
      "  masks = torch.tensor(masks).to(device)\n"
     ]
    },
    {
     "name": "stdout",
     "output_type": "stream",
     "text": [
      "Train loss after 00512 examples: 6326.419\n",
      "Val loss after 00512 examples: 10302.239\n",
      "Train loss after 01024 examples: 3737.991\n",
      "Val loss after 01024 examples: 3383.319\n",
      "Train loss after 01536 examples: 3555.641\n",
      "Val loss after 01536 examples: 2122.848\n",
      "Train loss after 01620 examples: 3182.374\n",
      "Val loss after 01620 examples: 2109.753\n"
     ]
    },
    {
     "name": "stderr",
     "output_type": "stream",
     "text": [
      "  1%|          | 1/150 [06:10<15:20:19, 370.60s/it]"
     ]
    },
    {
     "name": "stdout",
     "output_type": "stream",
     "text": [
      "Train loss after 02048 examples: 4933.048\n",
      "Val loss after 02048 examples: 6188.715\n",
      "Train loss after 02560 examples: 4532.050\n",
      "Val loss after 02560 examples: 3756.334\n",
      "Train loss after 03072 examples: 2509.765\n",
      "Val loss after 03072 examples: 3438.205\n"
     ]
    },
    {
     "name": "stderr",
     "output_type": "stream",
     "text": [
      "  1%|▏         | 2/150 [11:30<14:00:16, 340.65s/it]"
     ]
    },
    {
     "name": "stdout",
     "output_type": "stream",
     "text": [
      "Train loss after 03240 examples: 2686.002\n",
      "Val loss after 03240 examples: 3449.583\n",
      "Train loss after 03584 examples: 2655.750\n",
      "Val loss after 03584 examples: 1599.277\n",
      "Train loss after 04096 examples: 2381.661\n",
      "Val loss after 04096 examples: 1735.487\n",
      "Train loss after 04608 examples: 2396.011\n",
      "Val loss after 04608 examples: 1590.457\n"
     ]
    },
    {
     "name": "stderr",
     "output_type": "stream",
     "text": [
      "  2%|▏         | 3/150 [16:51<13:33:11, 331.91s/it]"
     ]
    },
    {
     "name": "stdout",
     "output_type": "stream",
     "text": [
      "Train loss after 04860 examples: 1120.109\n",
      "Val loss after 04860 examples: 1645.000\n",
      "Train loss after 05120 examples: 2012.812\n",
      "Val loss after 05120 examples: 1561.862\n",
      "Train loss after 05632 examples: 2577.649\n",
      "Val loss after 05632 examples: 5082.156\n",
      "Train loss after 06144 examples: 2256.182\n",
      "Val loss after 06144 examples: 2735.460\n"
     ]
    },
    {
     "name": "stderr",
     "output_type": "stream",
     "text": [
      "  3%|▎         | 4/150 [22:13<13:18:04, 327.97s/it]"
     ]
    },
    {
     "name": "stdout",
     "output_type": "stream",
     "text": [
      "Train loss after 06480 examples: 4932.911\n",
      "Val loss after 06480 examples: 3714.095\n",
      "Train loss after 06656 examples: 3872.104\n",
      "Val loss after 06656 examples: 1421.154\n",
      "Train loss after 07168 examples: 3402.980\n",
      "Val loss after 07168 examples: 1220.642\n",
      "Train loss after 07680 examples: 1463.815\n",
      "Val loss after 07680 examples: 1516.428\n"
     ]
    },
    {
     "name": "stderr",
     "output_type": "stream",
     "text": [
      "  3%|▎         | 5/150 [27:35<13:07:36, 325.91s/it]"
     ]
    },
    {
     "name": "stdout",
     "output_type": "stream",
     "text": [
      "Train loss after 08100 examples: 2520.072\n",
      "Val loss after 08100 examples: 1375.371\n",
      "Train loss after 08192 examples: 980.942\n",
      "Val loss after 08192 examples: 1730.428\n",
      "Train loss after 08704 examples: 1894.111\n",
      "Val loss after 08704 examples: 1424.956\n",
      "Train loss after 09216 examples: 2088.389\n",
      "Val loss after 09216 examples: 1333.873\n"
     ]
    },
    {
     "name": "stderr",
     "output_type": "stream",
     "text": [
      "  4%|▍         | 6/150 [32:57<12:58:37, 324.43s/it]"
     ]
    },
    {
     "name": "stdout",
     "output_type": "stream",
     "text": [
      "Train loss after 09720 examples: 597.003\n",
      "Val loss after 09720 examples: 1260.170\n",
      "Train loss after 09728 examples: 2064.425\n",
      "Val loss after 09728 examples: 1588.506\n",
      "Train loss after 10240 examples: 1340.725\n",
      "Val loss after 10240 examples: 1323.995\n",
      "Train loss after 10752 examples: 1657.116\n",
      "Val loss after 10752 examples: 1176.260\n",
      "Train loss after 11264 examples: 1251.879\n",
      "Val loss after 11264 examples: 1417.955\n"
     ]
    },
    {
     "name": "stderr",
     "output_type": "stream",
     "text": [
      "  5%|▍         | 7/150 [38:34<13:03:17, 328.65s/it]"
     ]
    },
    {
     "name": "stdout",
     "output_type": "stream",
     "text": [
      "Train loss after 11340 examples: 1449.650\n",
      "Val loss after 11340 examples: 1340.890\n",
      "Train loss after 11776 examples: 2191.820\n",
      "Val loss after 11776 examples: 1119.543\n",
      "Train loss after 12288 examples: 1519.682\n",
      "Val loss after 12288 examples: 1235.785\n",
      "Train loss after 12800 examples: 2624.969\n",
      "Val loss after 12800 examples: 2720.347\n"
     ]
    },
    {
     "name": "stderr",
     "output_type": "stream",
     "text": [
      "  5%|▌         | 8/150 [43:56<12:52:49, 326.54s/it]"
     ]
    },
    {
     "name": "stdout",
     "output_type": "stream",
     "text": [
      "Train loss after 12960 examples: 1017.004\n",
      "Val loss after 12960 examples: 1248.057\n",
      "Train loss after 13312 examples: 1262.204\n",
      "Val loss after 13312 examples: 1694.837\n",
      "Train loss after 13824 examples: 1995.060\n",
      "Val loss after 13824 examples: 1772.918\n",
      "Train loss after 14336 examples: 1721.929\n",
      "Val loss after 14336 examples: 1527.915\n"
     ]
    },
    {
     "name": "stderr",
     "output_type": "stream",
     "text": [
      "  6%|▌         | 9/150 [49:18<12:43:43, 324.99s/it]"
     ]
    },
    {
     "name": "stdout",
     "output_type": "stream",
     "text": [
      "Train loss after 14580 examples: 3754.607\n",
      "Val loss after 14580 examples: 1503.899\n",
      "Train loss after 14848 examples: 812.203\n",
      "Val loss after 14848 examples: 1150.126\n",
      "Train loss after 15360 examples: 1857.710\n",
      "Val loss after 15360 examples: 1430.046\n",
      "Train loss after 15872 examples: 1333.717\n",
      "Val loss after 15872 examples: 1511.746\n"
     ]
    },
    {
     "name": "stderr",
     "output_type": "stream",
     "text": [
      "  7%|▋         | 10/150 [54:39<12:35:36, 323.83s/it]"
     ]
    },
    {
     "name": "stdout",
     "output_type": "stream",
     "text": [
      "Train loss after 16200 examples: 1218.478\n",
      "Val loss after 16200 examples: 1306.176\n",
      "Train loss after 16384 examples: 1836.975\n",
      "Val loss after 16384 examples: 1282.934\n",
      "Train loss after 16896 examples: 1081.244\n",
      "Val loss after 16896 examples: 1525.465\n",
      "Train loss after 17408 examples: 578.828\n",
      "Val loss after 17408 examples: 1447.328\n"
     ]
    },
    {
     "name": "stderr",
     "output_type": "stream",
     "text": [
      "  7%|▋         | 11/150 [1:00:01<12:28:25, 323.06s/it]"
     ]
    },
    {
     "name": "stdout",
     "output_type": "stream",
     "text": [
      "Train loss after 17820 examples: 1126.089\n",
      "Val loss after 17820 examples: 1278.536\n",
      "Train loss after 17920 examples: 1235.439\n",
      "Val loss after 17920 examples: 1251.349\n",
      "Train loss after 18432 examples: 839.662\n",
      "Val loss after 18432 examples: 1489.803\n",
      "Train loss after 18944 examples: 1737.520\n",
      "Val loss after 18944 examples: 1470.548\n"
     ]
    },
    {
     "name": "stderr",
     "output_type": "stream",
     "text": [
      "  8%|▊         | 12/150 [1:05:22<12:22:15, 322.72s/it]"
     ]
    },
    {
     "name": "stdout",
     "output_type": "stream",
     "text": [
      "Train loss after 19440 examples: 970.594\n",
      "Val loss after 19440 examples: 1391.007\n",
      "Train loss after 19456 examples: 1503.600\n",
      "Val loss after 19456 examples: 1482.682\n",
      "Train loss after 19968 examples: 1605.511\n",
      "Val loss after 19968 examples: 1293.671\n",
      "Train loss after 20480 examples: 1391.781\n",
      "Val loss after 20480 examples: 1464.150\n",
      "Train loss after 20992 examples: 1935.547\n",
      "Val loss after 20992 examples: 1343.692\n"
     ]
    },
    {
     "name": "stderr",
     "output_type": "stream",
     "text": [
      "  9%|▊         | 13/150 [1:11:00<12:27:00, 327.15s/it]"
     ]
    },
    {
     "name": "stdout",
     "output_type": "stream",
     "text": [
      "Train loss after 21060 examples: 1440.613\n",
      "Val loss after 21060 examples: 1120.221\n",
      "Train loss after 21504 examples: 930.519\n",
      "Val loss after 21504 examples: 1308.029\n",
      "Train loss after 22016 examples: 1167.999\n",
      "Val loss after 22016 examples: 1216.906\n",
      "Train loss after 22528 examples: 1092.463\n",
      "Val loss after 22528 examples: 1206.792\n"
     ]
    },
    {
     "name": "stderr",
     "output_type": "stream",
     "text": [
      "  9%|▉         | 14/150 [1:16:22<12:18:15, 325.70s/it]"
     ]
    },
    {
     "name": "stdout",
     "output_type": "stream",
     "text": [
      "Train loss after 22680 examples: 1133.752\n",
      "Val loss after 22680 examples: 1249.184\n",
      "Train loss after 23040 examples: 2076.397\n",
      "Val loss after 23040 examples: 1296.370\n",
      "Train loss after 23552 examples: 1163.268\n",
      "Val loss after 23552 examples: 1413.058\n",
      "Train loss after 24064 examples: 929.141\n",
      "Val loss after 24064 examples: 1462.176\n"
     ]
    },
    {
     "name": "stderr",
     "output_type": "stream",
     "text": [
      " 10%|█         | 15/150 [1:21:44<12:10:28, 324.66s/it]"
     ]
    },
    {
     "name": "stdout",
     "output_type": "stream",
     "text": [
      "Train loss after 24300 examples: 1299.717\n",
      "Val loss after 24300 examples: 1232.287\n",
      "Train loss after 24576 examples: 1304.791\n",
      "Val loss after 24576 examples: 1168.477\n",
      "Train loss after 25088 examples: 2127.594\n",
      "Val loss after 25088 examples: 1353.799\n",
      "Train loss after 25600 examples: 613.274\n",
      "Val loss after 25600 examples: 1177.698\n"
     ]
    },
    {
     "name": "stderr",
     "output_type": "stream",
     "text": [
      " 11%|█         | 16/150 [1:27:06<12:02:58, 323.72s/it]"
     ]
    },
    {
     "name": "stdout",
     "output_type": "stream",
     "text": [
      "Train loss after 25920 examples: 1693.431\n",
      "Val loss after 25920 examples: 1301.931\n",
      "Train loss after 26112 examples: 784.618\n",
      "Val loss after 26112 examples: 1209.851\n",
      "Train loss after 26624 examples: 1433.285\n",
      "Val loss after 26624 examples: 1421.409\n",
      "Train loss after 27136 examples: 1606.863\n",
      "Val loss after 27136 examples: 1494.074\n"
     ]
    },
    {
     "name": "stderr",
     "output_type": "stream",
     "text": [
      " 11%|█▏        | 17/150 [1:32:28<11:56:17, 323.14s/it]"
     ]
    },
    {
     "name": "stdout",
     "output_type": "stream",
     "text": [
      "Train loss after 27540 examples: 977.405\n",
      "Val loss after 27540 examples: 1388.024\n",
      "Train loss after 27648 examples: 2114.997\n",
      "Val loss after 27648 examples: 1448.795\n",
      "Train loss after 28160 examples: 1651.006\n",
      "Val loss after 28160 examples: 1352.830\n",
      "Train loss after 28672 examples: 2752.831\n",
      "Val loss after 28672 examples: 1463.152\n"
     ]
    },
    {
     "name": "stderr",
     "output_type": "stream",
     "text": [
      " 12%|█▏        | 18/150 [1:37:50<11:49:59, 322.72s/it]"
     ]
    },
    {
     "name": "stdout",
     "output_type": "stream",
     "text": [
      "Train loss after 29160 examples: 899.393\n",
      "Val loss after 29160 examples: 1641.109\n",
      "Train loss after 29184 examples: 2532.845\n",
      "Val loss after 29184 examples: 1773.653\n",
      "Train loss after 29696 examples: 951.461\n",
      "Val loss after 29696 examples: 1327.426\n",
      "Train loss after 30208 examples: 1480.494\n",
      "Val loss after 30208 examples: 1379.835\n",
      "Train loss after 30720 examples: 1986.897\n",
      "Val loss after 30720 examples: 1499.861\n"
     ]
    },
    {
     "name": "stderr",
     "output_type": "stream",
     "text": [
      " 13%|█▎        | 19/150 [1:43:27<11:54:10, 327.10s/it]"
     ]
    },
    {
     "name": "stdout",
     "output_type": "stream",
     "text": [
      "Train loss after 30780 examples: 2002.869\n",
      "Val loss after 30780 examples: 1497.036\n",
      "Train loss after 31232 examples: 1726.546\n",
      "Val loss after 31232 examples: 1376.811\n",
      "Train loss after 31744 examples: 1987.686\n",
      "Val loss after 31744 examples: 1416.058\n",
      "Train loss after 32256 examples: 1137.680\n",
      "Val loss after 32256 examples: 1909.753\n"
     ]
    },
    {
     "name": "stderr",
     "output_type": "stream",
     "text": [
      " 13%|█▎        | 20/150 [1:48:49<11:45:25, 325.58s/it]"
     ]
    },
    {
     "name": "stdout",
     "output_type": "stream",
     "text": [
      "Train loss after 32400 examples: 663.834\n",
      "Val loss after 32400 examples: 1334.180\n",
      "Train loss after 32768 examples: 1468.856\n",
      "Val loss after 32768 examples: 1335.570\n",
      "Train loss after 33280 examples: 790.549\n",
      "Val loss after 33280 examples: 1423.408\n",
      "Train loss after 33792 examples: 1387.298\n",
      "Val loss after 33792 examples: 1312.545\n"
     ]
    },
    {
     "name": "stderr",
     "output_type": "stream",
     "text": [
      " 14%|█▍        | 21/150 [1:54:11<11:37:34, 324.46s/it]"
     ]
    },
    {
     "name": "stdout",
     "output_type": "stream",
     "text": [
      "Train loss after 34020 examples: 1318.890\n",
      "Val loss after 34020 examples: 1246.592\n",
      "Train loss after 34304 examples: 1332.129\n",
      "Val loss after 34304 examples: 1224.557\n",
      "Train loss after 34816 examples: 1719.443\n",
      "Val loss after 34816 examples: 1381.363\n",
      "Train loss after 35328 examples: 978.466\n",
      "Val loss after 35328 examples: 1374.713\n"
     ]
    },
    {
     "name": "stderr",
     "output_type": "stream",
     "text": [
      " 15%|█▍        | 22/150 [1:59:33<11:30:37, 323.73s/it]"
     ]
    },
    {
     "name": "stdout",
     "output_type": "stream",
     "text": [
      "Train loss after 35640 examples: 2026.087\n",
      "Val loss after 35640 examples: 1649.044\n",
      "Train loss after 35840 examples: 1052.297\n",
      "Val loss after 35840 examples: 1388.410\n",
      "Train loss after 36352 examples: 1916.654\n",
      "Val loss after 36352 examples: 1911.419\n",
      "Train loss after 36864 examples: 2471.686\n",
      "Val loss after 36864 examples: 1328.243\n"
     ]
    },
    {
     "name": "stderr",
     "output_type": "stream",
     "text": [
      " 15%|█▌        | 23/150 [2:04:54<11:23:45, 323.04s/it]"
     ]
    },
    {
     "name": "stdout",
     "output_type": "stream",
     "text": [
      "Train loss after 37260 examples: 1724.250\n",
      "Val loss after 37260 examples: 2113.158\n",
      "Train loss after 37376 examples: 1902.174\n",
      "Val loss after 37376 examples: 1990.484\n",
      "Train loss after 37888 examples: 1283.683\n",
      "Val loss after 37888 examples: 1432.037\n",
      "Train loss after 38400 examples: 1356.398\n",
      "Val loss after 38400 examples: 1746.366\n"
     ]
    },
    {
     "name": "stderr",
     "output_type": "stream",
     "text": [
      " 16%|█▌        | 24/150 [2:10:16<11:17:24, 322.58s/it]"
     ]
    },
    {
     "name": "stdout",
     "output_type": "stream",
     "text": [
      "Train loss after 38880 examples: 1714.586\n",
      "Val loss after 38880 examples: 1327.037\n",
      "Train loss after 38912 examples: 1678.508\n",
      "Val loss after 38912 examples: 1236.268\n",
      "Train loss after 39424 examples: 1515.796\n",
      "Val loss after 39424 examples: 1503.340\n",
      "Train loss after 39936 examples: 1178.700\n",
      "Val loss after 39936 examples: 1435.644\n",
      "Train loss after 40448 examples: 796.484\n",
      "Val loss after 40448 examples: 1254.409\n"
     ]
    },
    {
     "name": "stderr",
     "output_type": "stream",
     "text": [
      " 17%|█▋        | 25/150 [2:15:53<11:21:27, 327.10s/it]"
     ]
    },
    {
     "name": "stdout",
     "output_type": "stream",
     "text": [
      "Train loss after 40500 examples: 972.383\n",
      "Val loss after 40500 examples: 1257.538\n",
      "Train loss after 40960 examples: 879.318\n",
      "Val loss after 40960 examples: 1232.422\n",
      "Train loss after 41472 examples: 1287.052\n",
      "Val loss after 41472 examples: 1276.932\n",
      "Train loss after 41984 examples: 1549.188\n",
      "Val loss after 41984 examples: 1213.161\n"
     ]
    },
    {
     "name": "stderr",
     "output_type": "stream",
     "text": [
      " 17%|█▋        | 26/150 [2:21:15<11:12:39, 325.48s/it]"
     ]
    },
    {
     "name": "stdout",
     "output_type": "stream",
     "text": [
      "Train loss after 42120 examples: 930.267\n",
      "Val loss after 42120 examples: 1216.794\n",
      "Train loss after 42496 examples: 909.555\n",
      "Val loss after 42496 examples: 1097.417\n",
      "Train loss after 43008 examples: 1295.068\n",
      "Val loss after 43008 examples: 1339.257\n",
      "Train loss after 43520 examples: 1774.155\n",
      "Val loss after 43520 examples: 1250.449\n"
     ]
    },
    {
     "name": "stderr",
     "output_type": "stream",
     "text": [
      " 18%|█▊        | 27/150 [2:26:37<11:04:55, 324.35s/it]"
     ]
    },
    {
     "name": "stdout",
     "output_type": "stream",
     "text": [
      "Train loss after 43740 examples: 1529.607\n",
      "Val loss after 43740 examples: 1300.225\n",
      "Train loss after 44032 examples: 1098.827\n",
      "Val loss after 44032 examples: 1177.541\n",
      "Train loss after 44544 examples: 1675.567\n",
      "Val loss after 44544 examples: 1228.266\n",
      "Train loss after 45056 examples: 2135.755\n",
      "Val loss after 45056 examples: 1370.266\n"
     ]
    },
    {
     "name": "stderr",
     "output_type": "stream",
     "text": [
      " 19%|█▊        | 28/150 [2:31:59<10:58:33, 323.88s/it]"
     ]
    },
    {
     "name": "stdout",
     "output_type": "stream",
     "text": [
      "Train loss after 45360 examples: 984.582\n",
      "Val loss after 45360 examples: 1337.363\n",
      "Train loss after 45568 examples: 2369.814\n",
      "Val loss after 45568 examples: 1244.971\n",
      "Train loss after 46080 examples: 1751.305\n",
      "Val loss after 46080 examples: 1184.939\n",
      "Train loss after 46592 examples: 884.137\n",
      "Val loss after 46592 examples: 1389.613\n"
     ]
    },
    {
     "name": "stderr",
     "output_type": "stream",
     "text": [
      " 19%|█▉        | 29/150 [2:37:24<10:53:27, 324.03s/it]"
     ]
    },
    {
     "name": "stdout",
     "output_type": "stream",
     "text": [
      "Train loss after 46980 examples: 1833.606\n",
      "Val loss after 46980 examples: 1287.107\n",
      "Train loss after 47104 examples: 1547.794\n",
      "Val loss after 47104 examples: 1225.866\n",
      "Train loss after 47616 examples: 1041.396\n",
      "Val loss after 47616 examples: 1181.181\n",
      "Train loss after 48128 examples: 740.346\n",
      "Val loss after 48128 examples: 1217.877\n"
     ]
    },
    {
     "name": "stderr",
     "output_type": "stream",
     "text": [
      " 20%|██        | 30/150 [2:42:46<10:46:49, 323.41s/it]"
     ]
    },
    {
     "name": "stdout",
     "output_type": "stream",
     "text": [
      "Train loss after 48600 examples: 1518.911\n",
      "Val loss after 48600 examples: 1253.102\n",
      "Train loss after 48640 examples: 1144.668\n",
      "Val loss after 48640 examples: 1350.275\n",
      "Train loss after 49152 examples: 1735.158\n",
      "Val loss after 49152 examples: 1171.619\n",
      "Train loss after 49664 examples: 582.425\n",
      "Val loss after 49664 examples: 1397.297\n",
      "Train loss after 50176 examples: 1858.617\n",
      "Val loss after 50176 examples: 1178.632\n"
     ]
    },
    {
     "name": "stderr",
     "output_type": "stream",
     "text": [
      " 21%|██        | 31/150 [2:48:23<10:49:28, 327.46s/it]"
     ]
    },
    {
     "name": "stdout",
     "output_type": "stream",
     "text": [
      "Train loss after 50220 examples: 1083.041\n",
      "Val loss after 50220 examples: 1232.942\n",
      "Train loss after 50688 examples: 942.296\n",
      "Val loss after 50688 examples: 1197.021\n",
      "Train loss after 51200 examples: 1353.612\n",
      "Val loss after 51200 examples: 1307.881\n",
      "Train loss after 51712 examples: 1332.928\n",
      "Val loss after 51712 examples: 1389.568\n"
     ]
    },
    {
     "name": "stderr",
     "output_type": "stream",
     "text": [
      " 21%|██▏       | 32/150 [2:53:45<10:40:49, 325.85s/it]"
     ]
    },
    {
     "name": "stdout",
     "output_type": "stream",
     "text": [
      "Train loss after 51840 examples: 1201.216\n",
      "Val loss after 51840 examples: 1347.713\n",
      "Train loss after 52224 examples: 1343.173\n",
      "Val loss after 52224 examples: 1362.542\n",
      "Train loss after 52736 examples: 706.925\n",
      "Val loss after 52736 examples: 1241.492\n",
      "Train loss after 53248 examples: 1451.868\n",
      "Val loss after 53248 examples: 1195.717\n"
     ]
    },
    {
     "name": "stderr",
     "output_type": "stream",
     "text": [
      " 22%|██▏       | 33/150 [2:59:06<10:32:51, 324.55s/it]"
     ]
    },
    {
     "name": "stdout",
     "output_type": "stream",
     "text": [
      "Train loss after 53460 examples: 1957.650\n",
      "Val loss after 53460 examples: 1198.422\n",
      "Train loss after 53760 examples: 1507.904\n",
      "Val loss after 53760 examples: 1249.390\n",
      "Train loss after 54272 examples: 1304.104\n",
      "Val loss after 54272 examples: 1376.593\n",
      "Train loss after 54784 examples: 1683.602\n",
      "Val loss after 54784 examples: 1134.527\n"
     ]
    },
    {
     "name": "stderr",
     "output_type": "stream",
     "text": [
      " 23%|██▎       | 34/150 [3:04:28<10:25:52, 323.73s/it]"
     ]
    },
    {
     "name": "stdout",
     "output_type": "stream",
     "text": [
      "Train loss after 55080 examples: 827.878\n",
      "Val loss after 55080 examples: 1339.312\n",
      "Train loss after 55296 examples: 1452.252\n",
      "Val loss after 55296 examples: 1320.663\n",
      "Train loss after 55808 examples: 1661.264\n",
      "Val loss after 55808 examples: 1318.787\n",
      "Train loss after 56320 examples: 831.228\n",
      "Val loss after 56320 examples: 1327.715\n"
     ]
    },
    {
     "name": "stderr",
     "output_type": "stream",
     "text": [
      " 23%|██▎       | 35/150 [3:09:51<10:19:41, 323.32s/it]"
     ]
    },
    {
     "name": "stdout",
     "output_type": "stream",
     "text": [
      "Train loss after 56700 examples: 665.078\n",
      "Val loss after 56700 examples: 1426.559\n",
      "Train loss after 56832 examples: 1196.363\n",
      "Val loss after 56832 examples: 1347.717\n",
      "Train loss after 57344 examples: 1326.885\n",
      "Val loss after 57344 examples: 1529.050\n",
      "Train loss after 57856 examples: 916.348\n",
      "Val loss after 57856 examples: 1315.365\n"
     ]
    },
    {
     "name": "stderr",
     "output_type": "stream",
     "text": [
      " 24%|██▍       | 36/150 [3:15:12<10:13:32, 322.91s/it]"
     ]
    },
    {
     "name": "stdout",
     "output_type": "stream",
     "text": [
      "Train loss after 58320 examples: 1351.258\n",
      "Val loss after 58320 examples: 1424.979\n",
      "Train loss after 58368 examples: 902.659\n",
      "Val loss after 58368 examples: 1170.946\n",
      "Train loss after 58880 examples: 762.943\n",
      "Val loss after 58880 examples: 1324.433\n",
      "Train loss after 59392 examples: 2598.900\n",
      "Val loss after 59392 examples: 1427.619\n",
      "Train loss after 59904 examples: 958.116\n",
      "Val loss after 59904 examples: 1563.849\n"
     ]
    },
    {
     "name": "stderr",
     "output_type": "stream",
     "text": [
      " 25%|██▍       | 37/150 [3:20:51<10:16:50, 327.52s/it]"
     ]
    },
    {
     "name": "stdout",
     "output_type": "stream",
     "text": [
      "Train loss after 59940 examples: 3045.210\n",
      "Val loss after 59940 examples: 1929.604\n",
      "Train loss after 60416 examples: 2114.995\n",
      "Val loss after 60416 examples: 1390.469\n",
      "Train loss after 60928 examples: 1160.570\n",
      "Val loss after 60928 examples: 2235.204\n",
      "Train loss after 61440 examples: 2156.229\n",
      "Val loss after 61440 examples: 1417.555\n"
     ]
    },
    {
     "name": "stderr",
     "output_type": "stream",
     "text": [
      " 25%|██▌       | 38/150 [3:26:13<10:08:16, 325.86s/it]"
     ]
    },
    {
     "name": "stdout",
     "output_type": "stream",
     "text": [
      "Train loss after 61560 examples: 898.952\n",
      "Val loss after 61560 examples: 1452.896\n",
      "Train loss after 61952 examples: 2529.952\n",
      "Val loss after 61952 examples: 2121.255\n",
      "Train loss after 62464 examples: 635.756\n",
      "Val loss after 62464 examples: 1730.756\n",
      "Train loss after 62976 examples: 1180.115\n",
      "Val loss after 62976 examples: 1573.698\n"
     ]
    },
    {
     "name": "stderr",
     "output_type": "stream",
     "text": [
      " 26%|██▌       | 39/150 [3:31:35<10:00:46, 324.75s/it]"
     ]
    },
    {
     "name": "stdout",
     "output_type": "stream",
     "text": [
      "Train loss after 63180 examples: 1519.601\n",
      "Val loss after 63180 examples: 1631.281\n",
      "Train loss after 63488 examples: 952.934\n",
      "Val loss after 63488 examples: 2151.575\n",
      "Train loss after 64000 examples: 712.812\n",
      "Val loss after 64000 examples: 1749.612\n",
      "Train loss after 64512 examples: 2012.968\n",
      "Val loss after 64512 examples: 1630.895\n"
     ]
    },
    {
     "name": "stderr",
     "output_type": "stream",
     "text": [
      " 27%|██▋       | 40/150 [3:36:57<9:53:57, 323.98s/it] "
     ]
    },
    {
     "name": "stdout",
     "output_type": "stream",
     "text": [
      "Train loss after 64800 examples: 1897.075\n",
      "Val loss after 64800 examples: 2179.207\n",
      "Train loss after 65024 examples: 954.582\n",
      "Val loss after 65024 examples: 1807.146\n",
      "Train loss after 65536 examples: 1176.796\n",
      "Val loss after 65536 examples: 1367.575\n",
      "Train loss after 66048 examples: 1997.224\n",
      "Val loss after 66048 examples: 1379.213\n"
     ]
    },
    {
     "name": "stderr",
     "output_type": "stream",
     "text": [
      " 27%|██▋       | 41/150 [3:42:19<9:47:28, 323.38s/it]"
     ]
    },
    {
     "name": "stdout",
     "output_type": "stream",
     "text": [
      "Train loss after 66420 examples: 2419.187\n",
      "Val loss after 66420 examples: 1503.641\n",
      "Train loss after 66560 examples: 2235.989\n",
      "Val loss after 66560 examples: 1581.336\n",
      "Train loss after 67072 examples: 1846.129\n",
      "Val loss after 67072 examples: 1333.345\n",
      "Train loss after 67584 examples: 1571.615\n",
      "Val loss after 67584 examples: 1356.158\n"
     ]
    },
    {
     "name": "stderr",
     "output_type": "stream",
     "text": [
      " 28%|██▊       | 42/150 [3:47:40<9:40:58, 322.76s/it]"
     ]
    },
    {
     "name": "stdout",
     "output_type": "stream",
     "text": [
      "Train loss after 68040 examples: 1026.033\n",
      "Val loss after 68040 examples: 1879.548\n",
      "Train loss after 68096 examples: 2265.095\n",
      "Val loss after 68096 examples: 1345.978\n",
      "Train loss after 68608 examples: 963.648\n",
      "Val loss after 68608 examples: 1582.482\n",
      "Train loss after 69120 examples: 1139.406\n",
      "Val loss after 69120 examples: 1650.320\n",
      "Train loss after 69632 examples: 1384.057\n",
      "Val loss after 69632 examples: 1325.714\n"
     ]
    },
    {
     "name": "stderr",
     "output_type": "stream",
     "text": [
      " 29%|██▊       | 43/150 [3:53:18<9:43:28, 327.19s/it]"
     ]
    },
    {
     "name": "stdout",
     "output_type": "stream",
     "text": [
      "Train loss after 69660 examples: 1963.881\n",
      "Val loss after 69660 examples: 1366.079\n",
      "Train loss after 70144 examples: 980.646\n",
      "Val loss after 70144 examples: 1286.814\n",
      "Train loss after 70656 examples: 1095.005\n",
      "Val loss after 70656 examples: 1475.019\n",
      "Train loss after 71168 examples: 1737.806\n",
      "Val loss after 71168 examples: 1435.352\n",
      "Train loss after 71280 examples: 1427.929\n",
      "Val loss after 71280 examples: 1391.057\n"
     ]
    },
    {
     "name": "stderr",
     "output_type": "stream",
     "text": [
      " 29%|██▉       | 44/150 [3:58:40<9:35:06, 325.54s/it]"
     ]
    },
    {
     "name": "stdout",
     "output_type": "stream",
     "text": [
      "Train loss after 71680 examples: 1291.326\n",
      "Val loss after 71680 examples: 1550.751\n",
      "Train loss after 72192 examples: 1240.110\n",
      "Val loss after 72192 examples: 1218.873\n",
      "Train loss after 72704 examples: 881.640\n",
      "Val loss after 72704 examples: 1195.360\n",
      "Train loss after 72900 examples: 992.596\n",
      "Val loss after 72900 examples: 1619.325\n"
     ]
    },
    {
     "name": "stderr",
     "output_type": "stream",
     "text": [
      " 30%|███       | 45/150 [4:04:02<9:27:53, 324.51s/it]"
     ]
    },
    {
     "name": "stdout",
     "output_type": "stream",
     "text": [
      "Train loss after 73216 examples: 821.672\n",
      "Val loss after 73216 examples: 1758.677\n",
      "Train loss after 73728 examples: 1497.920\n",
      "Val loss after 73728 examples: 1199.926\n",
      "Train loss after 74240 examples: 1267.424\n",
      "Val loss after 74240 examples: 1365.324\n",
      "Train loss after 74520 examples: 1356.532\n",
      "Val loss after 74520 examples: 1328.256\n"
     ]
    },
    {
     "name": "stderr",
     "output_type": "stream",
     "text": [
      " 31%|███       | 46/150 [4:09:23<9:20:55, 323.61s/it]"
     ]
    },
    {
     "name": "stdout",
     "output_type": "stream",
     "text": [
      "Train loss after 74752 examples: 1518.530\n",
      "Val loss after 74752 examples: 1160.582\n",
      "Train loss after 75264 examples: 2324.787\n",
      "Val loss after 75264 examples: 1375.687\n",
      "Train loss after 75776 examples: 1792.365\n",
      "Val loss after 75776 examples: 1114.169\n",
      "Train loss after 76140 examples: 1155.528\n",
      "Val loss after 76140 examples: 1345.745\n"
     ]
    },
    {
     "name": "stderr",
     "output_type": "stream",
     "text": [
      " 31%|███▏      | 47/150 [4:14:45<9:14:41, 323.12s/it]"
     ]
    },
    {
     "name": "stdout",
     "output_type": "stream",
     "text": [
      "Train loss after 76288 examples: 2173.904\n",
      "Val loss after 76288 examples: 1184.913\n",
      "Train loss after 76800 examples: 1763.918\n",
      "Val loss after 76800 examples: 1515.946\n",
      "Train loss after 77312 examples: 1568.620\n",
      "Val loss after 77312 examples: 1350.078\n",
      "Train loss after 77760 examples: 1967.897\n",
      "Val loss after 77760 examples: 1243.618\n"
     ]
    },
    {
     "name": "stderr",
     "output_type": "stream",
     "text": [
      " 32%|███▏      | 48/150 [4:20:08<9:08:59, 322.94s/it]"
     ]
    },
    {
     "name": "stdout",
     "output_type": "stream",
     "text": [
      "Train loss after 77824 examples: 1495.312\n",
      "Val loss after 77824 examples: 1063.377\n",
      "Train loss after 78336 examples: 1311.054\n",
      "Val loss after 78336 examples: 1279.946\n",
      "Train loss after 78848 examples: 1419.635\n",
      "Val loss after 78848 examples: 1328.101\n",
      "Train loss after 79360 examples: 2434.296\n",
      "Val loss after 79360 examples: 1258.590\n",
      "Train loss after 79380 examples: 1351.594\n",
      "Val loss after 79380 examples: 1311.763\n"
     ]
    },
    {
     "name": "stderr",
     "output_type": "stream",
     "text": [
      " 33%|███▎      | 49/150 [4:25:45<9:11:01, 327.35s/it]"
     ]
    },
    {
     "name": "stdout",
     "output_type": "stream",
     "text": [
      "Train loss after 79872 examples: 1364.969\n",
      "Val loss after 79872 examples: 1214.037\n",
      "Train loss after 80384 examples: 1318.658\n",
      "Val loss after 80384 examples: 1359.451\n",
      "Train loss after 80896 examples: 1064.043\n",
      "Val loss after 80896 examples: 1313.617\n",
      "Train loss after 81000 examples: 713.154\n",
      "Val loss after 81000 examples: 1266.308\n"
     ]
    },
    {
     "name": "stderr",
     "output_type": "stream",
     "text": [
      " 33%|███▎      | 50/150 [4:31:08<9:03:09, 325.89s/it]"
     ]
    },
    {
     "name": "stdout",
     "output_type": "stream",
     "text": [
      "Train loss after 81408 examples: 1446.857\n",
      "Val loss after 81408 examples: 1448.132\n",
      "Train loss after 81920 examples: 2086.126\n",
      "Val loss after 81920 examples: 1356.453\n",
      "Train loss after 82432 examples: 1166.641\n",
      "Val loss after 82432 examples: 1268.996\n",
      "Train loss after 82620 examples: 1400.294\n",
      "Val loss after 82620 examples: 1194.229\n"
     ]
    },
    {
     "name": "stderr",
     "output_type": "stream",
     "text": [
      " 34%|███▍      | 51/150 [4:36:30<8:55:56, 324.82s/it]"
     ]
    },
    {
     "name": "stdout",
     "output_type": "stream",
     "text": [
      "Train loss after 82944 examples: 1183.692\n",
      "Val loss after 82944 examples: 1476.856\n",
      "Train loss after 83456 examples: 1063.390\n",
      "Val loss after 83456 examples: 1454.577\n",
      "Train loss after 83968 examples: 2828.362\n",
      "Val loss after 83968 examples: 1453.547\n",
      "Train loss after 84240 examples: 1698.646\n",
      "Val loss after 84240 examples: 1347.385\n"
     ]
    },
    {
     "name": "stderr",
     "output_type": "stream",
     "text": [
      " 35%|███▍      | 52/150 [4:41:52<8:49:18, 324.07s/it]"
     ]
    },
    {
     "name": "stdout",
     "output_type": "stream",
     "text": [
      "Train loss after 84480 examples: 1711.368\n",
      "Val loss after 84480 examples: 1356.638\n",
      "Train loss after 84992 examples: 1169.410\n",
      "Val loss after 84992 examples: 1318.474\n",
      "Train loss after 85504 examples: 1042.181\n",
      "Val loss after 85504 examples: 1345.330\n",
      "Train loss after 85860 examples: 1029.060\n",
      "Val loss after 85860 examples: 1300.856\n"
     ]
    },
    {
     "name": "stderr",
     "output_type": "stream",
     "text": [
      " 35%|███▌      | 53/150 [4:47:15<8:43:01, 323.52s/it]"
     ]
    },
    {
     "name": "stdout",
     "output_type": "stream",
     "text": [
      "Train loss after 86016 examples: 1012.547\n",
      "Val loss after 86016 examples: 1322.017\n",
      "Train loss after 86528 examples: 1371.285\n",
      "Val loss after 86528 examples: 1271.132\n",
      "Train loss after 87040 examples: 1383.829\n",
      "Val loss after 87040 examples: 1353.986\n",
      "Train loss after 87480 examples: 904.633\n",
      "Val loss after 87480 examples: 1178.339\n"
     ]
    },
    {
     "name": "stderr",
     "output_type": "stream",
     "text": [
      " 36%|███▌      | 54/150 [4:52:37<8:36:56, 323.09s/it]"
     ]
    },
    {
     "name": "stdout",
     "output_type": "stream",
     "text": [
      "Train loss after 87552 examples: 1867.616\n",
      "Val loss after 87552 examples: 1275.351\n",
      "Train loss after 88064 examples: 1112.623\n",
      "Val loss after 88064 examples: 1261.163\n",
      "Train loss after 88576 examples: 1466.673\n",
      "Val loss after 88576 examples: 1380.246\n",
      "Train loss after 89088 examples: 1032.094\n",
      "Val loss after 89088 examples: 1276.780\n",
      "Train loss after 89100 examples: 1068.706\n",
      "Val loss after 89100 examples: 1297.777\n"
     ]
    },
    {
     "name": "stderr",
     "output_type": "stream",
     "text": [
      " 37%|███▋      | 55/150 [4:58:15<8:38:44, 327.62s/it]"
     ]
    },
    {
     "name": "stdout",
     "output_type": "stream",
     "text": [
      "Train loss after 89600 examples: 1113.379\n",
      "Val loss after 89600 examples: 1320.912\n",
      "Train loss after 90112 examples: 1790.061\n",
      "Val loss after 90112 examples: 1262.129\n",
      "Train loss after 90624 examples: 1500.280\n",
      "Val loss after 90624 examples: 1300.907\n",
      "Train loss after 90720 examples: 1857.205\n",
      "Val loss after 90720 examples: 1261.177\n"
     ]
    },
    {
     "name": "stderr",
     "output_type": "stream",
     "text": [
      " 37%|███▋      | 56/150 [5:03:37<8:30:37, 325.94s/it]"
     ]
    },
    {
     "name": "stdout",
     "output_type": "stream",
     "text": [
      "Train loss after 91136 examples: 1827.260\n",
      "Val loss after 91136 examples: 1295.967\n",
      "Train loss after 91648 examples: 1282.948\n",
      "Val loss after 91648 examples: 1255.861\n",
      "Train loss after 92160 examples: 1506.193\n",
      "Val loss after 92160 examples: 1246.356\n",
      "Train loss after 92340 examples: 544.224\n",
      "Val loss after 92340 examples: 1367.250\n"
     ]
    },
    {
     "name": "stderr",
     "output_type": "stream",
     "text": [
      " 38%|███▊      | 57/150 [5:08:59<8:23:16, 324.69s/it]"
     ]
    },
    {
     "name": "stdout",
     "output_type": "stream",
     "text": [
      "Train loss after 92672 examples: 1156.542\n",
      "Val loss after 92672 examples: 1129.476\n",
      "Train loss after 93184 examples: 1630.774\n",
      "Val loss after 93184 examples: 1244.415\n",
      "Train loss after 93696 examples: 856.865\n",
      "Val loss after 93696 examples: 1153.131\n",
      "Train loss after 93960 examples: 1191.361\n",
      "Val loss after 93960 examples: 1141.683\n"
     ]
    },
    {
     "name": "stderr",
     "output_type": "stream",
     "text": [
      " 39%|███▊      | 58/150 [5:14:22<8:17:04, 324.18s/it]"
     ]
    },
    {
     "name": "stdout",
     "output_type": "stream",
     "text": [
      "Train loss after 94208 examples: 1942.643\n",
      "Val loss after 94208 examples: 1330.471\n",
      "Train loss after 94720 examples: 1237.960\n",
      "Val loss after 94720 examples: 1230.825\n",
      "Train loss after 95232 examples: 1780.828\n",
      "Val loss after 95232 examples: 1295.166\n",
      "Train loss after 95580 examples: 1376.242\n",
      "Val loss after 95580 examples: 1237.999\n"
     ]
    },
    {
     "name": "stderr",
     "output_type": "stream",
     "text": [
      " 39%|███▉      | 59/150 [5:19:44<8:10:38, 323.50s/it]"
     ]
    },
    {
     "name": "stdout",
     "output_type": "stream",
     "text": [
      "Train loss after 95744 examples: 1498.786\n",
      "Val loss after 95744 examples: 1156.478\n",
      "Train loss after 96256 examples: 898.132\n",
      "Val loss after 96256 examples: 1129.380\n",
      "Train loss after 96768 examples: 1221.706\n",
      "Val loss after 96768 examples: 1266.939\n",
      "Train loss after 97200 examples: 1605.510\n",
      "Val loss after 97200 examples: 1325.244\n"
     ]
    },
    {
     "name": "stderr",
     "output_type": "stream",
     "text": [
      " 40%|████      | 60/150 [5:25:05<8:04:26, 322.96s/it]"
     ]
    },
    {
     "name": "stdout",
     "output_type": "stream",
     "text": [
      "Train loss after 97280 examples: 1369.729\n",
      "Val loss after 97280 examples: 1270.928\n",
      "Train loss after 97792 examples: 759.433\n",
      "Val loss after 97792 examples: 1162.002\n",
      "Train loss after 98304 examples: 1300.621\n",
      "Val loss after 98304 examples: 1210.515\n",
      "Train loss after 98816 examples: 1196.181\n",
      "Val loss after 98816 examples: 1311.263\n",
      "Train loss after 98820 examples: 942.274\n",
      "Val loss after 98820 examples: 1258.203\n"
     ]
    },
    {
     "name": "stderr",
     "output_type": "stream",
     "text": [
      " 41%|████      | 61/150 [5:30:43<8:05:36, 327.38s/it]"
     ]
    },
    {
     "name": "stdout",
     "output_type": "stream",
     "text": [
      "Train loss after 99328 examples: 1653.439\n",
      "Val loss after 99328 examples: 1374.641\n",
      "Train loss after 99840 examples: 589.541\n",
      "Val loss after 99840 examples: 1307.706\n",
      "Train loss after 100352 examples: 1635.067\n",
      "Val loss after 100352 examples: 1176.579\n",
      "Train loss after 100440 examples: 493.241\n",
      "Val loss after 100440 examples: 1342.322\n"
     ]
    },
    {
     "name": "stderr",
     "output_type": "stream",
     "text": [
      " 41%|████▏     | 62/150 [5:36:05<7:57:39, 325.67s/it]"
     ]
    },
    {
     "name": "stdout",
     "output_type": "stream",
     "text": [
      "Train loss after 100864 examples: 1104.060\n",
      "Val loss after 100864 examples: 1281.266\n",
      "Train loss after 101376 examples: 2188.917\n",
      "Val loss after 101376 examples: 1469.653\n",
      "Train loss after 101888 examples: 1605.968\n",
      "Val loss after 101888 examples: 1248.738\n",
      "Train loss after 102060 examples: 701.665\n",
      "Val loss after 102060 examples: 1227.594\n"
     ]
    },
    {
     "name": "stderr",
     "output_type": "stream",
     "text": [
      " 42%|████▏     | 63/150 [5:41:27<7:50:51, 324.73s/it]"
     ]
    },
    {
     "name": "stdout",
     "output_type": "stream",
     "text": [
      "Train loss after 102400 examples: 806.272\n",
      "Val loss after 102400 examples: 1181.549\n",
      "Train loss after 102912 examples: 1489.792\n",
      "Val loss after 102912 examples: 1183.730\n",
      "Train loss after 103424 examples: 1173.952\n",
      "Val loss after 103424 examples: 1265.364\n",
      "Train loss after 103680 examples: 1467.075\n",
      "Val loss after 103680 examples: 1405.330\n"
     ]
    },
    {
     "name": "stderr",
     "output_type": "stream",
     "text": [
      " 43%|████▎     | 64/150 [5:46:50<7:44:30, 324.07s/it]"
     ]
    },
    {
     "name": "stdout",
     "output_type": "stream",
     "text": [
      "Train loss after 103936 examples: 1313.313\n",
      "Val loss after 103936 examples: 1285.330\n",
      "Train loss after 104448 examples: 1288.128\n",
      "Val loss after 104448 examples: 1197.952\n",
      "Train loss after 104960 examples: 1884.393\n",
      "Val loss after 104960 examples: 1348.648\n",
      "Train loss after 105300 examples: 1456.027\n",
      "Val loss after 105300 examples: 1372.191\n"
     ]
    },
    {
     "name": "stderr",
     "output_type": "stream",
     "text": [
      " 43%|████▎     | 65/150 [5:52:12<7:38:11, 323.43s/it]"
     ]
    },
    {
     "name": "stdout",
     "output_type": "stream",
     "text": [
      "Train loss after 105472 examples: 1411.320\n",
      "Val loss after 105472 examples: 1221.808\n",
      "Train loss after 105984 examples: 1286.091\n",
      "Val loss after 105984 examples: 1253.709\n",
      "Train loss after 106496 examples: 859.112\n",
      "Val loss after 106496 examples: 1334.811\n",
      "Train loss after 106920 examples: 586.956\n",
      "Val loss after 106920 examples: 1210.359\n"
     ]
    },
    {
     "name": "stderr",
     "output_type": "stream",
     "text": [
      " 44%|████▍     | 66/150 [5:57:34<7:32:18, 323.08s/it]"
     ]
    },
    {
     "name": "stdout",
     "output_type": "stream",
     "text": [
      "Train loss after 107008 examples: 852.264\n",
      "Val loss after 107008 examples: 1229.749\n",
      "Train loss after 107520 examples: 1237.987\n",
      "Val loss after 107520 examples: 1164.348\n",
      "Train loss after 108032 examples: 1203.236\n",
      "Val loss after 108032 examples: 1308.475\n",
      "Train loss after 108540 examples: 770.597\n",
      "Val loss after 108540 examples: 1244.294\n"
     ]
    },
    {
     "name": "stderr",
     "output_type": "stream",
     "text": [
      " 45%|████▍     | 67/150 [6:02:57<7:26:49, 323.01s/it]"
     ]
    },
    {
     "name": "stdout",
     "output_type": "stream",
     "text": [
      "Train loss after 108544 examples: 640.995\n",
      "Val loss after 108544 examples: 1232.847\n",
      "Train loss after 109056 examples: 693.148\n",
      "Val loss after 109056 examples: 1347.388\n",
      "Train loss after 109568 examples: 608.370\n",
      "Val loss after 109568 examples: 1252.441\n",
      "Train loss after 110080 examples: 874.754\n",
      "Val loss after 110080 examples: 1247.854\n",
      "Train loss after 110160 examples: 1391.539\n",
      "Val loss after 110160 examples: 1271.808\n"
     ]
    },
    {
     "name": "stderr",
     "output_type": "stream",
     "text": [
      " 45%|████▌     | 68/150 [6:08:34<7:27:11, 327.22s/it]"
     ]
    },
    {
     "name": "stdout",
     "output_type": "stream",
     "text": [
      "Train loss after 110592 examples: 848.843\n",
      "Val loss after 110592 examples: 1162.006\n",
      "Train loss after 111104 examples: 1253.101\n",
      "Val loss after 111104 examples: 1091.201\n",
      "Train loss after 111616 examples: 1467.924\n",
      "Val loss after 111616 examples: 1115.084\n",
      "Train loss after 111780 examples: 998.986\n",
      "Val loss after 111780 examples: 1251.073\n"
     ]
    },
    {
     "name": "stderr",
     "output_type": "stream",
     "text": [
      " 46%|████▌     | 69/150 [6:13:57<7:20:08, 326.03s/it]"
     ]
    },
    {
     "name": "stdout",
     "output_type": "stream",
     "text": [
      "Train loss after 112128 examples: 1897.161\n",
      "Val loss after 112128 examples: 1212.489\n",
      "Train loss after 112640 examples: 1151.718\n",
      "Val loss after 112640 examples: 1254.790\n",
      "Train loss after 113152 examples: 1365.875\n",
      "Val loss after 113152 examples: 1275.940\n",
      "Train loss after 113400 examples: 1897.862\n",
      "Val loss after 113400 examples: 1211.231\n"
     ]
    },
    {
     "name": "stderr",
     "output_type": "stream",
     "text": [
      " 47%|████▋     | 70/150 [6:19:20<7:13:19, 324.99s/it]"
     ]
    },
    {
     "name": "stdout",
     "output_type": "stream",
     "text": [
      "Train loss after 113664 examples: 1283.875\n",
      "Val loss after 113664 examples: 1524.106\n",
      "Train loss after 114176 examples: 1117.660\n",
      "Val loss after 114176 examples: 1267.708\n",
      "Train loss after 114688 examples: 1966.327\n",
      "Val loss after 114688 examples: 1336.713\n",
      "Train loss after 115020 examples: 1689.982\n",
      "Val loss after 115020 examples: 1471.410\n"
     ]
    },
    {
     "name": "stderr",
     "output_type": "stream",
     "text": [
      " 47%|████▋     | 71/150 [6:24:42<7:06:50, 324.19s/it]"
     ]
    },
    {
     "name": "stdout",
     "output_type": "stream",
     "text": [
      "Train loss after 115200 examples: 1238.355\n",
      "Val loss after 115200 examples: 1329.164\n",
      "Train loss after 115712 examples: 1622.103\n",
      "Val loss after 115712 examples: 1605.838\n",
      "Train loss after 116224 examples: 1323.591\n",
      "Val loss after 116224 examples: 1263.014\n",
      "Train loss after 116640 examples: 650.424\n",
      "Val loss after 116640 examples: 1727.033\n"
     ]
    },
    {
     "name": "stderr",
     "output_type": "stream",
     "text": [
      " 48%|████▊     | 72/150 [6:30:05<7:00:48, 323.70s/it]"
     ]
    },
    {
     "name": "stdout",
     "output_type": "stream",
     "text": [
      "Train loss after 116736 examples: 3145.634\n",
      "Val loss after 116736 examples: 1244.131\n",
      "Train loss after 117248 examples: 1594.947\n",
      "Val loss after 117248 examples: 1293.380\n",
      "Train loss after 117760 examples: 1712.112\n",
      "Val loss after 117760 examples: 1354.788\n",
      "Train loss after 118260 examples: 929.161\n",
      "Val loss after 118260 examples: 1120.576\n"
     ]
    },
    {
     "name": "stderr",
     "output_type": "stream",
     "text": [
      " 49%|████▊     | 73/150 [6:35:27<6:54:51, 323.27s/it]"
     ]
    },
    {
     "name": "stdout",
     "output_type": "stream",
     "text": [
      "Train loss after 118272 examples: 787.899\n",
      "Val loss after 118272 examples: 1235.093\n",
      "Train loss after 118784 examples: 2020.959\n",
      "Val loss after 118784 examples: 1297.954\n",
      "Train loss after 119296 examples: 529.805\n",
      "Val loss after 119296 examples: 1074.841\n",
      "Train loss after 119808 examples: 1943.355\n",
      "Val loss after 119808 examples: 1452.089\n",
      "Train loss after 119880 examples: 862.162\n",
      "Val loss after 119880 examples: 1374.466\n"
     ]
    },
    {
     "name": "stderr",
     "output_type": "stream",
     "text": [
      " 49%|████▉     | 74/150 [6:41:06<6:55:20, 327.91s/it]"
     ]
    },
    {
     "name": "stdout",
     "output_type": "stream",
     "text": [
      "Train loss after 120320 examples: 1789.159\n",
      "Val loss after 120320 examples: 1239.450\n",
      "Train loss after 120832 examples: 840.942\n",
      "Val loss after 120832 examples: 1286.722\n",
      "Train loss after 121344 examples: 1349.689\n",
      "Val loss after 121344 examples: 1264.943\n",
      "Train loss after 121500 examples: 974.637\n",
      "Val loss after 121500 examples: 1610.705\n"
     ]
    },
    {
     "name": "stderr",
     "output_type": "stream",
     "text": [
      " 50%|█████     | 75/150 [6:46:28<6:47:49, 326.26s/it]"
     ]
    },
    {
     "name": "stdout",
     "output_type": "stream",
     "text": [
      "Train loss after 121856 examples: 1346.348\n",
      "Val loss after 121856 examples: 1335.659\n",
      "Train loss after 122368 examples: 608.560\n",
      "Val loss after 122368 examples: 1334.666\n",
      "Train loss after 122880 examples: 829.588\n",
      "Val loss after 122880 examples: 1297.802\n",
      "Train loss after 123120 examples: 1349.750\n",
      "Val loss after 123120 examples: 1275.899\n"
     ]
    },
    {
     "name": "stderr",
     "output_type": "stream",
     "text": [
      " 51%|█████     | 76/150 [6:51:51<6:41:00, 325.14s/it]"
     ]
    },
    {
     "name": "stdout",
     "output_type": "stream",
     "text": [
      "Train loss after 123392 examples: 2455.908\n",
      "Val loss after 123392 examples: 1286.381\n",
      "Train loss after 123904 examples: 727.942\n",
      "Val loss after 123904 examples: 1951.027\n",
      "Train loss after 124416 examples: 2966.050\n",
      "Val loss after 124416 examples: 1535.877\n",
      "Train loss after 124740 examples: 950.552\n",
      "Val loss after 124740 examples: 1535.010\n"
     ]
    },
    {
     "name": "stderr",
     "output_type": "stream",
     "text": [
      " 51%|█████▏    | 77/150 [6:57:13<6:34:39, 324.38s/it]"
     ]
    },
    {
     "name": "stdout",
     "output_type": "stream",
     "text": [
      "Train loss after 124928 examples: 3487.455\n",
      "Val loss after 124928 examples: 1212.158\n",
      "Train loss after 125440 examples: 2834.635\n",
      "Val loss after 125440 examples: 2478.549\n",
      "Train loss after 125952 examples: 1319.789\n",
      "Val loss after 125952 examples: 1433.989\n",
      "Train loss after 126360 examples: 2766.028\n",
      "Val loss after 126360 examples: 5256.716\n"
     ]
    },
    {
     "name": "stderr",
     "output_type": "stream",
     "text": [
      " 52%|█████▏    | 78/150 [7:02:35<6:28:28, 323.73s/it]"
     ]
    },
    {
     "name": "stdout",
     "output_type": "stream",
     "text": [
      "Train loss after 126464 examples: 5235.347\n",
      "Val loss after 126464 examples: 4600.614\n",
      "Train loss after 126976 examples: 2572.501\n",
      "Val loss after 126976 examples: 2746.839\n",
      "Train loss after 127488 examples: 3678.333\n",
      "Val loss after 127488 examples: 2875.264\n",
      "Train loss after 127980 examples: 1963.287\n",
      "Val loss after 127980 examples: 2765.649\n"
     ]
    },
    {
     "name": "stderr",
     "output_type": "stream",
     "text": [
      " 53%|█████▎    | 79/150 [7:07:58<6:22:37, 323.35s/it]"
     ]
    },
    {
     "name": "stdout",
     "output_type": "stream",
     "text": [
      "Train loss after 128000 examples: 3302.763\n",
      "Val loss after 128000 examples: 4872.953\n",
      "Train loss after 128512 examples: 4306.634\n",
      "Val loss after 128512 examples: 2092.415\n",
      "Train loss after 129024 examples: 2779.498\n",
      "Val loss after 129024 examples: 3267.120\n",
      "Train loss after 129536 examples: 4276.644\n",
      "Val loss after 129536 examples: 3424.345\n",
      "Train loss after 129600 examples: 3642.222\n",
      "Val loss after 129600 examples: 3337.090\n"
     ]
    },
    {
     "name": "stderr",
     "output_type": "stream",
     "text": [
      " 53%|█████▎    | 80/150 [7:13:37<6:22:44, 328.06s/it]"
     ]
    },
    {
     "name": "stdout",
     "output_type": "stream",
     "text": [
      "Train loss after 130048 examples: 989.188\n",
      "Val loss after 130048 examples: 2903.372\n",
      "Train loss after 130560 examples: 4613.059\n",
      "Val loss after 130560 examples: 1750.628\n",
      "Train loss after 131072 examples: 2082.047\n",
      "Val loss after 131072 examples: 1239.673\n",
      "Train loss after 131220 examples: 3661.035\n",
      "Val loss after 131220 examples: 2927.779\n"
     ]
    },
    {
     "name": "stderr",
     "output_type": "stream",
     "text": [
      " 54%|█████▍    | 81/150 [7:19:00<6:15:24, 326.44s/it]"
     ]
    },
    {
     "name": "stdout",
     "output_type": "stream",
     "text": [
      "Train loss after 131584 examples: 1904.637\n",
      "Val loss after 131584 examples: 2594.344\n",
      "Train loss after 132096 examples: 1452.265\n",
      "Val loss after 132096 examples: 2091.747\n",
      "Train loss after 132608 examples: 3788.982\n",
      "Val loss after 132608 examples: 1951.981\n",
      "Train loss after 132840 examples: 674.096\n",
      "Val loss after 132840 examples: 1660.564\n"
     ]
    },
    {
     "name": "stderr",
     "output_type": "stream",
     "text": [
      " 55%|█████▍    | 82/150 [7:24:22<6:08:40, 325.30s/it]"
     ]
    },
    {
     "name": "stdout",
     "output_type": "stream",
     "text": [
      "Train loss after 133120 examples: 2775.232\n",
      "Val loss after 133120 examples: 1854.352\n",
      "Train loss after 133632 examples: 1538.296\n",
      "Val loss after 133632 examples: 1261.937\n",
      "Train loss after 134144 examples: 1831.923\n",
      "Val loss after 134144 examples: 2038.825\n",
      "Train loss after 134460 examples: 1345.184\n",
      "Val loss after 134460 examples: 1605.173\n"
     ]
    },
    {
     "name": "stderr",
     "output_type": "stream",
     "text": [
      " 55%|█████▌    | 83/150 [7:29:44<6:02:13, 324.38s/it]"
     ]
    },
    {
     "name": "stdout",
     "output_type": "stream",
     "text": [
      "Train loss after 134656 examples: 3883.923\n",
      "Val loss after 134656 examples: 1558.203\n",
      "Train loss after 135168 examples: 1824.720\n",
      "Val loss after 135168 examples: 1355.095\n",
      "Train loss after 135680 examples: 1717.768\n",
      "Val loss after 135680 examples: 2089.034\n",
      "Train loss after 136080 examples: 1279.659\n",
      "Val loss after 136080 examples: 2613.102\n"
     ]
    },
    {
     "name": "stderr",
     "output_type": "stream",
     "text": [
      " 56%|█████▌    | 84/150 [7:35:07<5:56:10, 323.79s/it]"
     ]
    },
    {
     "name": "stdout",
     "output_type": "stream",
     "text": [
      "Train loss after 136192 examples: 2263.385\n",
      "Val loss after 136192 examples: 1932.358\n",
      "Train loss after 136704 examples: 1637.503\n",
      "Val loss after 136704 examples: 1303.067\n",
      "Train loss after 137216 examples: 748.439\n",
      "Val loss after 137216 examples: 1492.879\n",
      "Train loss after 137700 examples: 354.470\n",
      "Val loss after 137700 examples: 1625.613\n"
     ]
    },
    {
     "name": "stderr",
     "output_type": "stream",
     "text": [
      " 57%|█████▋    | 85/150 [7:40:30<5:50:28, 323.52s/it]"
     ]
    },
    {
     "name": "stdout",
     "output_type": "stream",
     "text": [
      "Train loss after 137728 examples: 1920.885\n",
      "Val loss after 137728 examples: 2899.607\n",
      "Train loss after 138240 examples: 2579.818\n",
      "Val loss after 138240 examples: 2329.225\n",
      "Train loss after 138752 examples: 2504.094\n",
      "Val loss after 138752 examples: 1608.431\n",
      "Train loss after 139264 examples: 909.374\n",
      "Val loss after 139264 examples: 1266.555\n",
      "Train loss after 139320 examples: 1593.494\n",
      "Val loss after 139320 examples: 1887.451\n"
     ]
    },
    {
     "name": "stderr",
     "output_type": "stream",
     "text": [
      " 57%|█████▋    | 86/150 [7:46:09<5:49:58, 328.10s/it]"
     ]
    },
    {
     "name": "stdout",
     "output_type": "stream",
     "text": [
      "Train loss after 139776 examples: 1076.048\n",
      "Val loss after 139776 examples: 2101.152\n",
      "Train loss after 140288 examples: 1483.781\n",
      "Val loss after 140288 examples: 1586.367\n",
      "Train loss after 140800 examples: 1369.065\n",
      "Val loss after 140800 examples: 1332.191\n",
      "Train loss after 140940 examples: 2225.728\n",
      "Val loss after 140940 examples: 2423.809\n"
     ]
    },
    {
     "name": "stderr",
     "output_type": "stream",
     "text": [
      " 58%|█████▊    | 87/150 [7:51:31<5:42:49, 326.50s/it]"
     ]
    },
    {
     "name": "stdout",
     "output_type": "stream",
     "text": [
      "Train loss after 141312 examples: 1557.112\n",
      "Val loss after 141312 examples: 1777.789\n",
      "Train loss after 141824 examples: 2731.073\n",
      "Val loss after 141824 examples: 1389.468\n",
      "Train loss after 142336 examples: 1444.067\n",
      "Val loss after 142336 examples: 1252.939\n",
      "Train loss after 142560 examples: 1446.085\n",
      "Val loss after 142560 examples: 1507.491\n"
     ]
    },
    {
     "name": "stderr",
     "output_type": "stream",
     "text": [
      " 59%|█████▊    | 88/150 [7:56:54<5:36:06, 325.27s/it]"
     ]
    },
    {
     "name": "stdout",
     "output_type": "stream",
     "text": [
      "Train loss after 142848 examples: 910.809\n",
      "Val loss after 142848 examples: 1782.992\n",
      "Train loss after 143360 examples: 2477.553\n",
      "Val loss after 143360 examples: 1624.810\n",
      "Train loss after 143872 examples: 1606.015\n",
      "Val loss after 143872 examples: 1384.543\n",
      "Train loss after 144180 examples: 1267.231\n",
      "Val loss after 144180 examples: 2011.794\n"
     ]
    },
    {
     "name": "stderr",
     "output_type": "stream",
     "text": [
      " 59%|█████▉    | 89/150 [8:02:17<5:29:58, 324.57s/it]"
     ]
    },
    {
     "name": "stdout",
     "output_type": "stream",
     "text": [
      "Train loss after 144384 examples: 2448.891\n",
      "Val loss after 144384 examples: 1279.506\n",
      "Train loss after 144896 examples: 694.117\n",
      "Val loss after 144896 examples: 1544.986\n",
      "Train loss after 145408 examples: 1661.254\n",
      "Val loss after 145408 examples: 1432.149\n",
      "Train loss after 145800 examples: 421.489\n",
      "Val loss after 145800 examples: 1430.966\n"
     ]
    },
    {
     "name": "stderr",
     "output_type": "stream",
     "text": [
      " 60%|██████    | 90/150 [8:07:40<5:24:08, 324.14s/it]"
     ]
    },
    {
     "name": "stdout",
     "output_type": "stream",
     "text": [
      "Train loss after 145920 examples: 1862.349\n",
      "Val loss after 145920 examples: 1349.546\n",
      "Train loss after 146432 examples: 923.482\n",
      "Val loss after 146432 examples: 1266.281\n",
      "Train loss after 146944 examples: 858.484\n",
      "Val loss after 146944 examples: 1357.542\n",
      "Train loss after 147420 examples: 1107.032\n",
      "Val loss after 147420 examples: 1404.764\n"
     ]
    },
    {
     "name": "stderr",
     "output_type": "stream",
     "text": [
      " 61%|██████    | 91/150 [8:13:02<5:18:13, 323.63s/it]"
     ]
    },
    {
     "name": "stdout",
     "output_type": "stream",
     "text": [
      "Train loss after 147456 examples: 1446.316\n",
      "Val loss after 147456 examples: 1451.946\n",
      "Train loss after 147968 examples: 1684.817\n",
      "Val loss after 147968 examples: 1265.609\n",
      "Train loss after 148480 examples: 1423.092\n",
      "Val loss after 148480 examples: 1247.180\n",
      "Train loss after 148992 examples: 1544.366\n",
      "Val loss after 148992 examples: 1165.850\n",
      "Train loss after 149040 examples: 601.200\n",
      "Val loss after 149040 examples: 1271.670\n"
     ]
    },
    {
     "name": "stderr",
     "output_type": "stream",
     "text": [
      " 61%|██████▏   | 92/150 [8:18:41<5:17:17, 328.23s/it]"
     ]
    },
    {
     "name": "stdout",
     "output_type": "stream",
     "text": [
      "Train loss after 149504 examples: 1742.792\n",
      "Val loss after 149504 examples: 1205.146\n",
      "Train loss after 150016 examples: 1887.236\n",
      "Val loss after 150016 examples: 1300.524\n",
      "Train loss after 150528 examples: 1322.546\n",
      "Val loss after 150528 examples: 1169.976\n",
      "Train loss after 150660 examples: 1966.089\n",
      "Val loss after 150660 examples: 1305.220\n"
     ]
    },
    {
     "name": "stderr",
     "output_type": "stream",
     "text": [
      " 62%|██████▏   | 93/150 [8:24:04<5:10:16, 326.61s/it]"
     ]
    },
    {
     "name": "stdout",
     "output_type": "stream",
     "text": [
      "Train loss after 151040 examples: 1428.849\n",
      "Val loss after 151040 examples: 1214.451\n",
      "Train loss after 151552 examples: 1648.161\n",
      "Val loss after 151552 examples: 1290.353\n",
      "Train loss after 152064 examples: 1203.866\n",
      "Val loss after 152064 examples: 1293.223\n",
      "Train loss after 152280 examples: 1433.256\n",
      "Val loss after 152280 examples: 1366.006\n"
     ]
    },
    {
     "name": "stderr",
     "output_type": "stream",
     "text": [
      " 63%|██████▎   | 94/150 [8:29:27<5:03:45, 325.46s/it]"
     ]
    },
    {
     "name": "stdout",
     "output_type": "stream",
     "text": [
      "Train loss after 152576 examples: 1391.245\n",
      "Val loss after 152576 examples: 1223.961\n",
      "Train loss after 153088 examples: 1452.991\n",
      "Val loss after 153088 examples: 1537.986\n",
      "Train loss after 153600 examples: 1047.621\n",
      "Val loss after 153600 examples: 1335.043\n",
      "Train loss after 153900 examples: 1023.151\n",
      "Val loss after 153900 examples: 1650.610\n"
     ]
    },
    {
     "name": "stderr",
     "output_type": "stream",
     "text": [
      " 63%|██████▎   | 95/150 [8:34:49<4:57:34, 324.63s/it]"
     ]
    },
    {
     "name": "stdout",
     "output_type": "stream",
     "text": [
      "Train loss after 154112 examples: 1325.288\n",
      "Val loss after 154112 examples: 1322.640\n",
      "Train loss after 154624 examples: 1577.106\n",
      "Val loss after 154624 examples: 1359.750\n",
      "Train loss after 155136 examples: 1247.213\n",
      "Val loss after 155136 examples: 1320.086\n",
      "Train loss after 155520 examples: 698.504\n",
      "Val loss after 155520 examples: 1250.565\n"
     ]
    },
    {
     "name": "stderr",
     "output_type": "stream",
     "text": [
      " 64%|██████▍   | 96/150 [8:40:12<4:51:35, 323.99s/it]"
     ]
    },
    {
     "name": "stdout",
     "output_type": "stream",
     "text": [
      "Train loss after 155648 examples: 608.442\n",
      "Val loss after 155648 examples: 1193.196\n",
      "Train loss after 156160 examples: 1092.385\n",
      "Val loss after 156160 examples: 1351.916\n",
      "Train loss after 156672 examples: 992.451\n",
      "Val loss after 156672 examples: 1199.146\n",
      "Train loss after 157140 examples: 1234.094\n",
      "Val loss after 157140 examples: 1153.336\n"
     ]
    },
    {
     "name": "stderr",
     "output_type": "stream",
     "text": [
      " 65%|██████▍   | 97/150 [8:45:35<4:45:51, 323.62s/it]"
     ]
    },
    {
     "name": "stdout",
     "output_type": "stream",
     "text": [
      "Train loss after 157184 examples: 1098.701\n",
      "Val loss after 157184 examples: 1062.790\n",
      "Train loss after 157696 examples: 1163.154\n",
      "Val loss after 157696 examples: 1236.629\n",
      "Train loss after 158208 examples: 1700.252\n",
      "Val loss after 158208 examples: 1326.908\n",
      "Train loss after 158720 examples: 1254.145\n",
      "Val loss after 158720 examples: 1186.303\n",
      "Train loss after 158760 examples: 977.203\n",
      "Val loss after 158760 examples: 1180.232\n"
     ]
    },
    {
     "name": "stderr",
     "output_type": "stream",
     "text": [
      " 65%|██████▌   | 98/150 [8:51:14<4:44:29, 328.25s/it]"
     ]
    },
    {
     "name": "stdout",
     "output_type": "stream",
     "text": [
      "Train loss after 159232 examples: 1257.998\n",
      "Val loss after 159232 examples: 1233.119\n",
      "Train loss after 159744 examples: 1272.630\n",
      "Val loss after 159744 examples: 1216.526\n",
      "Train loss after 160256 examples: 1245.929\n",
      "Val loss after 160256 examples: 1287.137\n",
      "Train loss after 160380 examples: 1696.238\n",
      "Val loss after 160380 examples: 1207.206\n"
     ]
    },
    {
     "name": "stderr",
     "output_type": "stream",
     "text": [
      " 66%|██████▌   | 99/150 [8:56:36<4:37:34, 326.56s/it]"
     ]
    },
    {
     "name": "stdout",
     "output_type": "stream",
     "text": [
      "Train loss after 160768 examples: 692.572\n",
      "Val loss after 160768 examples: 1109.134\n",
      "Train loss after 161280 examples: 1869.009\n",
      "Val loss after 161280 examples: 1086.324\n",
      "Train loss after 161792 examples: 1611.301\n",
      "Val loss after 161792 examples: 1348.461\n",
      "Train loss after 162000 examples: 1058.908\n",
      "Val loss after 162000 examples: 1184.283\n"
     ]
    },
    {
     "name": "stderr",
     "output_type": "stream",
     "text": [
      " 67%|██████▋   | 100/150 [9:02:00<4:31:17, 325.56s/it]"
     ]
    },
    {
     "name": "stdout",
     "output_type": "stream",
     "text": [
      "Train loss after 162304 examples: 864.580\n",
      "Val loss after 162304 examples: 1099.652\n",
      "Train loss after 162816 examples: 1314.047\n",
      "Val loss after 162816 examples: 1234.773\n",
      "Train loss after 163328 examples: 894.509\n",
      "Val loss after 163328 examples: 1228.441\n",
      "Train loss after 163620 examples: 1365.766\n",
      "Val loss after 163620 examples: 1171.378\n"
     ]
    },
    {
     "name": "stderr",
     "output_type": "stream",
     "text": [
      " 67%|██████▋   | 101/150 [9:07:22<4:25:05, 324.60s/it]"
     ]
    },
    {
     "name": "stdout",
     "output_type": "stream",
     "text": [
      "Train loss after 163840 examples: 1518.621\n",
      "Val loss after 163840 examples: 1219.046\n",
      "Train loss after 164352 examples: 1315.078\n",
      "Val loss after 164352 examples: 1284.712\n",
      "Train loss after 164864 examples: 1122.625\n",
      "Val loss after 164864 examples: 1097.743\n",
      "Train loss after 165240 examples: 988.426\n",
      "Val loss after 165240 examples: 1133.832\n"
     ]
    },
    {
     "name": "stderr",
     "output_type": "stream",
     "text": [
      " 68%|██████▊   | 102/150 [9:12:45<4:19:15, 324.08s/it]"
     ]
    },
    {
     "name": "stdout",
     "output_type": "stream",
     "text": [
      "Train loss after 165376 examples: 1604.428\n",
      "Val loss after 165376 examples: 1248.538\n",
      "Train loss after 165888 examples: 1752.742\n",
      "Val loss after 165888 examples: 1397.328\n",
      "Train loss after 166400 examples: 1558.877\n",
      "Val loss after 166400 examples: 1321.048\n",
      "Train loss after 166860 examples: 1863.003\n",
      "Val loss after 166860 examples: 1506.613\n"
     ]
    },
    {
     "name": "stderr",
     "output_type": "stream",
     "text": [
      " 69%|██████▊   | 103/150 [9:18:08<4:13:44, 323.94s/it]"
     ]
    },
    {
     "name": "stdout",
     "output_type": "stream",
     "text": [
      "Train loss after 166912 examples: 1192.857\n",
      "Val loss after 166912 examples: 1185.661\n",
      "Train loss after 167424 examples: 732.514\n",
      "Val loss after 167424 examples: 1353.512\n",
      "Train loss after 167936 examples: 1645.963\n",
      "Val loss after 167936 examples: 1513.728\n",
      "Train loss after 168448 examples: 1562.909\n",
      "Val loss after 168448 examples: 1240.420\n",
      "Train loss after 168480 examples: 924.029\n",
      "Val loss after 168480 examples: 1454.982\n"
     ]
    },
    {
     "name": "stderr",
     "output_type": "stream",
     "text": [
      " 69%|██████▉   | 104/150 [9:23:47<4:11:49, 328.48s/it]"
     ]
    },
    {
     "name": "stdout",
     "output_type": "stream",
     "text": [
      "Train loss after 168960 examples: 1309.897\n",
      "Val loss after 168960 examples: 1239.414\n",
      "Train loss after 169472 examples: 987.906\n",
      "Val loss after 169472 examples: 1337.364\n",
      "Train loss after 169984 examples: 1172.262\n",
      "Val loss after 169984 examples: 1332.140\n",
      "Train loss after 170100 examples: 859.964\n",
      "Val loss after 170100 examples: 1251.819\n"
     ]
    },
    {
     "name": "stderr",
     "output_type": "stream",
     "text": [
      " 70%|███████   | 105/150 [9:29:11<4:05:09, 326.89s/it]"
     ]
    },
    {
     "name": "stdout",
     "output_type": "stream",
     "text": [
      "Train loss after 170496 examples: 1846.103\n",
      "Val loss after 170496 examples: 1222.660\n",
      "Train loss after 171008 examples: 1154.366\n",
      "Val loss after 171008 examples: 1151.042\n",
      "Train loss after 171520 examples: 1535.790\n",
      "Val loss after 171520 examples: 1434.611\n",
      "Train loss after 171720 examples: 2040.220\n",
      "Val loss after 171720 examples: 1314.040\n"
     ]
    },
    {
     "name": "stderr",
     "output_type": "stream",
     "text": [
      " 71%|███████   | 106/150 [9:34:33<3:58:48, 325.64s/it]"
     ]
    },
    {
     "name": "stdout",
     "output_type": "stream",
     "text": [
      "Train loss after 172032 examples: 1411.170\n",
      "Val loss after 172032 examples: 1351.294\n",
      "Train loss after 172544 examples: 648.458\n",
      "Val loss after 172544 examples: 1266.213\n",
      "Train loss after 173056 examples: 1205.293\n",
      "Val loss after 173056 examples: 1393.384\n",
      "Train loss after 173340 examples: 833.478\n",
      "Val loss after 173340 examples: 1646.690\n"
     ]
    },
    {
     "name": "stderr",
     "output_type": "stream",
     "text": [
      " 71%|███████▏  | 107/150 [9:39:57<3:52:52, 324.94s/it]"
     ]
    },
    {
     "name": "stdout",
     "output_type": "stream",
     "text": [
      "Train loss after 173568 examples: 843.694\n",
      "Val loss after 173568 examples: 1244.512\n",
      "Train loss after 174080 examples: 422.299\n",
      "Val loss after 174080 examples: 1210.700\n",
      "Train loss after 174592 examples: 2360.756\n",
      "Val loss after 174592 examples: 1200.532\n",
      "Train loss after 174960 examples: 778.710\n",
      "Val loss after 174960 examples: 1474.072\n"
     ]
    },
    {
     "name": "stderr",
     "output_type": "stream",
     "text": [
      " 72%|███████▏  | 108/150 [9:45:20<3:47:08, 324.48s/it]"
     ]
    },
    {
     "name": "stdout",
     "output_type": "stream",
     "text": [
      "Train loss after 175104 examples: 324.492\n",
      "Val loss after 175104 examples: 1122.052\n",
      "Train loss after 175616 examples: 1124.662\n",
      "Val loss after 175616 examples: 1183.639\n",
      "Train loss after 176128 examples: 1291.778\n",
      "Val loss after 176128 examples: 1260.987\n",
      "Train loss after 176580 examples: 1294.229\n",
      "Val loss after 176580 examples: 1304.940\n"
     ]
    },
    {
     "name": "stderr",
     "output_type": "stream",
     "text": [
      " 73%|███████▎  | 109/150 [9:50:43<3:41:29, 324.13s/it]"
     ]
    },
    {
     "name": "stdout",
     "output_type": "stream",
     "text": [
      "Train loss after 176640 examples: 941.795\n",
      "Val loss after 176640 examples: 1303.343\n",
      "Train loss after 177152 examples: 1061.843\n",
      "Val loss after 177152 examples: 1125.957\n",
      "Train loss after 177664 examples: 833.472\n",
      "Val loss after 177664 examples: 1134.304\n",
      "Train loss after 178176 examples: 1383.224\n",
      "Val loss after 178176 examples: 1257.222\n",
      "Train loss after 178200 examples: 1102.887\n",
      "Val loss after 178200 examples: 1255.874\n"
     ]
    },
    {
     "name": "stderr",
     "output_type": "stream",
     "text": [
      " 73%|███████▎  | 110/150 [9:56:22<3:39:02, 328.56s/it]"
     ]
    },
    {
     "name": "stdout",
     "output_type": "stream",
     "text": [
      "Train loss after 178688 examples: 1677.176\n",
      "Val loss after 178688 examples: 1171.307\n",
      "Train loss after 179200 examples: 1570.213\n",
      "Val loss after 179200 examples: 1312.757\n",
      "Train loss after 179712 examples: 1165.686\n",
      "Val loss after 179712 examples: 1397.838\n",
      "Train loss after 179820 examples: 1370.704\n",
      "Val loss after 179820 examples: 1273.875\n"
     ]
    },
    {
     "name": "stderr",
     "output_type": "stream",
     "text": [
      " 74%|███████▍  | 111/150 [10:01:45<3:32:28, 326.87s/it]"
     ]
    },
    {
     "name": "stdout",
     "output_type": "stream",
     "text": [
      "Train loss after 180224 examples: 716.357\n",
      "Val loss after 180224 examples: 1114.725\n",
      "Train loss after 180736 examples: 1009.952\n",
      "Val loss after 180736 examples: 1118.337\n",
      "Train loss after 181248 examples: 648.548\n",
      "Val loss after 181248 examples: 1241.236\n",
      "Train loss after 181440 examples: 1007.900\n",
      "Val loss after 181440 examples: 1178.017\n"
     ]
    },
    {
     "name": "stderr",
     "output_type": "stream",
     "text": [
      " 75%|███████▍  | 112/150 [10:07:09<3:26:20, 325.80s/it]"
     ]
    },
    {
     "name": "stdout",
     "output_type": "stream",
     "text": [
      "Train loss after 181760 examples: 799.143\n",
      "Val loss after 181760 examples: 1164.937\n",
      "Train loss after 182272 examples: 1115.542\n",
      "Val loss after 182272 examples: 1254.819\n",
      "Train loss after 182784 examples: 813.084\n",
      "Val loss after 182784 examples: 1188.975\n",
      "Train loss after 183060 examples: 1404.754\n",
      "Val loss after 183060 examples: 1223.790\n"
     ]
    },
    {
     "name": "stderr",
     "output_type": "stream",
     "text": [
      " 75%|███████▌  | 113/150 [10:12:32<3:20:31, 325.17s/it]"
     ]
    },
    {
     "name": "stdout",
     "output_type": "stream",
     "text": [
      "Train loss after 183296 examples: 1357.379\n",
      "Val loss after 183296 examples: 1153.790\n",
      "Train loss after 183808 examples: 1212.723\n",
      "Val loss after 183808 examples: 1201.290\n",
      "Train loss after 184320 examples: 1541.397\n",
      "Val loss after 184320 examples: 1177.985\n",
      "Train loss after 184680 examples: 816.730\n",
      "Val loss after 184680 examples: 1328.823\n"
     ]
    },
    {
     "name": "stderr",
     "output_type": "stream",
     "text": [
      " 76%|███████▌  | 114/150 [10:17:55<3:14:42, 324.52s/it]"
     ]
    },
    {
     "name": "stdout",
     "output_type": "stream",
     "text": [
      "Train loss after 184832 examples: 1567.793\n",
      "Val loss after 184832 examples: 1242.795\n",
      "Train loss after 185344 examples: 1885.421\n",
      "Val loss after 185344 examples: 1181.734\n",
      "Train loss after 185856 examples: 1054.521\n",
      "Val loss after 185856 examples: 1184.158\n",
      "Train loss after 186300 examples: 926.252\n",
      "Val loss after 186300 examples: 1116.565\n"
     ]
    },
    {
     "name": "stderr",
     "output_type": "stream",
     "text": [
      " 77%|███████▋  | 115/150 [10:23:18<3:09:01, 324.03s/it]"
     ]
    },
    {
     "name": "stdout",
     "output_type": "stream",
     "text": [
      "Train loss after 186368 examples: 1448.490\n",
      "Val loss after 186368 examples: 1125.780\n",
      "Train loss after 186880 examples: 1381.999\n",
      "Val loss after 186880 examples: 1179.092\n",
      "Train loss after 187392 examples: 1124.155\n",
      "Val loss after 187392 examples: 1207.346\n",
      "Train loss after 187904 examples: 1125.055\n",
      "Val loss after 187904 examples: 1243.447\n",
      "Train loss after 187920 examples: 1192.858\n",
      "Val loss after 187920 examples: 1154.018\n"
     ]
    },
    {
     "name": "stderr",
     "output_type": "stream",
     "text": [
      " 77%|███████▋  | 116/150 [10:28:58<3:06:14, 328.67s/it]"
     ]
    },
    {
     "name": "stdout",
     "output_type": "stream",
     "text": [
      "Train loss after 188416 examples: 469.534\n",
      "Val loss after 188416 examples: 1096.825\n",
      "Train loss after 188928 examples: 1087.017\n",
      "Val loss after 188928 examples: 1122.797\n",
      "Train loss after 189440 examples: 1032.134\n",
      "Val loss after 189440 examples: 1181.526\n",
      "Train loss after 189540 examples: 1175.612\n",
      "Val loss after 189540 examples: 1218.382\n"
     ]
    },
    {
     "name": "stderr",
     "output_type": "stream",
     "text": [
      " 78%|███████▊  | 117/150 [10:34:21<2:59:51, 327.01s/it]"
     ]
    },
    {
     "name": "stdout",
     "output_type": "stream",
     "text": [
      "Train loss after 189952 examples: 1573.037\n",
      "Val loss after 189952 examples: 1165.769\n",
      "Train loss after 190464 examples: 894.664\n",
      "Val loss after 190464 examples: 1248.639\n",
      "Train loss after 190976 examples: 1167.991\n",
      "Val loss after 190976 examples: 1237.135\n",
      "Train loss after 191160 examples: 739.233\n",
      "Val loss after 191160 examples: 1255.032\n"
     ]
    },
    {
     "name": "stderr",
     "output_type": "stream",
     "text": [
      " 79%|███████▊  | 118/150 [10:39:46<2:54:05, 326.41s/it]"
     ]
    },
    {
     "name": "stdout",
     "output_type": "stream",
     "text": [
      "Train loss after 191488 examples: 555.080\n",
      "Val loss after 191488 examples: 1214.864\n",
      "Train loss after 192000 examples: 1523.034\n",
      "Val loss after 192000 examples: 1294.975\n",
      "Train loss after 192512 examples: 1383.394\n",
      "Val loss after 192512 examples: 1220.165\n",
      "Train loss after 192780 examples: 780.134\n",
      "Val loss after 192780 examples: 1297.628\n"
     ]
    },
    {
     "name": "stderr",
     "output_type": "stream",
     "text": [
      " 79%|███████▉  | 119/150 [10:45:09<2:48:11, 325.53s/it]"
     ]
    },
    {
     "name": "stdout",
     "output_type": "stream",
     "text": [
      "Train loss after 193024 examples: 1121.756\n",
      "Val loss after 193024 examples: 1289.630\n",
      "Train loss after 193536 examples: 835.639\n",
      "Val loss after 193536 examples: 1215.930\n",
      "Train loss after 194048 examples: 1358.423\n",
      "Val loss after 194048 examples: 1278.406\n",
      "Train loss after 194400 examples: 660.469\n",
      "Val loss after 194400 examples: 1342.933\n"
     ]
    },
    {
     "name": "stderr",
     "output_type": "stream",
     "text": [
      " 80%|████████  | 120/150 [10:50:33<2:42:27, 324.91s/it]"
     ]
    },
    {
     "name": "stdout",
     "output_type": "stream",
     "text": [
      "Train loss after 194560 examples: 1095.605\n",
      "Val loss after 194560 examples: 1335.660\n",
      "Train loss after 195072 examples: 990.529\n",
      "Val loss after 195072 examples: 1112.724\n",
      "Train loss after 195584 examples: 1455.897\n",
      "Val loss after 195584 examples: 1341.202\n",
      "Train loss after 196020 examples: 1294.381\n",
      "Val loss after 196020 examples: 1189.471\n"
     ]
    },
    {
     "name": "stderr",
     "output_type": "stream",
     "text": [
      " 81%|████████  | 121/150 [10:55:56<2:36:47, 324.38s/it]"
     ]
    },
    {
     "name": "stdout",
     "output_type": "stream",
     "text": [
      "Train loss after 196096 examples: 1541.494\n",
      "Val loss after 196096 examples: 1102.102\n",
      "Train loss after 196608 examples: 1102.583\n",
      "Val loss after 196608 examples: 1021.705\n",
      "Train loss after 197120 examples: 1016.467\n",
      "Val loss after 197120 examples: 1161.884\n",
      "Train loss after 197632 examples: 434.843\n",
      "Val loss after 197632 examples: 1228.861\n",
      "Train loss after 197640 examples: 1429.750\n",
      "Val loss after 197640 examples: 1175.897\n"
     ]
    },
    {
     "name": "stderr",
     "output_type": "stream",
     "text": [
      " 81%|████████▏ | 122/150 [11:01:35<2:33:26, 328.82s/it]"
     ]
    },
    {
     "name": "stdout",
     "output_type": "stream",
     "text": [
      "Train loss after 198144 examples: 1071.121\n",
      "Val loss after 198144 examples: 1177.178\n",
      "Train loss after 198656 examples: 1221.654\n",
      "Val loss after 198656 examples: 1123.856\n",
      "Train loss after 199168 examples: 1368.642\n",
      "Val loss after 199168 examples: 1236.773\n",
      "Train loss after 199260 examples: 813.431\n",
      "Val loss after 199260 examples: 1234.484\n"
     ]
    },
    {
     "name": "stderr",
     "output_type": "stream",
     "text": [
      " 82%|████████▏ | 123/150 [11:06:59<2:27:16, 327.26s/it]"
     ]
    },
    {
     "name": "stdout",
     "output_type": "stream",
     "text": [
      "Train loss after 199680 examples: 574.150\n",
      "Val loss after 199680 examples: 1262.942\n",
      "Train loss after 200192 examples: 1831.367\n",
      "Val loss after 200192 examples: 1375.723\n",
      "Train loss after 200704 examples: 966.242\n",
      "Val loss after 200704 examples: 1122.719\n",
      "Train loss after 200880 examples: 1222.217\n",
      "Val loss after 200880 examples: 1287.932\n"
     ]
    },
    {
     "name": "stderr",
     "output_type": "stream",
     "text": [
      " 83%|████████▎ | 124/150 [11:12:22<2:21:20, 326.17s/it]"
     ]
    },
    {
     "name": "stdout",
     "output_type": "stream",
     "text": [
      "Train loss after 201216 examples: 524.035\n",
      "Val loss after 201216 examples: 1147.144\n",
      "Train loss after 201728 examples: 2408.521\n",
      "Val loss after 201728 examples: 1095.645\n",
      "Train loss after 202240 examples: 337.719\n",
      "Val loss after 202240 examples: 1216.701\n",
      "Train loss after 202500 examples: 693.698\n",
      "Val loss after 202500 examples: 1258.142\n"
     ]
    },
    {
     "name": "stderr",
     "output_type": "stream",
     "text": [
      " 83%|████████▎ | 125/150 [11:17:46<2:15:33, 325.35s/it]"
     ]
    },
    {
     "name": "stdout",
     "output_type": "stream",
     "text": [
      "Train loss after 202752 examples: 1596.480\n",
      "Val loss after 202752 examples: 1175.943\n",
      "Train loss after 203264 examples: 1103.619\n",
      "Val loss after 203264 examples: 1203.335\n",
      "Train loss after 203776 examples: 1942.480\n",
      "Val loss after 203776 examples: 1206.532\n",
      "Train loss after 204120 examples: 1570.111\n",
      "Val loss after 204120 examples: 1170.892\n"
     ]
    },
    {
     "name": "stderr",
     "output_type": "stream",
     "text": [
      " 84%|████████▍ | 126/150 [11:23:09<2:09:56, 324.85s/it]"
     ]
    },
    {
     "name": "stdout",
     "output_type": "stream",
     "text": [
      "Train loss after 204288 examples: 1604.650\n",
      "Val loss after 204288 examples: 1312.843\n",
      "Train loss after 204800 examples: 1075.578\n",
      "Val loss after 204800 examples: 1203.908\n",
      "Train loss after 205312 examples: 1611.621\n",
      "Val loss after 205312 examples: 1168.762\n",
      "Train loss after 205740 examples: 1626.555\n",
      "Val loss after 205740 examples: 1240.971\n"
     ]
    },
    {
     "name": "stderr",
     "output_type": "stream",
     "text": [
      " 85%|████████▍ | 127/150 [11:28:33<2:04:25, 324.60s/it]"
     ]
    },
    {
     "name": "stdout",
     "output_type": "stream",
     "text": [
      "Train loss after 205824 examples: 1202.905\n",
      "Val loss after 205824 examples: 1231.428\n",
      "Train loss after 206336 examples: 775.727\n",
      "Val loss after 206336 examples: 1234.544\n",
      "Train loss after 206848 examples: 978.989\n",
      "Val loss after 206848 examples: 1206.853\n",
      "Train loss after 207360 examples: 1939.630\n",
      "Val loss after 207360 examples: 1251.094\n"
     ]
    },
    {
     "name": "stderr",
     "output_type": "stream",
     "text": [
      " 85%|████████▌ | 128/150 [11:33:57<1:58:56, 324.39s/it]"
     ]
    },
    {
     "name": "stdout",
     "output_type": "stream",
     "text": [
      "Train loss after 207872 examples: 1534.020\n",
      "Val loss after 207872 examples: 1196.248\n",
      "Train loss after 208384 examples: 2288.946\n",
      "Val loss after 208384 examples: 1151.639\n",
      "Train loss after 208896 examples: 851.778\n",
      "Val loss after 208896 examples: 1354.096\n",
      "Train loss after 208980 examples: 1248.077\n",
      "Val loss after 208980 examples: 1268.233\n"
     ]
    },
    {
     "name": "stderr",
     "output_type": "stream",
     "text": [
      " 86%|████████▌ | 129/150 [11:39:21<1:53:28, 324.21s/it]"
     ]
    },
    {
     "name": "stdout",
     "output_type": "stream",
     "text": [
      "Train loss after 209408 examples: 736.434\n",
      "Val loss after 209408 examples: 1192.005\n",
      "Train loss after 209920 examples: 670.366\n",
      "Val loss after 209920 examples: 1312.226\n",
      "Train loss after 210432 examples: 620.975\n",
      "Val loss after 210432 examples: 1193.855\n",
      "Train loss after 210600 examples: 938.969\n",
      "Val loss after 210600 examples: 1322.626\n"
     ]
    },
    {
     "name": "stderr",
     "output_type": "stream",
     "text": [
      " 87%|████████▋ | 130/150 [11:44:45<1:47:59, 323.99s/it]"
     ]
    },
    {
     "name": "stdout",
     "output_type": "stream",
     "text": [
      "Train loss after 210944 examples: 1097.256\n",
      "Val loss after 210944 examples: 1230.729\n",
      "Train loss after 211456 examples: 1011.543\n",
      "Val loss after 211456 examples: 1137.260\n",
      "Train loss after 211968 examples: 1006.270\n",
      "Val loss after 211968 examples: 1147.684\n",
      "Train loss after 212220 examples: 1072.138\n",
      "Val loss after 212220 examples: 1253.110\n"
     ]
    },
    {
     "name": "stderr",
     "output_type": "stream",
     "text": [
      " 87%|████████▋ | 131/150 [11:50:08<1:42:32, 323.82s/it]"
     ]
    },
    {
     "name": "stdout",
     "output_type": "stream",
     "text": [
      "Train loss after 212480 examples: 986.221\n",
      "Val loss after 212480 examples: 1143.313\n",
      "Train loss after 212992 examples: 1209.306\n",
      "Val loss after 212992 examples: 1117.278\n",
      "Train loss after 213504 examples: 1019.823\n",
      "Val loss after 213504 examples: 1145.018\n",
      "Train loss after 213840 examples: 1174.513\n",
      "Val loss after 213840 examples: 1093.001\n"
     ]
    },
    {
     "name": "stderr",
     "output_type": "stream",
     "text": [
      " 88%|████████▊ | 132/150 [11:55:31<1:37:05, 323.64s/it]"
     ]
    },
    {
     "name": "stdout",
     "output_type": "stream",
     "text": [
      "Train loss after 214016 examples: 984.888\n",
      "Val loss after 214016 examples: 1171.412\n",
      "Train loss after 214528 examples: 1703.135\n",
      "Val loss after 214528 examples: 1192.576\n",
      "Train loss after 215040 examples: 1281.172\n",
      "Val loss after 215040 examples: 1228.371\n",
      "Train loss after 215460 examples: 1222.819\n",
      "Val loss after 215460 examples: 1214.650\n"
     ]
    },
    {
     "name": "stderr",
     "output_type": "stream",
     "text": [
      " 89%|████████▊ | 133/150 [12:00:54<1:31:39, 323.49s/it]"
     ]
    },
    {
     "name": "stdout",
     "output_type": "stream",
     "text": [
      "Train loss after 215552 examples: 2055.284\n",
      "Val loss after 215552 examples: 1201.269\n",
      "Train loss after 216064 examples: 1752.491\n",
      "Val loss after 216064 examples: 1230.183\n",
      "Train loss after 216576 examples: 2024.524\n",
      "Val loss after 216576 examples: 1242.935\n",
      "Train loss after 217080 examples: 1576.054\n",
      "Val loss after 217080 examples: 1193.864\n"
     ]
    },
    {
     "name": "stderr",
     "output_type": "stream",
     "text": [
      " 89%|████████▉ | 134/150 [12:06:17<1:26:13, 323.34s/it]"
     ]
    },
    {
     "name": "stdout",
     "output_type": "stream",
     "text": [
      "Train loss after 217088 examples: 1233.343\n",
      "Val loss after 217088 examples: 1195.539\n",
      "Train loss after 217600 examples: 1266.248\n",
      "Val loss after 217600 examples: 1081.162\n",
      "Train loss after 218112 examples: 774.577\n",
      "Val loss after 218112 examples: 1011.037\n",
      "Train loss after 218624 examples: 1183.383\n",
      "Val loss after 218624 examples: 1141.411\n",
      "Train loss after 218700 examples: 1078.206\n",
      "Val loss after 218700 examples: 1063.419\n"
     ]
    },
    {
     "name": "stderr",
     "output_type": "stream",
     "text": [
      " 90%|█████████ | 135/150 [12:11:58<1:22:05, 328.38s/it]"
     ]
    },
    {
     "name": "stdout",
     "output_type": "stream",
     "text": [
      "Train loss after 219136 examples: 958.276\n",
      "Val loss after 219136 examples: 1145.678\n",
      "Train loss after 219648 examples: 890.758\n",
      "Val loss after 219648 examples: 1134.759\n",
      "Train loss after 220160 examples: 1800.419\n",
      "Val loss after 220160 examples: 1265.756\n",
      "Train loss after 220320 examples: 1402.173\n",
      "Val loss after 220320 examples: 1184.405\n"
     ]
    },
    {
     "name": "stderr",
     "output_type": "stream",
     "text": [
      " 91%|█████████ | 136/150 [12:17:21<1:16:15, 326.84s/it]"
     ]
    },
    {
     "name": "stdout",
     "output_type": "stream",
     "text": [
      "Train loss after 220672 examples: 1364.574\n",
      "Val loss after 220672 examples: 1113.403\n",
      "Train loss after 221184 examples: 1382.844\n",
      "Val loss after 221184 examples: 1264.174\n",
      "Train loss after 221696 examples: 625.778\n",
      "Val loss after 221696 examples: 1212.434\n",
      "Train loss after 221940 examples: 973.726\n",
      "Val loss after 221940 examples: 1319.867\n"
     ]
    },
    {
     "name": "stderr",
     "output_type": "stream",
     "text": [
      " 91%|█████████▏| 137/150 [12:22:44<1:10:34, 325.75s/it]"
     ]
    },
    {
     "name": "stdout",
     "output_type": "stream",
     "text": [
      "Train loss after 222208 examples: 1272.899\n",
      "Val loss after 222208 examples: 1202.288\n",
      "Train loss after 222720 examples: 1222.476\n",
      "Val loss after 222720 examples: 1213.748\n",
      "Train loss after 223232 examples: 705.405\n",
      "Val loss after 223232 examples: 1231.232\n",
      "Train loss after 223560 examples: 1364.982\n",
      "Val loss after 223560 examples: 1208.267\n"
     ]
    },
    {
     "name": "stderr",
     "output_type": "stream",
     "text": [
      " 92%|█████████▏| 138/150 [12:28:08<1:05:01, 325.13s/it]"
     ]
    },
    {
     "name": "stdout",
     "output_type": "stream",
     "text": [
      "Train loss after 223744 examples: 1040.009\n",
      "Val loss after 223744 examples: 1363.476\n",
      "Train loss after 224256 examples: 1139.133\n",
      "Val loss after 224256 examples: 1327.808\n",
      "Train loss after 224768 examples: 1232.454\n",
      "Val loss after 224768 examples: 1254.276\n",
      "Train loss after 225180 examples: 1903.133\n",
      "Val loss after 225180 examples: 1264.802\n"
     ]
    },
    {
     "name": "stderr",
     "output_type": "stream",
     "text": [
      " 93%|█████████▎| 139/150 [12:33:31<59:29, 324.54s/it]  "
     ]
    },
    {
     "name": "stdout",
     "output_type": "stream",
     "text": [
      "Train loss after 225280 examples: 1388.162\n",
      "Val loss after 225280 examples: 1184.799\n",
      "Train loss after 225792 examples: 850.181\n",
      "Val loss after 225792 examples: 1105.395\n",
      "Train loss after 226304 examples: 932.518\n",
      "Val loss after 226304 examples: 1109.636\n",
      "Train loss after 226800 examples: 3511.909\n",
      "Val loss after 226800 examples: 1397.010\n"
     ]
    },
    {
     "name": "stderr",
     "output_type": "stream",
     "text": [
      " 93%|█████████▎| 140/150 [12:38:54<54:02, 324.23s/it]"
     ]
    },
    {
     "name": "stdout",
     "output_type": "stream",
     "text": [
      "Train loss after 226816 examples: 1695.730\n",
      "Val loss after 226816 examples: 1506.903\n",
      "Train loss after 227328 examples: 1331.436\n",
      "Val loss after 227328 examples: 2044.401\n",
      "Train loss after 227840 examples: 1722.994\n",
      "Val loss after 227840 examples: 1282.725\n",
      "Train loss after 228352 examples: 893.376\n",
      "Val loss after 228352 examples: 1204.450\n",
      "Train loss after 228420 examples: 2065.017\n",
      "Val loss after 228420 examples: 1341.674\n"
     ]
    },
    {
     "name": "stderr",
     "output_type": "stream",
     "text": [
      " 94%|█████████▍| 141/150 [12:44:35<49:21, 329.08s/it]"
     ]
    },
    {
     "name": "stdout",
     "output_type": "stream",
     "text": [
      "Train loss after 228864 examples: 1672.832\n",
      "Val loss after 228864 examples: 1111.041\n",
      "Train loss after 229376 examples: 882.978\n",
      "Val loss after 229376 examples: 1257.688\n",
      "Train loss after 229888 examples: 1344.010\n",
      "Val loss after 229888 examples: 1365.426\n",
      "Train loss after 230040 examples: 1596.655\n",
      "Val loss after 230040 examples: 2182.506\n"
     ]
    },
    {
     "name": "stderr",
     "output_type": "stream",
     "text": [
      " 95%|█████████▍| 142/150 [12:49:59<43:40, 327.50s/it]"
     ]
    },
    {
     "name": "stdout",
     "output_type": "stream",
     "text": [
      "Train loss after 230400 examples: 1526.382\n",
      "Val loss after 230400 examples: 1511.277\n",
      "Train loss after 230912 examples: 1973.810\n",
      "Val loss after 230912 examples: 1275.418\n",
      "Train loss after 231424 examples: 725.433\n",
      "Val loss after 231424 examples: 1541.197\n",
      "Train loss after 231660 examples: 1309.319\n",
      "Val loss after 231660 examples: 1558.840\n"
     ]
    },
    {
     "name": "stderr",
     "output_type": "stream",
     "text": [
      " 95%|█████████▌| 143/150 [12:55:23<38:06, 326.58s/it]"
     ]
    },
    {
     "name": "stdout",
     "output_type": "stream",
     "text": [
      "Train loss after 231936 examples: 1073.954\n",
      "Val loss after 231936 examples: 1478.355\n",
      "Train loss after 232448 examples: 1823.753\n",
      "Val loss after 232448 examples: 1377.021\n",
      "Train loss after 232960 examples: 2247.564\n",
      "Val loss after 232960 examples: 1641.426\n",
      "Train loss after 233280 examples: 1347.936\n",
      "Val loss after 233280 examples: 2051.457\n"
     ]
    },
    {
     "name": "stderr",
     "output_type": "stream",
     "text": [
      " 96%|█████████▌| 144/150 [13:00:46<32:33, 325.51s/it]"
     ]
    },
    {
     "name": "stdout",
     "output_type": "stream",
     "text": [
      "Train loss after 233472 examples: 2494.780\n",
      "Val loss after 233472 examples: 1686.830\n",
      "Train loss after 233984 examples: 1471.781\n",
      "Val loss after 233984 examples: 2888.454\n",
      "Train loss after 234496 examples: 2828.995\n",
      "Val loss after 234496 examples: 1846.177\n",
      "Train loss after 234900 examples: 1665.527\n",
      "Val loss after 234900 examples: 1909.218\n"
     ]
    },
    {
     "name": "stderr",
     "output_type": "stream",
     "text": [
      " 97%|█████████▋| 145/150 [13:06:09<27:04, 324.84s/it]"
     ]
    },
    {
     "name": "stdout",
     "output_type": "stream",
     "text": [
      "Train loss after 235008 examples: 1682.946\n",
      "Val loss after 235008 examples: 1580.352\n",
      "Train loss after 235520 examples: 677.147\n",
      "Val loss after 235520 examples: 1701.952\n",
      "Train loss after 236032 examples: 1165.873\n",
      "Val loss after 236032 examples: 1381.581\n",
      "Train loss after 236520 examples: 2651.528\n",
      "Val loss after 236520 examples: 1579.853\n"
     ]
    },
    {
     "name": "stderr",
     "output_type": "stream",
     "text": [
      " 97%|█████████▋| 146/150 [13:11:33<21:37, 324.41s/it]"
     ]
    },
    {
     "name": "stdout",
     "output_type": "stream",
     "text": [
      "Train loss after 236544 examples: 2018.672\n",
      "Val loss after 236544 examples: 1579.251\n",
      "Train loss after 237056 examples: 1210.908\n",
      "Val loss after 237056 examples: 2004.039\n",
      "Train loss after 237568 examples: 1778.301\n",
      "Val loss after 237568 examples: 1481.643\n",
      "Train loss after 238080 examples: 1304.646\n",
      "Val loss after 238080 examples: 2232.738\n",
      "Train loss after 238140 examples: 966.560\n",
      "Val loss after 238140 examples: 2745.396\n"
     ]
    },
    {
     "name": "stderr",
     "output_type": "stream",
     "text": [
      " 98%|█████████▊| 147/150 [13:17:13<16:27, 329.15s/it]"
     ]
    },
    {
     "name": "stdout",
     "output_type": "stream",
     "text": [
      "Train loss after 238592 examples: 2782.190\n",
      "Val loss after 238592 examples: 1654.291\n",
      "Train loss after 239104 examples: 1272.725\n",
      "Val loss after 239104 examples: 1855.408\n",
      "Train loss after 239616 examples: 1098.851\n",
      "Val loss after 239616 examples: 1967.245\n",
      "Train loss after 239760 examples: 1522.745\n",
      "Val loss after 239760 examples: 1392.728\n"
     ]
    },
    {
     "name": "stderr",
     "output_type": "stream",
     "text": [
      " 99%|█████████▊| 148/150 [13:22:37<10:55, 327.60s/it]"
     ]
    },
    {
     "name": "stdout",
     "output_type": "stream",
     "text": [
      "Train loss after 240128 examples: 1591.610\n",
      "Val loss after 240128 examples: 1295.440\n",
      "Train loss after 240640 examples: 1385.085\n",
      "Val loss after 240640 examples: 1216.930\n",
      "Train loss after 241152 examples: 1698.218\n",
      "Val loss after 241152 examples: 1357.110\n",
      "Train loss after 241380 examples: 1431.950\n",
      "Val loss after 241380 examples: 1307.083\n"
     ]
    },
    {
     "name": "stderr",
     "output_type": "stream",
     "text": [
      " 99%|█████████▉| 149/150 [13:27:58<05:25, 325.74s/it]"
     ]
    },
    {
     "name": "stdout",
     "output_type": "stream",
     "text": [
      "Train loss after 241664 examples: 1697.526\n",
      "Val loss after 241664 examples: 1155.366\n",
      "Train loss after 242176 examples: 1666.876\n",
      "Val loss after 242176 examples: 1455.578\n",
      "Train loss after 242688 examples: 1727.435\n",
      "Val loss after 242688 examples: 1433.504\n",
      "Train loss after 243000 examples: 1471.023\n",
      "Val loss after 243000 examples: 1629.528\n"
     ]
    },
    {
     "name": "stderr",
     "output_type": "stream",
     "text": [
      "100%|██████████| 150/150 [13:33:33<00:00, 325.42s/it]\n"
     ]
    },
    {
     "data": {
      "text/html": [
       "<style>\n",
       "    table.wandb td:nth-child(1) { padding: 0 10px; text-align: left ; width: auto;} td:nth-child(2) {text-align: left ; width: 100%}\n",
       "    .wandb-row { display: flex; flex-direction: row; flex-wrap: wrap; justify-content: flex-start; width: 100% }\n",
       "    .wandb-col { display: flex; flex-direction: column; flex-basis: 100%; flex: 1; padding: 10px; }\n",
       "    </style>\n",
       "<div class=\"wandb-row\"><div class=\"wandb-col\"><h3>Run history:</h3><br/><table class=\"wandb\"><tr><td>epoch</td><td>▁▁▁▁▂▂▂▂▂▃▃▃▃▃▃▄▄▄▄▄▄▅▅▅▅▅▆▆▆▆▆▇▇▇▇▇▇███</td></tr><tr><td>train_loss</td><td>▄█▄▃▃▃▃▃▃▁▁▂▂▁▂▁▁▂▃▁▂▃▃▂▂▂▂▂▃▁▂▃▃▁▂▂▁▃▂▃</td></tr><tr><td>val_loss</td><td>▇█▅▂▂▂▃▂▁▂▃▂▁▁▁▁▂▁▁▁▂▅▄▂▁▁▁▁▂▁▁▁▁▁▁▁▁▁▆▂</td></tr></table><br/></div><div class=\"wandb-col\"><h3>Run summary:</h3><br/><table class=\"wandb\"><tr><td>epoch</td><td>149</td></tr><tr><td>train_loss</td><td>1471.02307</td></tr><tr><td>val_loss</td><td>1629.52843</td></tr></table><br/></div></div>"
      ],
      "text/plain": [
       "<IPython.core.display.HTML object>"
      ]
     },
     "metadata": {},
     "output_type": "display_data"
    },
    {
     "data": {
      "text/html": [
       " View run <strong style=\"color:#cdcd00\">skilled-music-35</strong> at: <a href='https://wandb.ai/nhikieu/drfuse/runs/tio5wzb8' target=\"_blank\">https://wandb.ai/nhikieu/drfuse/runs/tio5wzb8</a><br/> View project at: <a href='https://wandb.ai/nhikieu/drfuse' target=\"_blank\">https://wandb.ai/nhikieu/drfuse</a><br/>Synced 5 W&B file(s), 1869 media file(s), 0 artifact file(s) and 0 other file(s)"
      ],
      "text/plain": [
       "<IPython.core.display.HTML object>"
      ]
     },
     "metadata": {},
     "output_type": "display_data"
    },
    {
     "data": {
      "text/html": [
       "Find logs at: <code>.\\wandb\\run-20240717_221747-tio5wzb8\\logs</code>"
      ],
      "text/plain": [
       "<IPython.core.display.HTML object>"
      ]
     },
     "metadata": {},
     "output_type": "display_data"
    },
    {
     "data": {
      "text/html": [
       "The new W&B backend becomes opt-out in version 0.18.0; try it out with `wandb.require(\"core\")`! See https://wandb.me/wandb-core for more information."
      ],
      "text/plain": [
       "<IPython.core.display.HTML object>"
      ]
     },
     "metadata": {},
     "output_type": "display_data"
    }
   ],
   "source": [
    "# best pretrained path\n",
    "# ckpt_path = r\"D:\\drfuse\\checkpoints\\1720700298\\1720724395_loss1.8435\" # pretrained\n",
    "# ckpt_path = r\"D:\\drfuse\\checkpoints\\1720752266\\1720794150_loss16667.4636\" # cont shared feats\n",
    "# ckpt_path = r\"D:\\drfuse\\checkpoints\\1721047649\\1721088673_loss1759.3356\"\n",
    "ckpt_path = r\"D:\\drfuse\\checkpoints\\1721101178\\1721127137_loss1164.4341\"\n",
    "with wandb.init(project=\"drfuse\", entity=\"nhikieu\", config=EXPERIMENT_CONFIG):\n",
    "    config = wandb.config\n",
    "    model_trainer = DrFuse_RS_Trainer(config, pretrain=False, ckpt=ckpt_path)\n",
    "    model_trainer(train_loader, validate_loader)"
   ]
  },
  {
   "cell_type": "markdown",
   "metadata": {},
   "source": [
    "# Unit Test"
   ]
  },
  {
   "cell_type": "code",
   "execution_count": 3,
   "metadata": {},
   "outputs": [
    {
     "name": "stderr",
     "output_type": "stream",
     "text": [
      "d:\\drfuse\\drfuse_venv\\lib\\site-packages\\torch\\nn\\modules\\instancenorm.py:80: UserWarning: input's size at dim=0 does not match num_features. You can silence this warning by not passing in num_features, which is not used because affine=False\n",
      "  warnings.warn(f\"input's size at dim={feature_dim} does not match num_features. \"\n"
     ]
    },
    {
     "name": "stdout",
     "output_type": "stream",
     "text": [
      "torch.Size([6, 6, 512, 512]) torch.Size([6, 6, 512, 512]) torch.Size([6, 6, 512, 512]) torch.Size([6, 6, 512, 512]) torch.Size([6, 6, 512, 512])\n",
      "Total trainable parameters: 42120024\n"
     ]
    }
   ],
   "source": [
    "dummies = torch.rand(6, 4, 512, 512)\n",
    "masks = torch.FloatTensor([True, False, True, True, False, False])\n",
    "model = DrFuse_RS_Model()\n",
    "results = model(dummies, masks)\n",
    "print(results['pred_rgb'].shape, results['pred_ndsm'].shape, \n",
    "      results['pred_shared'].shape, results['pred_multimodal'].shape,\n",
    "      results['aux_preds'][0].shape)\n",
    "\n",
    "# Assuming model is an instance of a class derived from torch.nn.Module\n",
    "total_params = sum(p.numel() for p in model.parameters() if p.requires_grad)\n",
    "\n",
    "print(f\"Total trainable parameters: {total_params}\")"
   ]
  },
  {
   "cell_type": "code",
   "execution_count": null,
   "metadata": {},
   "outputs": [],
   "source": [
    "pairs = torch.FloatTensor([True, False, True, False, True, True])\n",
    "pairs = pairs.unsqueeze(1)\n",
    "feat_dummy = torch.randn(6, 512)\n",
    "test = pairs*feat_dummy\n",
    "test"
   ]
  },
  {
   "cell_type": "code",
   "execution_count": null,
   "metadata": {},
   "outputs": [],
   "source": [
    "for i, (input_4C, gt, mask) in enumerate(validate_loader):\n",
    "  print(input_4C.shape, gt.shape, mask.shape)\n",
    "  print(mask)\n",
    "  break"
   ]
  }
 ],
 "metadata": {
  "kernelspec": {
   "display_name": "drfuse_venv",
   "language": "python",
   "name": "python3"
  },
  "language_info": {
   "codemirror_mode": {
    "name": "ipython",
    "version": 3
   },
   "file_extension": ".py",
   "mimetype": "text/x-python",
   "name": "python",
   "nbconvert_exporter": "python",
   "pygments_lexer": "ipython3",
   "version": "3.9.12"
  }
 },
 "nbformat": 4,
 "nbformat_minor": 2
}
