{
 "cells": [
  {
   "cell_type": "markdown",
   "metadata": {},
   "source": [
    "# Import"
   ]
  },
  {
   "cell_type": "code",
   "execution_count": 1,
   "metadata": {},
   "outputs": [
    {
     "name": "stderr",
     "output_type": "stream",
     "text": [
      "C:\\Users\\n10300759\\AppData\\Local\\Temp\\ipykernel_10968\\2494540655.py:7: TqdmWarning: IProgress not found. Please update jupyter and ipywidgets. See https://ipywidgets.readthedocs.io/en/stable/user_install.html\n",
      "  from tqdm.autonotebook import tqdm\n"
     ]
    }
   ],
   "source": [
    "from torch import nn\n",
    "import torch\n",
    "from models import DrFuse_RS_Model, DrFuse_RS_Trainer\n",
    "import time\n",
    "import os\n",
    "from torch.utils.data import Dataset, DataLoader\n",
    "from tqdm.autonotebook import tqdm\n",
    "import skimage.io as io\n",
    "import earthpy.spatial as es\n",
    "import numpy as np\n",
    "import random\n",
    "import wandb\n",
    "\n",
    "\n",
    "# Ensure deterministic behavior\n",
    "torch.backends.cudnn.deterministic = True\n",
    "random.seed(hash(\"setting random seeds\") % 2**32 - 1)\n",
    "np.random.seed(hash(\"improves reproducibility\") % 2**32 - 1)\n",
    "torch.manual_seed(hash(\"by removing stochasticity\") % 2**32 - 1)\n",
    "torch.cuda.manual_seed_all(hash(\"so runs are repeatable\") % 2**32 - 1)"
   ]
  },
  {
   "cell_type": "markdown",
   "metadata": {},
   "source": [
    "# Data"
   ]
  },
  {
   "cell_type": "code",
   "execution_count": 2,
   "metadata": {},
   "outputs": [
    {
     "name": "stdout",
     "output_type": "stream",
     "text": [
      "checkpoints\\1720658579\n"
     ]
    }
   ],
   "source": [
    "now = str(int(time.time()))\n",
    "\n",
    "EXPERIMENT_CONFIG = dict(\n",
    "    # window data folder\n",
    "    DATA_FOLDER = r'D:\\CarsSegmentationTroubleShoot\\data\\multimodal',\n",
    "    # mac data folder\n",
    "    # DATA_FOLDER = r'/Users/nhikieu/Documents/PhD/multimodal',\n",
    "    num_epoch = 100, \n",
    "    img_size = 512, \n",
    "    num_classes = 6,\n",
    "    input_channels = 5,\n",
    "    batch_size = 4,\n",
    "    checkpoint_pth = os.path.join('checkpoints', now),\n",
    "    update_optim_size = 32\n",
    "    )\n",
    "DEVICE = 'mps'\n",
    "\n",
    "print(EXPERIMENT_CONFIG['checkpoint_pth'])"
   ]
  },
  {
   "cell_type": "code",
   "execution_count": 3,
   "metadata": {},
   "outputs": [],
   "source": [
    "def rgb_to_class(mask_image):\n",
    "  class_map = {\n",
    "    (255,255,255): 0, \n",
    "    (0,0,255): 1, \n",
    "    (0,255,255): 2, \n",
    "    (0,255,0): 3, \n",
    "    (255,255,0): 4, \n",
    "    (255,0,0): 5\n",
    "  }\n",
    "\n",
    "  # Create a 3D numpy array that represents the RGB color of each pixel\n",
    "  rgb_data = mask_image.reshape(-1, 3)\n",
    "\n",
    "  # Create a 1D numpy array that represents the class label for each RGB color\n",
    "  class_labels = np.zeros(rgb_data.shape[0], dtype=np.uint8)\n",
    "  for rgb, class_label in class_map.items():\n",
    "      mask = np.all(rgb_data == np.array(rgb), axis=1)\n",
    "      class_labels[mask] = class_label\n",
    "\n",
    "  # Reshape the 1D class label array into a 2D class map\n",
    "  class_data = class_labels.reshape(mask_image.shape[:2])\n",
    "\n",
    "  return class_data\n",
    "\n",
    "\n",
    "class VaihingenDataset(Dataset):\n",
    "  def __init__(self, folder) -> None:\n",
    "    '''\n",
    "    folder: data path include both rgb img and gt\n",
    "    gt: 3 channels map with postfix '_gt'\n",
    "    '''\n",
    "    super().__init__()\n",
    "\n",
    "    self.imgs = []\n",
    "    self.gts = []\n",
    "\n",
    "    # get all filenames in the directory\n",
    "    filenames = os.listdir(os.path.join(folder, 'rgb'))\n",
    "\n",
    "    for f in tqdm(filenames):\n",
    "      img = io.imread(os.path.join(folder, 'rgb', f)) / 255.0\n",
    "     \n",
    "      ndsm = io.imread(os.path.join(folder, 'ndsm', f.split('.png')[0] + '_ndsm.tif'))\n",
    "      ndsm = np.expand_dims(ndsm, axis=2)\n",
    "    \n",
    "      input_4C = np.dstack((img, ndsm))\n",
    "\n",
    "      input_4C = torch.tensor(input_4C).permute((2, 0, 1))\n",
    "      \n",
    "      gt_path = os.path.join(folder, 'gt', f.split('.png')[0] + '_gt.png')\n",
    "      gt = io.imread(gt_path)\n",
    "      gt = rgb_to_class(gt)\n",
    "      gt = torch.tensor(gt).unsqueeze(0)\n",
    "\n",
    "      self.imgs.append(input_4C)\n",
    "      self.gts.append(gt)\n",
    "    \n",
    "\n",
    "  def __len__(self):\n",
    "    return len(self.imgs)\n",
    "  \n",
    "  def __getitem__(self, index):\n",
    "    input_4C = self.imgs[index].float()\n",
    "    gt = self.gts[index]\n",
    "\n",
    "    # mask_array = [True, False]\n",
    "    mask_index = np.random.choice(2, 1, p=[0.5, 0.5])\n",
    "    mask = torch.tensor(mask_index[0])\n",
    "\n",
    "    return input_4C, gt, mask"
   ]
  },
  {
   "cell_type": "code",
   "execution_count": 4,
   "metadata": {},
   "outputs": [
    {
     "name": "stderr",
     "output_type": "stream",
     "text": [
      "100%|██████████| 1620/1620 [02:40<00:00, 10.08it/s]\n",
      "100%|██████████| 120/120 [00:06<00:00, 17.37it/s]"
     ]
    },
    {
     "name": "stdout",
     "output_type": "stream",
     "text": [
      "Train samples: 1620\n",
      "Val samples: 120\n"
     ]
    },
    {
     "name": "stderr",
     "output_type": "stream",
     "text": [
      "\n"
     ]
    }
   ],
   "source": [
    "#Note that we are using ground truth in the folder '1CGT'. They are not RGB anymore, but one channel.\n",
    "training_dataset = VaihingenDataset(os.path.join(EXPERIMENT_CONFIG['DATA_FOLDER'], 'train'))\n",
    "validate_dataset = VaihingenDataset(os.path.join(EXPERIMENT_CONFIG['DATA_FOLDER'], 'val'))\n",
    "\n",
    "#Note that we shuffle the data for the training set, but not for the validation set:\n",
    "train_loader = DataLoader(dataset=training_dataset, batch_size=EXPERIMENT_CONFIG['batch_size'], shuffle=True, pin_memory=True)\n",
    "validate_loader = DataLoader(dataset=validate_dataset, batch_size=EXPERIMENT_CONFIG['batch_size'], shuffle=True, pin_memory=True)\n",
    "\n",
    "print(f'Train samples: {len(training_dataset)}')\n",
    "print(f'Val samples: {len(validate_dataset)}')"
   ]
  },
  {
   "cell_type": "markdown",
   "metadata": {},
   "source": [
    "# Train"
   ]
  },
  {
   "cell_type": "code",
   "execution_count": 5,
   "metadata": {},
   "outputs": [
    {
     "name": "stderr",
     "output_type": "stream",
     "text": [
      "Failed to detect the name of this notebook, you can set it manually with the WANDB_NOTEBOOK_NAME environment variable to enable code saving.\n"
     ]
    },
    {
     "name": "stderr",
     "output_type": "stream",
     "text": [
      "\u001b[34m\u001b[1mwandb\u001b[0m: Currently logged in as: \u001b[33mnhikieu\u001b[0m (\u001b[33mqut_nhi_phd\u001b[0m). Use \u001b[1m`wandb login --relogin`\u001b[0m to force relogin\n"
     ]
    },
    {
     "data": {
      "text/plain": [
       "True"
      ]
     },
     "execution_count": 5,
     "metadata": {},
     "output_type": "execute_result"
    }
   ],
   "source": [
    "wandb.login()"
   ]
  },
  {
   "cell_type": "code",
   "execution_count": 6,
   "metadata": {},
   "outputs": [
    {
     "name": "stderr",
     "output_type": "stream",
     "text": [
      "\u001b[34m\u001b[1mwandb\u001b[0m: Currently logged in as: \u001b[33mnhikieu\u001b[0m. Use \u001b[1m`wandb login --relogin`\u001b[0m to force relogin\n"
     ]
    },
    {
     "data": {
      "text/html": [
       "Tracking run with wandb version 0.17.4"
      ],
      "text/plain": [
       "<IPython.core.display.HTML object>"
      ]
     },
     "metadata": {},
     "output_type": "display_data"
    },
    {
     "data": {
      "text/html": [
       "Run data is saved locally in <code>d:\\drfuse\\wandb\\run-20240711_104548-85xqksmz</code>"
      ],
      "text/plain": [
       "<IPython.core.display.HTML object>"
      ]
     },
     "metadata": {},
     "output_type": "display_data"
    },
    {
     "data": {
      "text/html": [
       "Syncing run <strong><a href='https://wandb.ai/nhikieu/drfuse/runs/85xqksmz' target=\"_blank\">bright-lake-17</a></strong> to <a href='https://wandb.ai/nhikieu/drfuse' target=\"_blank\">Weights & Biases</a> (<a href='https://wandb.me/run' target=\"_blank\">docs</a>)<br/>"
      ],
      "text/plain": [
       "<IPython.core.display.HTML object>"
      ]
     },
     "metadata": {},
     "output_type": "display_data"
    },
    {
     "data": {
      "text/html": [
       " View project at <a href='https://wandb.ai/nhikieu/drfuse' target=\"_blank\">https://wandb.ai/nhikieu/drfuse</a>"
      ],
      "text/plain": [
       "<IPython.core.display.HTML object>"
      ]
     },
     "metadata": {},
     "output_type": "display_data"
    },
    {
     "data": {
      "text/html": [
       " View run at <a href='https://wandb.ai/nhikieu/drfuse/runs/85xqksmz' target=\"_blank\">https://wandb.ai/nhikieu/drfuse/runs/85xqksmz</a>"
      ],
      "text/plain": [
       "<IPython.core.display.HTML object>"
      ]
     },
     "metadata": {},
     "output_type": "display_data"
    },
    {
     "name": "stderr",
     "output_type": "stream",
     "text": [
      "  0%|          | 0/100 [00:00<?, ?it/s]d:\\drfuse\\models\\drfuse_rs.py:86: UserWarning: To copy construct from a tensor, it is recommended to use sourceTensor.clone().detach() or sourceTensor.clone().detach().requires_grad_(True), rather than torch.tensor(sourceTensor).\n",
      "  batch = (images.to(device), labels.to(device), torch.tensor(masks).to(device))\n",
      "d:\\drfuse\\drfuse_venv\\lib\\site-packages\\torch\\nn\\modules\\instancenorm.py:80: UserWarning: input's size at dim=0 does not match num_features. You can silence this warning by not passing in num_features, which is not used because affine=False\n",
      "  warnings.warn(f\"input's size at dim={feature_dim} does not match num_features. \"\n",
      "d:\\drfuse\\models\\drfuse_rs.py:106: UserWarning: To copy construct from a tensor, it is recommended to use sourceTensor.clone().detach() or sourceTensor.clone().detach().requires_grad_(True), rather than torch.tensor(sourceTensor).\n",
      "  batch = (images.to(device), labels.to(device), torch.tensor(masks).to(device))\n"
     ]
    },
    {
     "name": "stdout",
     "output_type": "stream",
     "text": [
      "Train loss after 00512 examples: 3.786\n",
      "Val loss after 00512 examples: 4.040\n",
      "Train loss after 01024 examples: 3.984\n",
      "Val loss after 01024 examples: 3.988\n",
      "Train loss after 01536 examples: 4.018\n",
      "Val loss after 01536 examples: 3.965\n"
     ]
    },
    {
     "name": "stderr",
     "output_type": "stream",
     "text": [
      "  1%|          | 1/100 [03:52<6:23:40, 232.54s/it]"
     ]
    },
    {
     "name": "stdout",
     "output_type": "stream",
     "text": [
      "Train loss after 01620 examples: 3.619\n",
      "Val loss after 01620 examples: 3.964\n",
      "Train loss after 02048 examples: 3.691\n",
      "Val loss after 02048 examples: 3.935\n",
      "Train loss after 02560 examples: 3.723\n",
      "Val loss after 02560 examples: 3.872\n",
      "Train loss after 03072 examples: 3.761\n",
      "Val loss after 03072 examples: 3.824\n",
      "Train loss after 03240 examples: 3.562\n",
      "Val loss after 03240 examples: 3.808\n"
     ]
    },
    {
     "name": "stderr",
     "output_type": "stream",
     "text": [
      "  2%|▏         | 2/100 [07:56<6:30:57, 239.37s/it]"
     ]
    },
    {
     "name": "stdout",
     "output_type": "stream",
     "text": [
      "Train loss after 03584 examples: 3.410\n",
      "Val loss after 03584 examples: 3.793\n",
      "Train loss after 04096 examples: 3.739\n",
      "Val loss after 04096 examples: 3.778\n",
      "Train loss after 04608 examples: 3.760\n",
      "Val loss after 04608 examples: 3.767\n",
      "Train loss after 04860 examples: 3.655\n",
      "Val loss after 04860 examples: 3.766\n"
     ]
    },
    {
     "name": "stderr",
     "output_type": "stream",
     "text": [
      "  3%|▎         | 3/100 [12:09<6:37:00, 245.57s/it]"
     ]
    },
    {
     "name": "stdout",
     "output_type": "stream",
     "text": [
      "Train loss after 05120 examples: 3.824\n",
      "Val loss after 05120 examples: 3.766\n",
      "Train loss after 05632 examples: 3.697\n",
      "Val loss after 05632 examples: 3.772\n",
      "Train loss after 06144 examples: 3.432\n",
      "Val loss after 06144 examples: 3.746\n",
      "Train loss after 06480 examples: 3.577\n",
      "Val loss after 06480 examples: 3.727\n"
     ]
    },
    {
     "name": "stderr",
     "output_type": "stream",
     "text": [
      "  4%|▍         | 4/100 [16:21<6:37:11, 248.25s/it]"
     ]
    },
    {
     "name": "stdout",
     "output_type": "stream",
     "text": [
      "Train loss after 06656 examples: 3.699\n",
      "Val loss after 06656 examples: 3.711\n",
      "Train loss after 07168 examples: 3.716\n",
      "Val loss after 07168 examples: 3.691\n",
      "Train loss after 07680 examples: 3.735\n",
      "Val loss after 07680 examples: 3.669\n",
      "Train loss after 08100 examples: 3.509\n",
      "Val loss after 08100 examples: 3.655\n"
     ]
    },
    {
     "name": "stderr",
     "output_type": "stream",
     "text": [
      "  5%|▌         | 5/100 [20:34<6:35:42, 249.92s/it]"
     ]
    },
    {
     "name": "stdout",
     "output_type": "stream",
     "text": [
      "Train loss after 08192 examples: 3.722\n",
      "Val loss after 08192 examples: 3.654\n",
      "Train loss after 08704 examples: 3.483\n",
      "Val loss after 08704 examples: 3.633\n",
      "Train loss after 09216 examples: 3.236\n",
      "Val loss after 09216 examples: 3.623\n",
      "Train loss after 09720 examples: 3.353\n",
      "Val loss after 09720 examples: 3.612\n"
     ]
    },
    {
     "name": "stderr",
     "output_type": "stream",
     "text": [
      "  6%|▌         | 6/100 [24:47<6:32:44, 250.68s/it]"
     ]
    },
    {
     "name": "stdout",
     "output_type": "stream",
     "text": [
      "Train loss after 09728 examples: 3.675\n",
      "Val loss after 09728 examples: 3.611\n",
      "Train loss after 10240 examples: 3.270\n",
      "Val loss after 10240 examples: 3.605\n",
      "Train loss after 10752 examples: 3.346\n",
      "Val loss after 10752 examples: 3.599\n",
      "Train loss after 11264 examples: 3.541\n",
      "Val loss after 11264 examples: 3.596\n",
      "Train loss after 11340 examples: 3.496\n",
      "Val loss after 11340 examples: 3.596\n"
     ]
    },
    {
     "name": "stderr",
     "output_type": "stream",
     "text": [
      "  7%|▋         | 7/100 [29:16<6:37:50, 256.67s/it]"
     ]
    },
    {
     "name": "stdout",
     "output_type": "stream",
     "text": [
      "Train loss after 11776 examples: 3.528\n",
      "Val loss after 11776 examples: 3.596\n",
      "Train loss after 12288 examples: 3.475\n",
      "Val loss after 12288 examples: 3.596\n",
      "Train loss after 12800 examples: 3.399\n",
      "Val loss after 12800 examples: 3.596\n",
      "Train loss after 12960 examples: 3.582\n",
      "Val loss after 12960 examples: 3.589\n"
     ]
    },
    {
     "name": "stderr",
     "output_type": "stream",
     "text": [
      "  8%|▊         | 8/100 [33:28<6:31:16, 255.18s/it]"
     ]
    },
    {
     "name": "stdout",
     "output_type": "stream",
     "text": [
      "Train loss after 13312 examples: 3.583\n",
      "Val loss after 13312 examples: 3.568\n",
      "Train loss after 13824 examples: 3.351\n",
      "Val loss after 13824 examples: 3.546\n",
      "Train loss after 14336 examples: 3.342\n",
      "Val loss after 14336 examples: 3.527\n",
      "Train loss after 14580 examples: 3.435\n",
      "Val loss after 14580 examples: 3.515\n"
     ]
    },
    {
     "name": "stderr",
     "output_type": "stream",
     "text": [
      "  9%|▉         | 9/100 [37:40<6:25:57, 254.48s/it]"
     ]
    },
    {
     "name": "stdout",
     "output_type": "stream",
     "text": [
      "Train loss after 14848 examples: 3.263\n",
      "Val loss after 14848 examples: 3.500\n",
      "Train loss after 15360 examples: 3.546\n",
      "Val loss after 15360 examples: 3.478\n",
      "Train loss after 15872 examples: 3.432\n",
      "Val loss after 15872 examples: 3.455\n",
      "Train loss after 16200 examples: 3.472\n",
      "Val loss after 16200 examples: 3.440\n"
     ]
    },
    {
     "name": "stderr",
     "output_type": "stream",
     "text": [
      " 10%|█         | 10/100 [41:53<6:21:02, 254.02s/it]"
     ]
    },
    {
     "name": "stdout",
     "output_type": "stream",
     "text": [
      "Train loss after 16384 examples: 3.350\n",
      "Val loss after 16384 examples: 3.433\n",
      "Train loss after 16896 examples: 3.262\n",
      "Val loss after 16896 examples: 3.410\n",
      "Train loss after 17408 examples: 3.184\n",
      "Val loss after 17408 examples: 3.393\n"
     ]
    },
    {
     "name": "stderr",
     "output_type": "stream",
     "text": [
      " 11%|█         | 11/100 [46:07<6:16:39, 253.92s/it]"
     ]
    },
    {
     "name": "stdout",
     "output_type": "stream",
     "text": [
      "Train loss after 17820 examples: 3.416\n",
      "Val loss after 17820 examples: 3.396\n",
      "Train loss after 17920 examples: 3.515\n",
      "Val loss after 17920 examples: 3.385\n",
      "Train loss after 18432 examples: 3.235\n",
      "Val loss after 18432 examples: 3.379\n",
      "Train loss after 18944 examples: 3.495\n",
      "Val loss after 18944 examples: 3.346\n",
      "Train loss after 19440 examples: 3.272\n",
      "Val loss after 19440 examples: 3.346\n"
     ]
    },
    {
     "name": "stderr",
     "output_type": "stream",
     "text": [
      " 12%|█▏        | 12/100 [50:20<6:11:48, 253.50s/it]"
     ]
    },
    {
     "name": "stdout",
     "output_type": "stream",
     "text": [
      "Train loss after 19456 examples: 3.412\n",
      "Val loss after 19456 examples: 3.344\n",
      "Train loss after 19968 examples: 3.326\n",
      "Val loss after 19968 examples: 3.327\n",
      "Train loss after 20480 examples: 3.124\n",
      "Val loss after 20480 examples: 3.307\n",
      "Train loss after 20992 examples: 3.176\n",
      "Val loss after 20992 examples: 3.307\n"
     ]
    },
    {
     "name": "stderr",
     "output_type": "stream",
     "text": [
      " 13%|█▎        | 13/100 [54:49<6:14:31, 258.29s/it]"
     ]
    },
    {
     "name": "stdout",
     "output_type": "stream",
     "text": [
      "Train loss after 21060 examples: 2.921\n",
      "Val loss after 21060 examples: 3.313\n",
      "Train loss after 21504 examples: 3.251\n",
      "Val loss after 21504 examples: 3.289\n",
      "Train loss after 22016 examples: 2.975\n",
      "Val loss after 22016 examples: 3.292\n",
      "Train loss after 22528 examples: 3.116\n",
      "Val loss after 22528 examples: 3.277\n",
      "Train loss after 22680 examples: 3.228\n",
      "Val loss after 22680 examples: 3.269\n"
     ]
    },
    {
     "name": "stderr",
     "output_type": "stream",
     "text": [
      " 14%|█▍        | 14/100 [59:01<6:07:35, 256.46s/it]"
     ]
    },
    {
     "name": "stdout",
     "output_type": "stream",
     "text": [
      "Train loss after 23040 examples: 3.014\n",
      "Val loss after 23040 examples: 3.271\n",
      "Train loss after 23552 examples: 3.165\n",
      "Val loss after 23552 examples: 3.275\n",
      "Train loss after 24064 examples: 3.094\n",
      "Val loss after 24064 examples: 3.259\n",
      "Train loss after 24300 examples: 3.143\n",
      "Val loss after 24300 examples: 3.257\n"
     ]
    },
    {
     "name": "stderr",
     "output_type": "stream",
     "text": [
      " 15%|█▌        | 15/100 [1:03:13<6:01:13, 254.98s/it]"
     ]
    },
    {
     "name": "stdout",
     "output_type": "stream",
     "text": [
      "Train loss after 24576 examples: 3.232\n",
      "Val loss after 24576 examples: 3.257\n",
      "Train loss after 25088 examples: 3.090\n",
      "Val loss after 25088 examples: 3.259\n",
      "Train loss after 25600 examples: 3.307\n",
      "Val loss after 25600 examples: 3.258\n"
     ]
    },
    {
     "name": "stderr",
     "output_type": "stream",
     "text": [
      " 16%|█▌        | 16/100 [1:07:26<5:56:21, 254.54s/it]"
     ]
    },
    {
     "name": "stdout",
     "output_type": "stream",
     "text": [
      "Train loss after 25920 examples: 3.192\n",
      "Val loss after 25920 examples: 3.257\n",
      "Train loss after 26112 examples: 3.225\n",
      "Val loss after 26112 examples: 3.259\n",
      "Train loss after 26624 examples: 2.998\n",
      "Val loss after 26624 examples: 3.260\n",
      "Train loss after 27136 examples: 2.993\n",
      "Val loss after 27136 examples: 3.303\n"
     ]
    },
    {
     "name": "stderr",
     "output_type": "stream",
     "text": [
      " 17%|█▋        | 17/100 [1:11:38<5:50:55, 253.68s/it]"
     ]
    },
    {
     "name": "stdout",
     "output_type": "stream",
     "text": [
      "Train loss after 27540 examples: 3.133\n",
      "Val loss after 27540 examples: 3.275\n",
      "Train loss after 27648 examples: 3.368\n",
      "Val loss after 27648 examples: 3.272\n",
      "Train loss after 28160 examples: 3.077\n",
      "Val loss after 28160 examples: 3.233\n",
      "Train loss after 28672 examples: 3.302\n",
      "Val loss after 28672 examples: 3.209\n",
      "Train loss after 29160 examples: 3.145\n",
      "Val loss after 29160 examples: 3.182\n"
     ]
    },
    {
     "name": "stderr",
     "output_type": "stream",
     "text": [
      " 18%|█▊        | 18/100 [1:15:51<5:46:20, 253.42s/it]"
     ]
    },
    {
     "name": "stdout",
     "output_type": "stream",
     "text": [
      "Train loss after 29184 examples: 3.297\n",
      "Val loss after 29184 examples: 3.193\n",
      "Train loss after 29696 examples: 3.303\n",
      "Val loss after 29696 examples: 3.156\n",
      "Train loss after 30208 examples: 3.221\n",
      "Val loss after 30208 examples: 3.137\n",
      "Train loss after 30720 examples: 3.022\n",
      "Val loss after 30720 examples: 3.121\n",
      "Train loss after 30780 examples: 2.937\n",
      "Val loss after 30780 examples: 3.120\n"
     ]
    },
    {
     "name": "stderr",
     "output_type": "stream",
     "text": [
      " 19%|█▉        | 19/100 [1:20:20<5:48:42, 258.30s/it]"
     ]
    },
    {
     "name": "stdout",
     "output_type": "stream",
     "text": [
      "Train loss after 31232 examples: 2.975\n",
      "Val loss after 31232 examples: 3.093\n",
      "Train loss after 31744 examples: 2.930\n",
      "Val loss after 31744 examples: 3.071\n",
      "Train loss after 32256 examples: 2.994\n",
      "Val loss after 32256 examples: 3.059\n",
      "Train loss after 32400 examples: 3.006\n",
      "Val loss after 32400 examples: 3.056\n"
     ]
    },
    {
     "name": "stderr",
     "output_type": "stream",
     "text": [
      " 20%|██        | 20/100 [1:24:34<5:42:31, 256.89s/it]"
     ]
    },
    {
     "name": "stdout",
     "output_type": "stream",
     "text": [
      "Train loss after 32768 examples: 3.152\n",
      "Val loss after 32768 examples: 3.047\n",
      "Train loss after 33280 examples: 3.121\n",
      "Val loss after 33280 examples: 3.053\n",
      "Train loss after 33792 examples: 2.853\n",
      "Val loss after 33792 examples: 3.009\n"
     ]
    },
    {
     "name": "stderr",
     "output_type": "stream",
     "text": [
      " 21%|██        | 21/100 [1:28:48<5:36:53, 255.87s/it]"
     ]
    },
    {
     "name": "stdout",
     "output_type": "stream",
     "text": [
      "Train loss after 34020 examples: 2.896\n",
      "Val loss after 34020 examples: 3.023\n",
      "Train loss after 34304 examples: 2.883\n",
      "Val loss after 34304 examples: 3.020\n",
      "Train loss after 34816 examples: 2.998\n",
      "Val loss after 34816 examples: 2.994\n",
      "Train loss after 35328 examples: 2.801\n",
      "Val loss after 35328 examples: 2.989\n",
      "Train loss after 35640 examples: 2.708\n",
      "Val loss after 35640 examples: 2.952\n"
     ]
    },
    {
     "name": "stderr",
     "output_type": "stream",
     "text": [
      " 22%|██▏       | 22/100 [1:33:00<5:31:15, 254.81s/it]"
     ]
    },
    {
     "name": "stdout",
     "output_type": "stream",
     "text": [
      "Train loss after 35840 examples: 2.893\n",
      "Val loss after 35840 examples: 2.958\n",
      "Train loss after 36352 examples: 2.548\n",
      "Val loss after 36352 examples: 2.931\n",
      "Train loss after 36864 examples: 2.810\n",
      "Val loss after 36864 examples: 2.929\n"
     ]
    },
    {
     "name": "stderr",
     "output_type": "stream",
     "text": [
      " 23%|██▎       | 23/100 [1:37:10<5:25:20, 253.52s/it]"
     ]
    },
    {
     "name": "stdout",
     "output_type": "stream",
     "text": [
      "Train loss after 37260 examples: 2.651\n",
      "Val loss after 37260 examples: 2.933\n",
      "Train loss after 37376 examples: 2.631\n",
      "Val loss after 37376 examples: 2.925\n",
      "Train loss after 37888 examples: 2.740\n",
      "Val loss after 37888 examples: 2.910\n",
      "Train loss after 38400 examples: 2.790\n",
      "Val loss after 38400 examples: 2.897\n",
      "Train loss after 38880 examples: 2.707\n",
      "Val loss after 38880 examples: 2.895\n"
     ]
    },
    {
     "name": "stderr",
     "output_type": "stream",
     "text": [
      " 24%|██▍       | 24/100 [1:41:23<5:20:51, 253.31s/it]"
     ]
    },
    {
     "name": "stdout",
     "output_type": "stream",
     "text": [
      "Train loss after 38912 examples: 2.671\n",
      "Val loss after 38912 examples: 2.895\n",
      "Train loss after 39424 examples: 2.913\n",
      "Val loss after 39424 examples: 2.877\n",
      "Train loss after 39936 examples: 2.490\n",
      "Val loss after 39936 examples: 2.863\n",
      "Train loss after 40448 examples: 2.687\n",
      "Val loss after 40448 examples: 2.856\n",
      "Train loss after 40500 examples: 2.790\n",
      "Val loss after 40500 examples: 2.852\n"
     ]
    },
    {
     "name": "stderr",
     "output_type": "stream",
     "text": [
      " 25%|██▌       | 25/100 [1:45:51<5:22:11, 257.76s/it]"
     ]
    },
    {
     "name": "stdout",
     "output_type": "stream",
     "text": [
      "Train loss after 40960 examples: 2.519\n",
      "Val loss after 40960 examples: 2.845\n",
      "Train loss after 41472 examples: 2.674\n",
      "Val loss after 41472 examples: 2.842\n",
      "Train loss after 41984 examples: 2.698\n",
      "Val loss after 41984 examples: 2.834\n",
      "Train loss after 42120 examples: 2.727\n",
      "Val loss after 42120 examples: 2.825\n"
     ]
    },
    {
     "name": "stderr",
     "output_type": "stream",
     "text": [
      " 26%|██▌       | 26/100 [1:50:03<5:15:35, 255.89s/it]"
     ]
    },
    {
     "name": "stdout",
     "output_type": "stream",
     "text": [
      "Train loss after 42496 examples: 2.682\n",
      "Val loss after 42496 examples: 2.841\n",
      "Train loss after 43008 examples: 2.659\n",
      "Val loss after 43008 examples: 2.844\n",
      "Train loss after 43520 examples: 2.626\n",
      "Val loss after 43520 examples: 2.828\n",
      "Train loss after 43740 examples: 2.744\n",
      "Val loss after 43740 examples: 2.823\n"
     ]
    },
    {
     "name": "stderr",
     "output_type": "stream",
     "text": [
      " 27%|██▋       | 27/100 [1:54:15<5:09:55, 254.73s/it]"
     ]
    },
    {
     "name": "stdout",
     "output_type": "stream",
     "text": [
      "Train loss after 44032 examples: 2.945\n",
      "Val loss after 44032 examples: 2.807\n",
      "Train loss after 44544 examples: 2.770\n",
      "Val loss after 44544 examples: 2.798\n",
      "Train loss after 45056 examples: 2.541\n",
      "Val loss after 45056 examples: 2.803\n",
      "Train loss after 45360 examples: 2.538\n",
      "Val loss after 45360 examples: 2.797\n"
     ]
    },
    {
     "name": "stderr",
     "output_type": "stream",
     "text": [
      " 28%|██▊       | 28/100 [1:58:27<5:04:35, 253.82s/it]"
     ]
    },
    {
     "name": "stdout",
     "output_type": "stream",
     "text": [
      "Train loss after 45568 examples: 2.607\n",
      "Val loss after 45568 examples: 2.799\n",
      "Train loss after 46080 examples: 2.614\n",
      "Val loss after 46080 examples: 2.801\n",
      "Train loss after 46592 examples: 2.728\n",
      "Val loss after 46592 examples: 2.801\n",
      "Train loss after 46980 examples: 2.344\n",
      "Val loss after 46980 examples: 2.774\n"
     ]
    },
    {
     "name": "stderr",
     "output_type": "stream",
     "text": [
      " 29%|██▉       | 29/100 [2:02:38<4:59:35, 253.17s/it]"
     ]
    },
    {
     "name": "stdout",
     "output_type": "stream",
     "text": [
      "Train loss after 47104 examples: 2.741\n",
      "Val loss after 47104 examples: 2.776\n",
      "Train loss after 47616 examples: 2.563\n",
      "Val loss after 47616 examples: 2.783\n",
      "Train loss after 48128 examples: 2.764\n",
      "Val loss after 48128 examples: 2.785\n"
     ]
    },
    {
     "name": "stderr",
     "output_type": "stream",
     "text": [
      " 30%|███       | 30/100 [2:06:50<4:54:41, 252.60s/it]"
     ]
    },
    {
     "name": "stdout",
     "output_type": "stream",
     "text": [
      "Train loss after 48600 examples: 2.522\n",
      "Val loss after 48600 examples: 2.786\n",
      "Train loss after 48640 examples: 3.001\n",
      "Val loss after 48640 examples: 2.784\n",
      "Train loss after 49152 examples: 2.755\n",
      "Val loss after 49152 examples: 2.778\n",
      "Train loss after 49664 examples: 2.289\n",
      "Val loss after 49664 examples: 2.776\n",
      "Train loss after 50176 examples: 2.750\n",
      "Val loss after 50176 examples: 2.780\n"
     ]
    },
    {
     "name": "stderr",
     "output_type": "stream",
     "text": [
      " 31%|███       | 31/100 [2:11:17<4:55:38, 257.09s/it]"
     ]
    },
    {
     "name": "stdout",
     "output_type": "stream",
     "text": [
      "Train loss after 50220 examples: 2.697\n",
      "Val loss after 50220 examples: 2.779\n",
      "Train loss after 50688 examples: 2.805\n",
      "Val loss after 50688 examples: 2.775\n",
      "Train loss after 51200 examples: 2.550\n",
      "Val loss after 51200 examples: 2.770\n",
      "Train loss after 51712 examples: 2.581\n",
      "Val loss after 51712 examples: 2.770\n"
     ]
    },
    {
     "name": "stderr",
     "output_type": "stream",
     "text": [
      " 32%|███▏      | 32/100 [2:15:30<4:49:51, 255.75s/it]"
     ]
    },
    {
     "name": "stdout",
     "output_type": "stream",
     "text": [
      "Train loss after 51840 examples: 2.560\n",
      "Val loss after 51840 examples: 2.770\n",
      "Train loss after 52224 examples: 2.480\n",
      "Val loss after 52224 examples: 2.772\n",
      "Train loss after 52736 examples: 2.748\n",
      "Val loss after 52736 examples: 2.771\n",
      "Train loss after 53248 examples: 2.994\n",
      "Val loss after 53248 examples: 2.772\n"
     ]
    },
    {
     "name": "stderr",
     "output_type": "stream",
     "text": [
      " 33%|███▎      | 33/100 [2:19:41<4:44:12, 254.52s/it]"
     ]
    },
    {
     "name": "stdout",
     "output_type": "stream",
     "text": [
      "Train loss after 53460 examples: 2.655\n",
      "Val loss after 53460 examples: 2.773\n",
      "Train loss after 53760 examples: 2.335\n",
      "Val loss after 53760 examples: 2.774\n",
      "Train loss after 54272 examples: 2.296\n",
      "Val loss after 54272 examples: 2.774\n",
      "Train loss after 54784 examples: 2.645\n",
      "Val loss after 54784 examples: 2.774\n"
     ]
    },
    {
     "name": "stderr",
     "output_type": "stream",
     "text": [
      " 34%|███▍      | 34/100 [2:23:52<4:38:42, 253.37s/it]"
     ]
    },
    {
     "name": "stdout",
     "output_type": "stream",
     "text": [
      "Train loss after 55080 examples: 2.874\n",
      "Val loss after 55080 examples: 2.773\n",
      "Train loss after 55296 examples: 2.722\n",
      "Val loss after 55296 examples: 2.772\n",
      "Train loss after 55808 examples: 2.754\n",
      "Val loss after 55808 examples: 2.940\n",
      "Train loss after 56320 examples: 2.921\n",
      "Val loss after 56320 examples: 2.857\n"
     ]
    },
    {
     "name": "stderr",
     "output_type": "stream",
     "text": [
      " 35%|███▌      | 35/100 [2:28:04<4:33:58, 252.91s/it]"
     ]
    },
    {
     "name": "stdout",
     "output_type": "stream",
     "text": [
      "Train loss after 56700 examples: 2.533\n",
      "Val loss after 56700 examples: 2.846\n",
      "Train loss after 56832 examples: 2.874\n",
      "Val loss after 56832 examples: 2.829\n",
      "Train loss after 57344 examples: 2.716\n",
      "Val loss after 57344 examples: 2.802\n",
      "Train loss after 57856 examples: 3.066\n",
      "Val loss after 57856 examples: 2.800\n"
     ]
    },
    {
     "name": "stderr",
     "output_type": "stream",
     "text": [
      " 36%|███▌      | 36/100 [2:32:14<4:29:00, 252.19s/it]"
     ]
    },
    {
     "name": "stdout",
     "output_type": "stream",
     "text": [
      "Train loss after 58320 examples: 2.669\n",
      "Val loss after 58320 examples: 2.784\n",
      "Train loss after 58368 examples: 2.487\n",
      "Val loss after 58368 examples: 2.775\n",
      "Train loss after 58880 examples: 2.620\n",
      "Val loss after 58880 examples: 2.754\n",
      "Train loss after 59392 examples: 2.815\n",
      "Val loss after 59392 examples: 2.739\n",
      "Train loss after 59904 examples: 2.467\n",
      "Val loss after 59904 examples: 2.727\n",
      "Train loss after 59940 examples: 2.623\n",
      "Val loss after 59940 examples: 2.726\n"
     ]
    },
    {
     "name": "stderr",
     "output_type": "stream",
     "text": [
      " 37%|███▋      | 37/100 [2:36:43<4:29:57, 257.10s/it]"
     ]
    },
    {
     "name": "stdout",
     "output_type": "stream",
     "text": [
      "Train loss after 60416 examples: 2.613\n",
      "Val loss after 60416 examples: 2.743\n",
      "Train loss after 60928 examples: 2.422\n",
      "Val loss after 60928 examples: 2.729\n",
      "Train loss after 61440 examples: 2.436\n",
      "Val loss after 61440 examples: 2.738\n"
     ]
    },
    {
     "name": "stderr",
     "output_type": "stream",
     "text": [
      " 38%|███▊      | 38/100 [2:40:54<4:23:41, 255.19s/it]"
     ]
    },
    {
     "name": "stdout",
     "output_type": "stream",
     "text": [
      "Train loss after 61560 examples: 2.808\n",
      "Val loss after 61560 examples: 2.812\n",
      "Train loss after 61952 examples: 2.591\n",
      "Val loss after 61952 examples: 2.775\n",
      "Train loss after 62464 examples: 2.475\n",
      "Val loss after 62464 examples: 2.745\n",
      "Train loss after 62976 examples: 2.610\n",
      "Val loss after 62976 examples: 2.732\n"
     ]
    },
    {
     "name": "stderr",
     "output_type": "stream",
     "text": [
      " 39%|███▉      | 39/100 [2:45:05<4:18:12, 253.97s/it]"
     ]
    },
    {
     "name": "stdout",
     "output_type": "stream",
     "text": [
      "Train loss after 63180 examples: 2.618\n",
      "Val loss after 63180 examples: 2.730\n",
      "Train loss after 63488 examples: 2.562\n",
      "Val loss after 63488 examples: 2.729\n",
      "Train loss after 64000 examples: 2.787\n",
      "Val loss after 64000 examples: 2.719\n",
      "Train loss after 64512 examples: 2.621\n",
      "Val loss after 64512 examples: 2.716\n"
     ]
    },
    {
     "name": "stderr",
     "output_type": "stream",
     "text": [
      " 40%|████      | 40/100 [2:49:16<4:13:10, 253.18s/it]"
     ]
    },
    {
     "name": "stdout",
     "output_type": "stream",
     "text": [
      "Train loss after 64800 examples: 2.589\n",
      "Val loss after 64800 examples: 2.719\n",
      "Train loss after 65024 examples: 2.577\n",
      "Val loss after 65024 examples: 2.689\n",
      "Train loss after 65536 examples: 2.386\n",
      "Val loss after 65536 examples: 2.688\n",
      "Train loss after 66048 examples: 2.210\n",
      "Val loss after 66048 examples: 2.676\n",
      "Train loss after 66420 examples: 2.764\n",
      "Val loss after 66420 examples: 2.666\n"
     ]
    },
    {
     "name": "stderr",
     "output_type": "stream",
     "text": [
      " 41%|████      | 41/100 [2:53:28<4:08:40, 252.89s/it]"
     ]
    },
    {
     "name": "stdout",
     "output_type": "stream",
     "text": [
      "Train loss after 66560 examples: 2.554\n",
      "Val loss after 66560 examples: 2.720\n",
      "Train loss after 67072 examples: 2.303\n",
      "Val loss after 67072 examples: 2.704\n",
      "Train loss after 67584 examples: 2.556\n",
      "Val loss after 67584 examples: 2.688\n",
      "Train loss after 68040 examples: 2.272\n",
      "Val loss after 68040 examples: 2.639\n"
     ]
    },
    {
     "name": "stderr",
     "output_type": "stream",
     "text": [
      " 42%|████▏     | 42/100 [2:57:40<4:04:01, 252.44s/it]"
     ]
    },
    {
     "name": "stdout",
     "output_type": "stream",
     "text": [
      "Train loss after 68096 examples: 2.701\n",
      "Val loss after 68096 examples: 2.650\n",
      "Train loss after 68608 examples: 2.614\n",
      "Val loss after 68608 examples: 2.651\n",
      "Train loss after 69120 examples: 2.463\n",
      "Val loss after 69120 examples: 2.664\n",
      "Train loss after 69632 examples: 2.581\n",
      "Val loss after 69632 examples: 2.636\n"
     ]
    },
    {
     "name": "stderr",
     "output_type": "stream",
     "text": [
      " 43%|████▎     | 43/100 [3:02:07<4:03:55, 256.76s/it]"
     ]
    },
    {
     "name": "stdout",
     "output_type": "stream",
     "text": [
      "Train loss after 69660 examples: 2.332\n",
      "Val loss after 69660 examples: 2.658\n",
      "Train loss after 70144 examples: 2.585\n",
      "Val loss after 70144 examples: 2.614\n",
      "Train loss after 70656 examples: 2.533\n",
      "Val loss after 70656 examples: 2.616\n",
      "Train loss after 71168 examples: 2.570\n",
      "Val loss after 71168 examples: 2.606\n"
     ]
    },
    {
     "name": "stderr",
     "output_type": "stream",
     "text": [
      " 44%|████▍     | 44/100 [3:06:18<3:58:08, 255.15s/it]"
     ]
    },
    {
     "name": "stdout",
     "output_type": "stream",
     "text": [
      "Train loss after 71280 examples: 2.528\n",
      "Val loss after 71280 examples: 2.629\n",
      "Train loss after 71680 examples: 2.375\n",
      "Val loss after 71680 examples: 2.642\n",
      "Train loss after 72192 examples: 2.461\n",
      "Val loss after 72192 examples: 2.638\n",
      "Train loss after 72704 examples: 2.234\n",
      "Val loss after 72704 examples: 2.611\n"
     ]
    },
    {
     "name": "stderr",
     "output_type": "stream",
     "text": [
      " 45%|████▌     | 45/100 [3:10:30<3:52:53, 254.07s/it]"
     ]
    },
    {
     "name": "stdout",
     "output_type": "stream",
     "text": [
      "Train loss after 72900 examples: 2.526\n",
      "Val loss after 72900 examples: 2.610\n",
      "Train loss after 73216 examples: 2.281\n",
      "Val loss after 73216 examples: 2.589\n",
      "Train loss after 73728 examples: 2.468\n",
      "Val loss after 73728 examples: 2.593\n",
      "Train loss after 74240 examples: 2.502\n",
      "Val loss after 74240 examples: 2.563\n"
     ]
    },
    {
     "name": "stderr",
     "output_type": "stream",
     "text": [
      " 46%|████▌     | 46/100 [3:14:42<3:48:09, 253.50s/it]"
     ]
    },
    {
     "name": "stdout",
     "output_type": "stream",
     "text": [
      "Train loss after 74520 examples: 2.453\n",
      "Val loss after 74520 examples: 2.631\n",
      "Train loss after 74752 examples: 2.297\n",
      "Val loss after 74752 examples: 2.552\n",
      "Train loss after 75264 examples: 2.485\n",
      "Val loss after 75264 examples: 2.556\n",
      "Train loss after 75776 examples: 2.219\n",
      "Val loss after 75776 examples: 2.555\n",
      "Train loss after 76140 examples: 2.273\n",
      "Val loss after 76140 examples: 2.548\n"
     ]
    },
    {
     "name": "stderr",
     "output_type": "stream",
     "text": [
      " 47%|████▋     | 47/100 [3:18:54<3:43:35, 253.13s/it]"
     ]
    },
    {
     "name": "stdout",
     "output_type": "stream",
     "text": [
      "Train loss after 76288 examples: 2.240\n",
      "Val loss after 76288 examples: 2.604\n",
      "Train loss after 76800 examples: 2.573\n",
      "Val loss after 76800 examples: 2.595\n",
      "Train loss after 77312 examples: 2.295\n",
      "Val loss after 77312 examples: 2.546\n",
      "Train loss after 77760 examples: 2.301\n",
      "Val loss after 77760 examples: 2.528\n"
     ]
    },
    {
     "name": "stderr",
     "output_type": "stream",
     "text": [
      " 48%|████▊     | 48/100 [3:23:06<3:39:10, 252.90s/it]"
     ]
    },
    {
     "name": "stdout",
     "output_type": "stream",
     "text": [
      "Train loss after 77824 examples: 2.321\n",
      "Val loss after 77824 examples: 2.521\n",
      "Train loss after 78336 examples: 2.571\n",
      "Val loss after 78336 examples: 2.547\n",
      "Train loss after 78848 examples: 2.381\n",
      "Val loss after 78848 examples: 2.555\n",
      "Train loss after 79360 examples: 2.264\n",
      "Val loss after 79360 examples: 2.526\n"
     ]
    },
    {
     "name": "stderr",
     "output_type": "stream",
     "text": [
      " 49%|████▉     | 49/100 [3:27:36<3:39:19, 258.03s/it]"
     ]
    },
    {
     "name": "stdout",
     "output_type": "stream",
     "text": [
      "Train loss after 79380 examples: 2.427\n",
      "Val loss after 79380 examples: 2.549\n",
      "Train loss after 79872 examples: 2.146\n",
      "Val loss after 79872 examples: 2.538\n",
      "Train loss after 80384 examples: 2.371\n",
      "Val loss after 80384 examples: 2.533\n",
      "Train loss after 80896 examples: 2.783\n",
      "Val loss after 80896 examples: 2.529\n",
      "Train loss after 81000 examples: 2.147\n",
      "Val loss after 81000 examples: 2.517\n"
     ]
    },
    {
     "name": "stderr",
     "output_type": "stream",
     "text": [
      " 50%|█████     | 50/100 [3:31:49<3:33:33, 256.27s/it]"
     ]
    },
    {
     "name": "stdout",
     "output_type": "stream",
     "text": [
      "Train loss after 81408 examples: 2.265\n",
      "Val loss after 81408 examples: 2.544\n",
      "Train loss after 81920 examples: 2.416\n",
      "Val loss after 81920 examples: 2.507\n",
      "Train loss after 82432 examples: 2.284\n",
      "Val loss after 82432 examples: 2.494\n"
     ]
    },
    {
     "name": "stderr",
     "output_type": "stream",
     "text": [
      " 51%|█████     | 51/100 [3:36:01<3:28:23, 255.17s/it]"
     ]
    },
    {
     "name": "stdout",
     "output_type": "stream",
     "text": [
      "Train loss after 82620 examples: 2.485\n",
      "Val loss after 82620 examples: 2.507\n",
      "Train loss after 82944 examples: 2.681\n",
      "Val loss after 82944 examples: 2.500\n",
      "Train loss after 83456 examples: 2.365\n",
      "Val loss after 83456 examples: 2.488\n",
      "Train loss after 83968 examples: 2.555\n",
      "Val loss after 83968 examples: 2.487\n",
      "Train loss after 84240 examples: 2.224\n",
      "Val loss after 84240 examples: 2.461\n"
     ]
    },
    {
     "name": "stderr",
     "output_type": "stream",
     "text": [
      " 52%|█████▏    | 52/100 [3:40:14<3:23:36, 254.51s/it]"
     ]
    },
    {
     "name": "stdout",
     "output_type": "stream",
     "text": [
      "Train loss after 84480 examples: 2.002\n",
      "Val loss after 84480 examples: 2.489\n",
      "Train loss after 84992 examples: 2.370\n",
      "Val loss after 84992 examples: 2.465\n",
      "Train loss after 85504 examples: 2.148\n",
      "Val loss after 85504 examples: 2.450\n"
     ]
    },
    {
     "name": "stderr",
     "output_type": "stream",
     "text": [
      " 53%|█████▎    | 53/100 [3:44:28<3:19:07, 254.20s/it]"
     ]
    },
    {
     "name": "stdout",
     "output_type": "stream",
     "text": [
      "Train loss after 85860 examples: 2.388\n",
      "Val loss after 85860 examples: 2.460\n",
      "Train loss after 86016 examples: 2.270\n",
      "Val loss after 86016 examples: 2.465\n",
      "Train loss after 86528 examples: 2.119\n",
      "Val loss after 86528 examples: 2.454\n",
      "Train loss after 87040 examples: 2.583\n",
      "Val loss after 87040 examples: 2.456\n"
     ]
    },
    {
     "name": "stderr",
     "output_type": "stream",
     "text": [
      " 54%|█████▍    | 54/100 [3:48:40<3:14:27, 253.63s/it]"
     ]
    },
    {
     "name": "stdout",
     "output_type": "stream",
     "text": [
      "Train loss after 87480 examples: 2.383\n",
      "Val loss after 87480 examples: 2.531\n",
      "Train loss after 87552 examples: 2.379\n",
      "Val loss after 87552 examples: 2.487\n",
      "Train loss after 88064 examples: 2.379\n",
      "Val loss after 88064 examples: 2.459\n",
      "Train loss after 88576 examples: 2.311\n",
      "Val loss after 88576 examples: 2.441\n",
      "Train loss after 89088 examples: 2.423\n",
      "Val loss after 89088 examples: 2.459\n"
     ]
    },
    {
     "name": "stderr",
     "output_type": "stream",
     "text": [
      " 55%|█████▌    | 55/100 [3:53:07<3:13:09, 257.55s/it]"
     ]
    },
    {
     "name": "stdout",
     "output_type": "stream",
     "text": [
      "Train loss after 89100 examples: 2.244\n",
      "Val loss after 89100 examples: 2.521\n",
      "Train loss after 89600 examples: 2.448\n",
      "Val loss after 89600 examples: 2.434\n",
      "Train loss after 90112 examples: 2.445\n",
      "Val loss after 90112 examples: 2.457\n",
      "Train loss after 90624 examples: 2.076\n",
      "Val loss after 90624 examples: 2.426\n",
      "Train loss after 90720 examples: 1.925\n",
      "Val loss after 90720 examples: 2.412\n"
     ]
    },
    {
     "name": "stderr",
     "output_type": "stream",
     "text": [
      " 56%|█████▌    | 56/100 [3:57:18<3:07:36, 255.82s/it]"
     ]
    },
    {
     "name": "stdout",
     "output_type": "stream",
     "text": [
      "Train loss after 91136 examples: 2.019\n",
      "Val loss after 91136 examples: 2.445\n",
      "Train loss after 91648 examples: 1.892\n",
      "Val loss after 91648 examples: 2.418\n",
      "Train loss after 92160 examples: 2.342\n",
      "Val loss after 92160 examples: 2.412\n"
     ]
    },
    {
     "name": "stderr",
     "output_type": "stream",
     "text": [
      " 57%|█████▋    | 57/100 [4:01:30<3:02:31, 254.68s/it]"
     ]
    },
    {
     "name": "stdout",
     "output_type": "stream",
     "text": [
      "Train loss after 92340 examples: 2.306\n",
      "Val loss after 92340 examples: 2.435\n",
      "Train loss after 92672 examples: 2.359\n",
      "Val loss after 92672 examples: 2.414\n",
      "Train loss after 93184 examples: 2.114\n",
      "Val loss after 93184 examples: 2.421\n",
      "Train loss after 93696 examples: 2.388\n",
      "Val loss after 93696 examples: 2.402\n"
     ]
    },
    {
     "name": "stderr",
     "output_type": "stream",
     "text": [
      " 58%|█████▊    | 58/100 [4:05:42<2:57:38, 253.78s/it]"
     ]
    },
    {
     "name": "stdout",
     "output_type": "stream",
     "text": [
      "Train loss after 93960 examples: 2.416\n",
      "Val loss after 93960 examples: 2.424\n",
      "Train loss after 94208 examples: 2.282\n",
      "Val loss after 94208 examples: 2.415\n",
      "Train loss after 94720 examples: 2.177\n",
      "Val loss after 94720 examples: 2.414\n",
      "Train loss after 95232 examples: 2.303\n",
      "Val loss after 95232 examples: 2.390\n"
     ]
    },
    {
     "name": "stderr",
     "output_type": "stream",
     "text": [
      " 59%|█████▉    | 59/100 [4:09:53<2:52:51, 252.97s/it]"
     ]
    },
    {
     "name": "stdout",
     "output_type": "stream",
     "text": [
      "Train loss after 95580 examples: 2.217\n",
      "Val loss after 95580 examples: 2.411\n",
      "Train loss after 95744 examples: 2.228\n",
      "Val loss after 95744 examples: 2.392\n",
      "Train loss after 96256 examples: 1.993\n",
      "Val loss after 96256 examples: 2.416\n",
      "Train loss after 96768 examples: 2.266\n",
      "Val loss after 96768 examples: 2.399\n"
     ]
    },
    {
     "name": "stderr",
     "output_type": "stream",
     "text": [
      " 60%|██████    | 60/100 [4:14:07<2:48:47, 253.18s/it]"
     ]
    },
    {
     "name": "stdout",
     "output_type": "stream",
     "text": [
      "Train loss after 97200 examples: 2.246\n",
      "Val loss after 97200 examples: 2.397\n",
      "Train loss after 97280 examples: 2.131\n",
      "Val loss after 97280 examples: 2.397\n",
      "Train loss after 97792 examples: 2.040\n",
      "Val loss after 97792 examples: 2.386\n",
      "Train loss after 98304 examples: 2.356\n",
      "Val loss after 98304 examples: 2.391\n",
      "Train loss after 98816 examples: 2.509\n",
      "Val loss after 98816 examples: 2.392\n"
     ]
    },
    {
     "name": "stderr",
     "output_type": "stream",
     "text": [
      " 61%|██████    | 61/100 [4:18:36<2:47:44, 258.08s/it]"
     ]
    },
    {
     "name": "stdout",
     "output_type": "stream",
     "text": [
      "Train loss after 98820 examples: 2.309\n",
      "Val loss after 98820 examples: 2.395\n",
      "Train loss after 99328 examples: 2.013\n",
      "Val loss after 99328 examples: 2.377\n",
      "Train loss after 99840 examples: 2.253\n",
      "Val loss after 99840 examples: 2.397\n",
      "Train loss after 100352 examples: 2.299\n",
      "Val loss after 100352 examples: 2.386\n"
     ]
    },
    {
     "name": "stderr",
     "output_type": "stream",
     "text": [
      " 62%|██████▏   | 62/100 [4:22:50<2:42:31, 256.62s/it]"
     ]
    },
    {
     "name": "stdout",
     "output_type": "stream",
     "text": [
      "Train loss after 100440 examples: 2.395\n",
      "Val loss after 100440 examples: 2.385\n",
      "Train loss after 100864 examples: 2.166\n",
      "Val loss after 100864 examples: 2.379\n",
      "Train loss after 101376 examples: 2.098\n",
      "Val loss after 101376 examples: 2.391\n",
      "Train loss after 101888 examples: 2.200\n",
      "Val loss after 101888 examples: 2.378\n"
     ]
    },
    {
     "name": "stderr",
     "output_type": "stream",
     "text": [
      " 63%|██████▎   | 63/100 [4:27:02<2:37:23, 255.22s/it]"
     ]
    },
    {
     "name": "stdout",
     "output_type": "stream",
     "text": [
      "Train loss after 102060 examples: 2.186\n",
      "Val loss after 102060 examples: 2.379\n",
      "Train loss after 102400 examples: 2.287\n",
      "Val loss after 102400 examples: 2.385\n",
      "Train loss after 102912 examples: 2.166\n",
      "Val loss after 102912 examples: 2.384\n",
      "Train loss after 103424 examples: 2.319\n",
      "Val loss after 103424 examples: 2.379\n",
      "Train loss after 103680 examples: 1.821\n",
      "Val loss after 103680 examples: 2.375\n"
     ]
    },
    {
     "name": "stderr",
     "output_type": "stream",
     "text": [
      " 64%|██████▍   | 64/100 [4:31:14<2:32:36, 254.35s/it]"
     ]
    },
    {
     "name": "stdout",
     "output_type": "stream",
     "text": [
      "Train loss after 103936 examples: 2.322\n",
      "Val loss after 103936 examples: 2.374\n",
      "Train loss after 104448 examples: 2.174\n",
      "Val loss after 104448 examples: 2.376\n",
      "Train loss after 104960 examples: 2.186\n",
      "Val loss after 104960 examples: 2.384\n"
     ]
    },
    {
     "name": "stderr",
     "output_type": "stream",
     "text": [
      " 65%|██████▌   | 65/100 [4:35:25<2:27:53, 253.54s/it]"
     ]
    },
    {
     "name": "stdout",
     "output_type": "stream",
     "text": [
      "Train loss after 105300 examples: 2.313\n",
      "Val loss after 105300 examples: 2.383\n",
      "Train loss after 105472 examples: 2.056\n",
      "Val loss after 105472 examples: 2.381\n",
      "Train loss after 105984 examples: 2.194\n",
      "Val loss after 105984 examples: 2.374\n",
      "Train loss after 106496 examples: 2.240\n",
      "Val loss after 106496 examples: 2.373\n"
     ]
    },
    {
     "name": "stderr",
     "output_type": "stream",
     "text": [
      " 66%|██████▌   | 66/100 [4:39:38<2:23:29, 253.23s/it]"
     ]
    },
    {
     "name": "stdout",
     "output_type": "stream",
     "text": [
      "Train loss after 106920 examples: 2.331\n",
      "Val loss after 106920 examples: 2.378\n",
      "Train loss after 107008 examples: 2.269\n",
      "Val loss after 107008 examples: 2.379\n",
      "Train loss after 107520 examples: 2.047\n",
      "Val loss after 107520 examples: 2.377\n",
      "Train loss after 108032 examples: 2.263\n",
      "Val loss after 108032 examples: 2.375\n"
     ]
    },
    {
     "name": "stderr",
     "output_type": "stream",
     "text": [
      " 67%|██████▋   | 67/100 [4:43:48<2:18:44, 252.26s/it]"
     ]
    },
    {
     "name": "stdout",
     "output_type": "stream",
     "text": [
      "Train loss after 108540 examples: 2.565\n",
      "Val loss after 108540 examples: 2.374\n",
      "Train loss after 108544 examples: 2.206\n",
      "Val loss after 108544 examples: 2.375\n",
      "Train loss after 109056 examples: 2.188\n",
      "Val loss after 109056 examples: 2.376\n",
      "Train loss after 109568 examples: 1.994\n",
      "Val loss after 109568 examples: 2.374\n",
      "Train loss after 110080 examples: 2.281\n",
      "Val loss after 110080 examples: 2.374\n"
     ]
    },
    {
     "name": "stderr",
     "output_type": "stream",
     "text": [
      " 68%|██████▊   | 68/100 [4:48:16<2:17:06, 257.07s/it]"
     ]
    },
    {
     "name": "stdout",
     "output_type": "stream",
     "text": [
      "Train loss after 110160 examples: 2.352\n",
      "Val loss after 110160 examples: 2.374\n",
      "Train loss after 110592 examples: 2.029\n",
      "Val loss after 110592 examples: 2.377\n",
      "Train loss after 111104 examples: 2.243\n",
      "Val loss after 111104 examples: 2.375\n",
      "Train loss after 111616 examples: 1.917\n",
      "Val loss after 111616 examples: 2.375\n"
     ]
    },
    {
     "name": "stderr",
     "output_type": "stream",
     "text": [
      " 69%|██████▉   | 69/100 [4:52:28<2:11:59, 255.46s/it]"
     ]
    },
    {
     "name": "stdout",
     "output_type": "stream",
     "text": [
      "Train loss after 111780 examples: 2.093\n",
      "Val loss after 111780 examples: 2.376\n",
      "Train loss after 112128 examples: 2.133\n",
      "Val loss after 112128 examples: 2.374\n",
      "Train loss after 112640 examples: 2.251\n",
      "Val loss after 112640 examples: 3.156\n",
      "Train loss after 113152 examples: 2.322\n",
      "Val loss after 113152 examples: 2.645\n"
     ]
    },
    {
     "name": "stderr",
     "output_type": "stream",
     "text": [
      " 70%|███████   | 70/100 [4:56:42<2:07:29, 254.99s/it]"
     ]
    },
    {
     "name": "stdout",
     "output_type": "stream",
     "text": [
      "Train loss after 113400 examples: 2.319\n",
      "Val loss after 113400 examples: 2.562\n",
      "Train loss after 113664 examples: 2.666\n",
      "Val loss after 113664 examples: 2.614\n",
      "Train loss after 114176 examples: 2.433\n",
      "Val loss after 114176 examples: 2.573\n",
      "Train loss after 114688 examples: 2.674\n",
      "Val loss after 114688 examples: 2.507\n"
     ]
    },
    {
     "name": "stderr",
     "output_type": "stream",
     "text": [
      " 71%|███████   | 71/100 [5:00:54<2:02:47, 254.06s/it]"
     ]
    },
    {
     "name": "stdout",
     "output_type": "stream",
     "text": [
      "Train loss after 115020 examples: 2.372\n",
      "Val loss after 115020 examples: 2.555\n",
      "Train loss after 115200 examples: 2.544\n",
      "Val loss after 115200 examples: 2.520\n",
      "Train loss after 115712 examples: 2.603\n",
      "Val loss after 115712 examples: 2.518\n",
      "Train loss after 116224 examples: 2.152\n",
      "Val loss after 116224 examples: 2.501\n"
     ]
    },
    {
     "name": "stderr",
     "output_type": "stream",
     "text": [
      " 72%|███████▏  | 72/100 [5:05:05<1:58:07, 253.13s/it]"
     ]
    },
    {
     "name": "stdout",
     "output_type": "stream",
     "text": [
      "Train loss after 116640 examples: 2.604\n",
      "Val loss after 116640 examples: 2.488\n",
      "Train loss after 116736 examples: 2.284\n",
      "Val loss after 116736 examples: 2.459\n",
      "Train loss after 117248 examples: 2.456\n",
      "Val loss after 117248 examples: 2.469\n",
      "Train loss after 117760 examples: 2.462\n",
      "Val loss after 117760 examples: 2.457\n"
     ]
    },
    {
     "name": "stderr",
     "output_type": "stream",
     "text": [
      " 73%|███████▎  | 73/100 [5:09:16<1:53:39, 252.58s/it]"
     ]
    },
    {
     "name": "stdout",
     "output_type": "stream",
     "text": [
      "Train loss after 118260 examples: 2.227\n",
      "Val loss after 118260 examples: 2.437\n",
      "Train loss after 118272 examples: 2.253\n",
      "Val loss after 118272 examples: 2.436\n",
      "Train loss after 118784 examples: 2.559\n",
      "Val loss after 118784 examples: 2.450\n",
      "Train loss after 119296 examples: 2.448\n",
      "Val loss after 119296 examples: 2.428\n",
      "Train loss after 119808 examples: 2.407\n",
      "Val loss after 119808 examples: 2.429\n"
     ]
    },
    {
     "name": "stderr",
     "output_type": "stream",
     "text": [
      " 74%|███████▍  | 74/100 [5:13:44<1:51:24, 257.10s/it]"
     ]
    },
    {
     "name": "stdout",
     "output_type": "stream",
     "text": [
      "Train loss after 119880 examples: 2.304\n",
      "Val loss after 119880 examples: 2.424\n",
      "Train loss after 120320 examples: 2.267\n",
      "Val loss after 120320 examples: 2.419\n",
      "Train loss after 120832 examples: 2.175\n",
      "Val loss after 120832 examples: 2.394\n",
      "Train loss after 121344 examples: 2.418\n",
      "Val loss after 121344 examples: 2.390\n"
     ]
    },
    {
     "name": "stderr",
     "output_type": "stream",
     "text": [
      " 75%|███████▌  | 75/100 [5:17:56<1:46:32, 255.72s/it]"
     ]
    },
    {
     "name": "stdout",
     "output_type": "stream",
     "text": [
      "Train loss after 121500 examples: 2.355\n",
      "Val loss after 121500 examples: 2.447\n",
      "Train loss after 121856 examples: 2.376\n",
      "Val loss after 121856 examples: 2.412\n",
      "Train loss after 122368 examples: 2.134\n",
      "Val loss after 122368 examples: 2.446\n",
      "Train loss after 122880 examples: 2.440\n",
      "Val loss after 122880 examples: 2.423\n"
     ]
    },
    {
     "name": "stderr",
     "output_type": "stream",
     "text": [
      " 76%|███████▌  | 76/100 [5:22:07<1:41:45, 254.40s/it]"
     ]
    },
    {
     "name": "stdout",
     "output_type": "stream",
     "text": [
      "Train loss after 123120 examples: 2.574\n",
      "Val loss after 123120 examples: 2.383\n",
      "Train loss after 123392 examples: 2.499\n",
      "Val loss after 123392 examples: 2.399\n",
      "Train loss after 123904 examples: 2.464\n",
      "Val loss after 123904 examples: 2.407\n",
      "Train loss after 124416 examples: 2.426\n",
      "Val loss after 124416 examples: 2.379\n"
     ]
    },
    {
     "name": "stderr",
     "output_type": "stream",
     "text": [
      " 77%|███████▋  | 77/100 [5:26:19<1:37:13, 253.62s/it]"
     ]
    },
    {
     "name": "stdout",
     "output_type": "stream",
     "text": [
      "Train loss after 124740 examples: 1.961\n",
      "Val loss after 124740 examples: 2.394\n",
      "Train loss after 124928 examples: 2.228\n",
      "Val loss after 124928 examples: 2.368\n",
      "Train loss after 125440 examples: 2.259\n",
      "Val loss after 125440 examples: 2.377\n",
      "Train loss after 125952 examples: 2.074\n",
      "Val loss after 125952 examples: 2.354\n"
     ]
    },
    {
     "name": "stderr",
     "output_type": "stream",
     "text": [
      " 78%|███████▊  | 78/100 [5:30:32<1:32:53, 253.36s/it]"
     ]
    },
    {
     "name": "stdout",
     "output_type": "stream",
     "text": [
      "Train loss after 126360 examples: 2.195\n",
      "Val loss after 126360 examples: 2.405\n",
      "Train loss after 126464 examples: 2.169\n",
      "Val loss after 126464 examples: 2.378\n",
      "Train loss after 126976 examples: 2.458\n",
      "Val loss after 126976 examples: 2.383\n",
      "Train loss after 127488 examples: 2.194\n",
      "Val loss after 127488 examples: 2.375\n"
     ]
    },
    {
     "name": "stderr",
     "output_type": "stream",
     "text": [
      " 79%|███████▉  | 79/100 [5:34:44<1:28:33, 253.04s/it]"
     ]
    },
    {
     "name": "stdout",
     "output_type": "stream",
     "text": [
      "Train loss after 127980 examples: 2.430\n",
      "Val loss after 127980 examples: 2.365\n",
      "Train loss after 128000 examples: 2.286\n",
      "Val loss after 128000 examples: 2.374\n",
      "Train loss after 128512 examples: 2.204\n",
      "Val loss after 128512 examples: 2.333\n",
      "Train loss after 129024 examples: 2.283\n",
      "Val loss after 129024 examples: 2.344\n",
      "Train loss after 129536 examples: 2.159\n",
      "Val loss after 129536 examples: 2.321\n"
     ]
    },
    {
     "name": "stderr",
     "output_type": "stream",
     "text": [
      " 80%|████████  | 80/100 [5:39:13<1:25:54, 257.71s/it]"
     ]
    },
    {
     "name": "stdout",
     "output_type": "stream",
     "text": [
      "Train loss after 129600 examples: 2.366\n",
      "Val loss after 129600 examples: 2.323\n",
      "Train loss after 130048 examples: 2.234\n",
      "Val loss after 130048 examples: 2.335\n",
      "Train loss after 130560 examples: 2.301\n",
      "Val loss after 130560 examples: 2.353\n",
      "Train loss after 131072 examples: 1.953\n",
      "Val loss after 131072 examples: 2.331\n",
      "Train loss after 131220 examples: 2.011\n",
      "Val loss after 131220 examples: 2.300\n"
     ]
    },
    {
     "name": "stderr",
     "output_type": "stream",
     "text": [
      " 81%|████████  | 81/100 [5:43:23<1:20:55, 255.55s/it]"
     ]
    },
    {
     "name": "stdout",
     "output_type": "stream",
     "text": [
      "Train loss after 131584 examples: 2.146\n",
      "Val loss after 131584 examples: 2.323\n",
      "Train loss after 132096 examples: 2.041\n",
      "Val loss after 132096 examples: 2.312\n",
      "Train loss after 132608 examples: 1.871\n",
      "Val loss after 132608 examples: 2.273\n",
      "Train loss after 132840 examples: 2.208\n",
      "Val loss after 132840 examples: 2.271\n"
     ]
    },
    {
     "name": "stderr",
     "output_type": "stream",
     "text": [
      " 82%|████████▏ | 82/100 [5:47:35<1:16:19, 254.43s/it]"
     ]
    },
    {
     "name": "stdout",
     "output_type": "stream",
     "text": [
      "Train loss after 133120 examples: 2.048\n",
      "Val loss after 133120 examples: 2.279\n",
      "Train loss after 133632 examples: 2.010\n",
      "Val loss after 133632 examples: 2.278\n",
      "Train loss after 134144 examples: 2.222\n",
      "Val loss after 134144 examples: 2.315\n"
     ]
    },
    {
     "name": "stderr",
     "output_type": "stream",
     "text": [
      " 83%|████████▎ | 83/100 [5:51:47<1:11:53, 253.73s/it]"
     ]
    },
    {
     "name": "stdout",
     "output_type": "stream",
     "text": [
      "Train loss after 134460 examples: 2.143\n",
      "Val loss after 134460 examples: 2.286\n",
      "Train loss after 134656 examples: 1.932\n",
      "Val loss after 134656 examples: 2.350\n",
      "Train loss after 135168 examples: 2.347\n",
      "Val loss after 135168 examples: 2.238\n",
      "Train loss after 135680 examples: 2.142\n",
      "Val loss after 135680 examples: 2.230\n"
     ]
    },
    {
     "name": "stderr",
     "output_type": "stream",
     "text": [
      " 84%|████████▍ | 84/100 [5:56:00<1:07:32, 253.28s/it]"
     ]
    },
    {
     "name": "stdout",
     "output_type": "stream",
     "text": [
      "Train loss after 136080 examples: 2.322\n",
      "Val loss after 136080 examples: 2.308\n",
      "Train loss after 136192 examples: 2.286\n",
      "Val loss after 136192 examples: 2.310\n",
      "Train loss after 136704 examples: 2.143\n",
      "Val loss after 136704 examples: 2.278\n",
      "Train loss after 137216 examples: 1.839\n",
      "Val loss after 137216 examples: 2.259\n"
     ]
    },
    {
     "name": "stderr",
     "output_type": "stream",
     "text": [
      " 85%|████████▌ | 85/100 [6:00:12<1:03:14, 252.99s/it]"
     ]
    },
    {
     "name": "stdout",
     "output_type": "stream",
     "text": [
      "Train loss after 137700 examples: 2.076\n",
      "Val loss after 137700 examples: 2.286\n",
      "Train loss after 137728 examples: 2.035\n",
      "Val loss after 137728 examples: 2.292\n",
      "Train loss after 138240 examples: 2.349\n",
      "Val loss after 138240 examples: 2.267\n",
      "Train loss after 138752 examples: 1.898\n",
      "Val loss after 138752 examples: 2.253\n",
      "Train loss after 139264 examples: 2.152\n",
      "Val loss after 139264 examples: 2.247\n"
     ]
    },
    {
     "name": "stderr",
     "output_type": "stream",
     "text": [
      " 86%|████████▌ | 86/100 [6:04:41<1:00:07, 257.70s/it]"
     ]
    },
    {
     "name": "stdout",
     "output_type": "stream",
     "text": [
      "Train loss after 139320 examples: 1.990\n",
      "Val loss after 139320 examples: 2.256\n",
      "Train loss after 139776 examples: 2.167\n",
      "Val loss after 139776 examples: 2.324\n",
      "Train loss after 140288 examples: 2.087\n",
      "Val loss after 140288 examples: 2.253\n",
      "Train loss after 140800 examples: 2.137\n",
      "Val loss after 140800 examples: 2.254\n",
      "Train loss after 140940 examples: 2.081\n",
      "Val loss after 140940 examples: 2.225\n"
     ]
    },
    {
     "name": "stderr",
     "output_type": "stream",
     "text": [
      " 87%|████████▋ | 87/100 [6:08:54<55:34, 256.51s/it]  "
     ]
    },
    {
     "name": "stdout",
     "output_type": "stream",
     "text": [
      "Train loss after 141312 examples: 1.933\n",
      "Val loss after 141312 examples: 2.196\n",
      "Train loss after 141824 examples: 2.240\n",
      "Val loss after 141824 examples: 2.200\n",
      "Train loss after 142336 examples: 1.943\n",
      "Val loss after 142336 examples: 2.183\n"
     ]
    },
    {
     "name": "stderr",
     "output_type": "stream",
     "text": [
      " 88%|████████▊ | 88/100 [6:13:01<50:42, 253.58s/it]"
     ]
    },
    {
     "name": "stdout",
     "output_type": "stream",
     "text": [
      "Train loss after 142560 examples: 1.926\n",
      "Val loss after 142560 examples: 2.189\n",
      "Train loss after 142848 examples: 2.231\n",
      "Val loss after 142848 examples: 2.188\n",
      "Train loss after 143360 examples: 2.148\n",
      "Val loss after 143360 examples: 2.167\n",
      "Train loss after 143872 examples: 2.197\n",
      "Val loss after 143872 examples: 2.209\n"
     ]
    },
    {
     "name": "stderr",
     "output_type": "stream",
     "text": [
      " 89%|████████▉ | 89/100 [6:16:55<45:25, 247.80s/it]"
     ]
    },
    {
     "name": "stdout",
     "output_type": "stream",
     "text": [
      "Train loss after 144180 examples: 2.013\n",
      "Val loss after 144180 examples: 2.203\n",
      "Train loss after 144384 examples: 1.925\n",
      "Val loss after 144384 examples: 2.219\n",
      "Train loss after 144896 examples: 2.154\n",
      "Val loss after 144896 examples: 2.198\n",
      "Train loss after 145408 examples: 2.166\n",
      "Val loss after 145408 examples: 2.213\n"
     ]
    },
    {
     "name": "stderr",
     "output_type": "stream",
     "text": [
      " 90%|█████████ | 90/100 [6:20:50<40:37, 243.78s/it]"
     ]
    },
    {
     "name": "stdout",
     "output_type": "stream",
     "text": [
      "Train loss after 145800 examples: 2.185\n",
      "Val loss after 145800 examples: 2.310\n",
      "Train loss after 145920 examples: 2.046\n",
      "Val loss after 145920 examples: 2.153\n",
      "Train loss after 146432 examples: 2.096\n",
      "Val loss after 146432 examples: 2.168\n",
      "Train loss after 146944 examples: 2.226\n",
      "Val loss after 146944 examples: 2.137\n"
     ]
    },
    {
     "name": "stderr",
     "output_type": "stream",
     "text": [
      " 91%|█████████ | 91/100 [6:24:44<36:08, 240.96s/it]"
     ]
    },
    {
     "name": "stdout",
     "output_type": "stream",
     "text": [
      "Train loss after 147420 examples: 1.991\n",
      "Val loss after 147420 examples: 2.153\n",
      "Train loss after 147456 examples: 2.122\n",
      "Val loss after 147456 examples: 2.152\n",
      "Train loss after 147968 examples: 1.978\n",
      "Val loss after 147968 examples: 2.155\n",
      "Train loss after 148480 examples: 1.832\n",
      "Val loss after 148480 examples: 2.148\n",
      "Train loss after 148992 examples: 2.020\n",
      "Val loss after 148992 examples: 2.135\n"
     ]
    },
    {
     "name": "stderr",
     "output_type": "stream",
     "text": [
      " 92%|█████████▏| 92/100 [6:28:52<32:23, 242.91s/it]"
     ]
    },
    {
     "name": "stdout",
     "output_type": "stream",
     "text": [
      "Train loss after 149040 examples: 1.723\n",
      "Val loss after 149040 examples: 2.150\n",
      "Train loss after 149504 examples: 2.016\n",
      "Val loss after 149504 examples: 2.130\n",
      "Train loss after 150016 examples: 1.900\n",
      "Val loss after 150016 examples: 2.111\n",
      "Train loss after 150528 examples: 1.843\n",
      "Val loss after 150528 examples: 2.113\n"
     ]
    },
    {
     "name": "stderr",
     "output_type": "stream",
     "text": [
      " 93%|█████████▎| 93/100 [6:32:45<28:01, 240.17s/it]"
     ]
    },
    {
     "name": "stdout",
     "output_type": "stream",
     "text": [
      "Train loss after 150660 examples: 2.171\n",
      "Val loss after 150660 examples: 2.295\n",
      "Train loss after 151040 examples: 2.039\n",
      "Val loss after 151040 examples: 2.198\n",
      "Train loss after 151552 examples: 2.135\n",
      "Val loss after 151552 examples: 2.134\n",
      "Train loss after 152064 examples: 2.196\n",
      "Val loss after 152064 examples: 2.138\n"
     ]
    },
    {
     "name": "stderr",
     "output_type": "stream",
     "text": [
      " 94%|█████████▍| 94/100 [6:36:39<23:49, 238.28s/it]"
     ]
    },
    {
     "name": "stdout",
     "output_type": "stream",
     "text": [
      "Train loss after 152280 examples: 1.910\n",
      "Val loss after 152280 examples: 2.203\n",
      "Train loss after 152576 examples: 2.047\n",
      "Val loss after 152576 examples: 2.134\n",
      "Train loss after 153088 examples: 2.069\n",
      "Val loss after 153088 examples: 2.121\n",
      "Train loss after 153600 examples: 2.161\n",
      "Val loss after 153600 examples: 2.134\n",
      "Train loss after 153900 examples: 1.747\n",
      "Val loss after 153900 examples: 2.104\n"
     ]
    },
    {
     "name": "stderr",
     "output_type": "stream",
     "text": [
      " 95%|█████████▌| 95/100 [6:40:33<19:45, 237.04s/it]"
     ]
    },
    {
     "name": "stdout",
     "output_type": "stream",
     "text": [
      "Train loss after 154112 examples: 1.788\n",
      "Val loss after 154112 examples: 2.102\n",
      "Train loss after 154624 examples: 1.845\n",
      "Val loss after 154624 examples: 2.091\n",
      "Train loss after 155136 examples: 1.926\n",
      "Val loss after 155136 examples: 2.120\n",
      "Train loss after 155520 examples: 1.857\n",
      "Val loss after 155520 examples: 2.087\n"
     ]
    },
    {
     "name": "stderr",
     "output_type": "stream",
     "text": [
      " 96%|█████████▌| 96/100 [6:44:28<15:45, 236.35s/it]"
     ]
    },
    {
     "name": "stdout",
     "output_type": "stream",
     "text": [
      "Train loss after 155648 examples: 1.952\n",
      "Val loss after 155648 examples: 2.078\n",
      "Train loss after 156160 examples: 2.116\n",
      "Val loss after 156160 examples: 2.108\n",
      "Train loss after 156672 examples: 2.355\n",
      "Val loss after 156672 examples: 2.082\n"
     ]
    },
    {
     "name": "stderr",
     "output_type": "stream",
     "text": [
      " 97%|█████████▋| 97/100 [6:48:22<11:46, 235.63s/it]"
     ]
    },
    {
     "name": "stdout",
     "output_type": "stream",
     "text": [
      "Train loss after 157140 examples: 2.029\n",
      "Val loss after 157140 examples: 2.113\n",
      "Train loss after 157184 examples: 1.818\n",
      "Val loss after 157184 examples: 2.102\n",
      "Train loss after 157696 examples: 2.004\n",
      "Val loss after 157696 examples: 2.068\n",
      "Train loss after 158208 examples: 1.964\n",
      "Val loss after 158208 examples: 2.089\n",
      "Train loss after 158720 examples: 2.142\n",
      "Val loss after 158720 examples: 2.070\n"
     ]
    },
    {
     "name": "stderr",
     "output_type": "stream",
     "text": [
      " 98%|█████████▊| 98/100 [6:52:30<07:58, 239.27s/it]"
     ]
    },
    {
     "name": "stdout",
     "output_type": "stream",
     "text": [
      "Train loss after 158760 examples: 1.893\n",
      "Val loss after 158760 examples: 2.086\n",
      "Train loss after 159232 examples: 1.804\n",
      "Val loss after 159232 examples: 2.062\n",
      "Train loss after 159744 examples: 1.897\n",
      "Val loss after 159744 examples: 2.060\n",
      "Train loss after 160256 examples: 2.009\n",
      "Val loss after 160256 examples: 2.064\n"
     ]
    },
    {
     "name": "stderr",
     "output_type": "stream",
     "text": [
      " 99%|█████████▉| 99/100 [6:56:24<03:57, 237.84s/it]"
     ]
    },
    {
     "name": "stdout",
     "output_type": "stream",
     "text": [
      "Train loss after 160380 examples: 1.781\n",
      "Val loss after 160380 examples: 2.081\n",
      "Train loss after 160768 examples: 2.080\n",
      "Val loss after 160768 examples: 2.103\n",
      "Train loss after 161280 examples: 1.876\n",
      "Val loss after 161280 examples: 2.080\n",
      "Train loss after 161792 examples: 1.902\n",
      "Val loss after 161792 examples: 2.080\n"
     ]
    },
    {
     "name": "stderr",
     "output_type": "stream",
     "text": [
      "100%|██████████| 100/100 [7:00:18<00:00, 252.19s/it]"
     ]
    },
    {
     "name": "stdout",
     "output_type": "stream",
     "text": [
      "Train loss after 162000 examples: 1.779\n",
      "Val loss after 162000 examples: 2.098\n"
     ]
    },
    {
     "name": "stderr",
     "output_type": "stream",
     "text": [
      "\n"
     ]
    },
    {
     "data": {
      "text/html": [
       "<style>\n",
       "    table.wandb td:nth-child(1) { padding: 0 10px; text-align: left ; width: auto;} td:nth-child(2) {text-align: left ; width: 100%}\n",
       "    .wandb-row { display: flex; flex-direction: row; flex-wrap: wrap; justify-content: flex-start; width: 100% }\n",
       "    .wandb-col { display: flex; flex-direction: column; flex-basis: 100%; flex: 1; padding: 10px; }\n",
       "    </style>\n",
       "<div class=\"wandb-row\"><div class=\"wandb-col\"><h3>Run history:</h3><br/><table class=\"wandb\"><tr><td>epoch</td><td>▁▁▁▁▂▂▂▂▂▃▃▃▃▃▃▄▄▄▄▄▅▅▅▅▅▆▆▆▆▆▆▇▇▇▇▇████</td></tr><tr><td>train_loss</td><td>██▇▇▆▅▆▇▅▄▅▃▅▄▆▄▃▄▃▃▄▃▃▃▃▂▂▂▄▃▂▃▁▁▂▂▂▂▁▁</td></tr><tr><td>val_loss</td><td>█▇▇▇▆▅▅▅▄▄▄▄▄▄▄▃▃▃▃▃▃▃▂▂▂▂▂▂▃▂▂▂▂▂▂▁▁▁▁▁</td></tr></table><br/></div><div class=\"wandb-col\"><h3>Run summary:</h3><br/><table class=\"wandb\"><tr><td>epoch</td><td>99</td></tr><tr><td>train_loss</td><td>1.77871</td></tr><tr><td>val_loss</td><td>2.09775</td></tr></table><br/></div></div>"
      ],
      "text/plain": [
       "<IPython.core.display.HTML object>"
      ]
     },
     "metadata": {},
     "output_type": "display_data"
    },
    {
     "data": {
      "text/html": [
       " View run <strong style=\"color:#cdcd00\">bright-lake-17</strong> at: <a href='https://wandb.ai/nhikieu/drfuse/runs/85xqksmz' target=\"_blank\">https://wandb.ai/nhikieu/drfuse/runs/85xqksmz</a><br/> View project at: <a href='https://wandb.ai/nhikieu/drfuse' target=\"_blank\">https://wandb.ai/nhikieu/drfuse</a><br/>Synced 5 W&B file(s), 1248 media file(s), 0 artifact file(s) and 0 other file(s)"
      ],
      "text/plain": [
       "<IPython.core.display.HTML object>"
      ]
     },
     "metadata": {},
     "output_type": "display_data"
    },
    {
     "data": {
      "text/html": [
       "Find logs at: <code>.\\wandb\\run-20240711_104548-85xqksmz\\logs</code>"
      ],
      "text/plain": [
       "<IPython.core.display.HTML object>"
      ]
     },
     "metadata": {},
     "output_type": "display_data"
    },
    {
     "data": {
      "text/html": [
       "The new W&B backend becomes opt-out in version 0.18.0; try it out with `wandb.require(\"core\")`! See https://wandb.me/wandb-core for more information."
      ],
      "text/plain": [
       "<IPython.core.display.HTML object>"
      ]
     },
     "metadata": {},
     "output_type": "display_data"
    }
   ],
   "source": [
    "ckpt_path = r\"D:\\drfuse\\checkpoints\\1720658579\\1720683639_loss2.0603\"\n",
    "with wandb.init(project=\"drfuse\", entity=\"nhikieu\", config=EXPERIMENT_CONFIG):\n",
    "    config = wandb.config\n",
    "    model_trainer = DrFuse_RS_Trainer(config, pretrain=True, ckpt_path=ckpt_path)\n",
    "    model_trainer(train_loader, validate_loader)"
   ]
  },
  {
   "cell_type": "markdown",
   "metadata": {},
   "source": [
    "# Unit Test"
   ]
  },
  {
   "cell_type": "code",
   "execution_count": 2,
   "metadata": {},
   "outputs": [
    {
     "name": "stderr",
     "output_type": "stream",
     "text": [
      "/Users/nhikieu/Documents/GitHub/drfuse/drfuse_venv/lib/python3.9/site-packages/torch/nn/modules/instancenorm.py:115: UserWarning: input's size at dim=0 does not match num_features. You can silence this warning by not passing in num_features, which is not used because affine=False\n",
      "  warnings.warn(\n"
     ]
    },
    {
     "name": "stdout",
     "output_type": "stream",
     "text": [
      "torch.Size([6, 6, 512, 512]) torch.Size([6, 6, 512, 512]) torch.Size([6, 6, 512, 512]) torch.Size([6, 6, 512, 512]) torch.Size([6, 6, 512, 512])\n"
     ]
    }
   ],
   "source": [
    "dummies = torch.rand(6, 4, 512, 512)\n",
    "masks = torch.FloatTensor([True, False, True, True, False, False])\n",
    "model = DrFuse_RS_Model()\n",
    "results = model(dummies, masks)\n",
    "print(results['pred_rgb'].shape, results['pred_ndsm'].shape, \n",
    "      results['pred_shared'].shape, results['pred_multimodal'].shape,\n",
    "      results['aux_preds'][0].shape)\n",
    "\n",
    "# Assuming model is an instance of a class derived from torch.nn.Module\n",
    "total_params = sum(p.numel() for p in model.parameters() if p.requires_grad)\n",
    "\n",
    "print(f\"Total trainable parameters: {total_params}\")"
   ]
  },
  {
   "cell_type": "code",
   "execution_count": null,
   "metadata": {},
   "outputs": [],
   "source": [
    "pairs = torch.FloatTensor([True, False, True, False, True, True])\n",
    "pairs = pairs.unsqueeze(1)\n",
    "feat_dummy = torch.randn(6, 512)\n",
    "test = pairs*feat_dummy\n",
    "test"
   ]
  },
  {
   "cell_type": "code",
   "execution_count": null,
   "metadata": {},
   "outputs": [],
   "source": [
    "for i, (input_4C, gt, mask) in enumerate(validate_loader):\n",
    "  print(input_4C.shape, gt.shape, mask.shape)\n",
    "  print(mask)\n",
    "  break"
   ]
  }
 ],
 "metadata": {
  "kernelspec": {
   "display_name": "drfuse_venv",
   "language": "python",
   "name": "python3"
  },
  "language_info": {
   "codemirror_mode": {
    "name": "ipython",
    "version": 3
   },
   "file_extension": ".py",
   "mimetype": "text/x-python",
   "name": "python",
   "nbconvert_exporter": "python",
   "pygments_lexer": "ipython3",
   "version": "3.9.12"
  }
 },
 "nbformat": 4,
 "nbformat_minor": 2
}
